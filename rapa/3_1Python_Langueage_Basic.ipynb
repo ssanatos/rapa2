{
 "cells": [
  {
   "cell_type": "code",
   "execution_count": null,
   "id": "747090a1",
   "metadata": {},
   "outputs": [],
   "source": [
    "import os\n",
    "\n",
    "#모듈의 위치 확인하기.\n",
    "print(os.__file__)\n",
    "print(1, os.path.dirname(os.__file__))   # 안뜸\n",
    "print(2, os.path.realpath(os.__file__))   #현재 파일이 있든 없든 뜬다. 왜지?\n",
    "print(3, os.path.abspath(os.__file__))    \n",
    "print(4, os.getcwd())    #현재 프로그램이 실행되는 디렉토리. 제일 많이 사용.\n",
    "print(5, os.path.dirname(os.path.realpath(os.__file__)))  "
   ]
  },
  {
   "cell_type": "code",
   "execution_count": 1,
   "id": "f76cbc4c",
   "metadata": {},
   "outputs": [
    {
     "name": "stdout",
     "output_type": "stream",
     "text": [
      "c:\\python\\python38\\lib\\random.py\n",
      "1 c:\\python\\python38\\lib\n",
      "2 C:\\python\\Python38\\Lib\\random.py\n",
      "3 c:\\python\\python38\\lib\\random.py\n",
      "4 C:\\python\\rapa\n",
      "5 C:\\python\\Python38\\Lib\n"
     ]
    }
   ],
   "source": [
    "import os\n",
    "import random\n",
    "\n",
    "#모듈의 위치 확인하기.\n",
    "print(random.__file__)\n",
    "print(1, os.path.dirname(random.__file__))   # 디렉터리만\n",
    "print(2, os.path.realpath(random.__file__))   # 디렉터리 + 파일까지\n",
    "print(3, os.path.abspath(random.__file__))    \n",
    "print(4, os.getcwd())    #현재 프로그램이 실행되는 디렉토리. 제일 많이 사용.\n",
    "print(5, os.path.dirname(os.path.realpath(random.__file__))) "
   ]
  },
  {
   "cell_type": "code",
   "execution_count": 14,
   "id": "909d5efa",
   "metadata": {},
   "outputs": [
    {
     "ename": "SyntaxError",
     "evalue": "unexpected EOF while parsing (Temp/ipykernel_7020/4273412932.py, line 3)",
     "output_type": "error",
     "traceback": [
      "\u001b[1;36m  File \u001b[1;32m\"C:\\Users\\PC021\\AppData\\Local\\Temp/ipykernel_7020/4273412932.py\"\u001b[1;36m, line \u001b[1;32m3\u001b[0m\n\u001b[1;33m    print(os.listdir('c:./')\u001b[0m\n\u001b[1;37m                            ^\u001b[0m\n\u001b[1;31mSyntaxError\u001b[0m\u001b[1;31m:\u001b[0m unexpected EOF while parsing\n"
     ]
    }
   ],
   "source": [
    "#현재 디렉토리 파일목록 가져오기\n",
    "print(os.listdir(os.getcwd()))\n",
    "print(os.listdir('c:./')"
   ]
  },
  {
   "cell_type": "code",
   "execution_count": 17,
   "id": "52251135",
   "metadata": {},
   "outputs": [
    {
     "ename": "FileNotFoundError",
     "evalue": "[WinError 3] 지정된 경로를 찾을 수 없습니다: './python/rapa'",
     "output_type": "error",
     "traceback": [
      "\u001b[1;31m---------------------------------------------------------------------------\u001b[0m",
      "\u001b[1;31mFileNotFoundError\u001b[0m                         Traceback (most recent call last)",
      "\u001b[1;32m~\\AppData\\Local\\Temp/ipykernel_7020/2485559930.py\u001b[0m in \u001b[0;36m<module>\u001b[1;34m\u001b[0m\n\u001b[0;32m      7\u001b[0m \u001b[0mdir\u001b[0m \u001b[1;33m=\u001b[0m \u001b[1;34m'./python/rapa'\u001b[0m \u001b[1;31m#자식 디렉토리로 내력가기\u001b[0m\u001b[1;33m\u001b[0m\u001b[1;33m\u001b[0m\u001b[0m\n\u001b[0;32m      8\u001b[0m \u001b[1;33m\u001b[0m\u001b[0m\n\u001b[1;32m----> 9\u001b[1;33m \u001b[0mos\u001b[0m\u001b[1;33m.\u001b[0m\u001b[0mchdir\u001b[0m\u001b[1;33m(\u001b[0m\u001b[0mdir\u001b[0m\u001b[1;33m)\u001b[0m   \u001b[1;31m#chage dir (변경할 주소)\u001b[0m\u001b[1;33m\u001b[0m\u001b[1;33m\u001b[0m\u001b[0m\n\u001b[0m\u001b[0;32m     10\u001b[0m \u001b[0mpath\u001b[0m \u001b[1;33m=\u001b[0m \u001b[0mos\u001b[0m\u001b[1;33m.\u001b[0m\u001b[0mgetcwd\u001b[0m\u001b[1;33m(\u001b[0m\u001b[1;33m)\u001b[0m\u001b[1;33m\u001b[0m\u001b[1;33m\u001b[0m\u001b[0m\n\u001b[0;32m     11\u001b[0m \u001b[0mprint\u001b[0m\u001b[1;33m(\u001b[0m\u001b[0mpath\u001b[0m\u001b[1;33m)\u001b[0m\u001b[1;33m\u001b[0m\u001b[1;33m\u001b[0m\u001b[0m\n",
      "\u001b[1;31mFileNotFoundError\u001b[0m: [WinError 3] 지정된 경로를 찾을 수 없습니다: './python/rapa'"
     ]
    }
   ],
   "source": [
    "#디렉토리 위치 변경\n",
    "\n",
    "dir = '.../'    #이건 안되.\n",
    "dir = '../../'  #조부모 디렉토리  \n",
    "dir = '../'     #부모 디렉토리\n",
    "dir = './'      #현재 디렉토리\n",
    "dir = './python/rapa' #자식 디렉토리로 내력가기\n",
    "\n",
    "os.chdir(dir)   #chage dir (변경할 주소)\n",
    "path = os.getcwd()\n",
    "print(path)"
   ]
  },
  {
   "cell_type": "code",
   "execution_count": 5,
   "id": "6d7ab649",
   "metadata": {},
   "outputs": [
    {
     "name": "stdout",
     "output_type": "stream",
     "text": [
      "해당 디렉터리는 이미 존재합니다.c:/aaa/rapa/data\n"
     ]
    }
   ],
   "source": [
    "#디렉토리 생성\n",
    "import os\n",
    "\n",
    "def createFolder(directory):\n",
    "    try:\n",
    "        if not os.path.exists(directory):\n",
    "            os.makedirs(directory)\n",
    "        else :\n",
    "            print('해당 디렉터리는 이미 존재합니다.'+directory)\n",
    "    except OSError:\n",
    "        print('Error: Creating directory'+directory)\n",
    "        \n",
    "dirname = 'c:/aaa/rapa/data'\n",
    "createFolder(dirname)\n",
    "        "
   ]
  },
  {
   "cell_type": "code",
   "execution_count": 6,
   "id": "a8ddb07c",
   "metadata": {},
   "outputs": [
    {
     "name": "stdout",
     "output_type": "stream",
     "text": [
      "Error: Creating directoryc:/aaa/rapa/data\n"
     ]
    }
   ],
   "source": [
    "import os\n",
    "\n",
    "def createFolder(directory):\n",
    "    try:\n",
    "        os.path.exists(directory)\n",
    "        os.makedirs(directory)\n",
    "    except OSError:\n",
    "        print('Error: Creating directory'+directory)\n",
    "        \n",
    "dirname = 'c:/aaa/rapa/data'\n",
    "createFolder(dirname)\n",
    "        "
   ]
  },
  {
   "cell_type": "code",
   "execution_count": 8,
   "id": "223c7719",
   "metadata": {},
   "outputs": [],
   "source": [
    "#디렉토리 삭제\n",
    "import os\n",
    "\n",
    "def deleteFolder(directory):\n",
    "    try:\n",
    "        if os.path.exists(directory):\n",
    "            os.rmdir(directory)\n",
    "    except OSError:\n",
    "        print('Error: deleting directory'+directory)\n",
    "        \n",
    "dirname = 'c:/aaa/rapa/data'\n",
    "deleteFolder(dirname)"
   ]
  },
  {
   "cell_type": "code",
   "execution_count": 44,
   "id": "03193f62",
   "metadata": {},
   "outputs": [
    {
     "ename": "SyntaxError",
     "evalue": "invalid syntax (Temp/ipykernel_7020/733181125.py, line 11)",
     "output_type": "error",
     "traceback": [
      "\u001b[1;36m  File \u001b[1;32m\"C:\\Users\\PC021\\AppData\\Local\\Temp/ipykernel_7020/733181125.py\"\u001b[1;36m, line \u001b[1;32m11\u001b[0m\n\u001b[1;33m    print(getDirList('./'))\u001b[0m\n\u001b[1;37m    ^\u001b[0m\n\u001b[1;31mSyntaxError\u001b[0m\u001b[1;31m:\u001b[0m invalid syntax\n"
     ]
    }
   ],
   "source": [
    "import os\n",
    "\n",
    "#특정 디렉토리 파일 출력\n",
    "def getDirList(dirname, printOption=False):\n",
    "    if printOption == True :\n",
    "        return print(os.listdir(dirname))\n",
    "    else :\n",
    "        return print(os.path.realpath(list(os.listdir(dirnmae)))\n",
    "    \n",
    "    \n",
    "print(getDirList('./'))\n",
    "print()\n",
    "print(getDirList('C:/python/rapa',True))\n",
    "print()\n",
    "print(getDirList('../',False))"
   ]
  },
  {
   "cell_type": "code",
   "execution_count": 29,
   "id": "7c07c0f7",
   "metadata": {},
   "outputs": [
    {
     "name": "stdout",
     "output_type": "stream",
     "text": [
      ".ipynb_checkpoints\n",
      "01python_languageBasic.ipynb\n",
      "02-파이썬라이브러리-01-numpy.ipynb\n",
      "02-파이썬라이브러리-02-pandas.ipynb\n",
      "02-파이썬라이브러리-03-matplotlib.ipynb\n",
      "02python_languageBasic.ipynb\n",
      "03python_lectureBasic.ipynb\n",
      "04python_letureBasic.ipynb\n",
      "05python_lectureBasic.ipynb\n",
      "3_1Python_Langueage_Basic.ipynb\n",
      "teat.py\n",
      "Untitled.ipynb\n",
      "None\n",
      "\n",
      "C:\\python\\rapa ------- .ipynb_checkpoints\n",
      "C:\\python\\rapa ------- 01python_languageBasic.ipynb\n",
      "C:\\python\\rapa ------- 02-파이썬라이브러리-01-numpy.ipynb\n",
      "C:\\python\\rapa ------- 02-파이썬라이브러리-02-pandas.ipynb\n",
      "C:\\python\\rapa ------- 02-파이썬라이브러리-03-matplotlib.ipynb\n",
      "C:\\python\\rapa ------- 02python_languageBasic.ipynb\n",
      "C:\\python\\rapa ------- 03python_lectureBasic.ipynb\n",
      "C:\\python\\rapa ------- 04python_letureBasic.ipynb\n",
      "C:\\python\\rapa ------- 05python_lectureBasic.ipynb\n",
      "C:\\python\\rapa ------- 3_1Python_Langueage_Basic.ipynb\n",
      "C:\\python\\rapa ------- teat.py\n",
      "C:\\python\\rapa ------- Untitled.ipynb\n",
      "None\n",
      "\n",
      "Python38\n",
      "rapa\n",
      "None\n"
     ]
    }
   ],
   "source": [
    "import os\n",
    "def getDirList(dirname, printOption=False):\n",
    "    list_file = os.listdir(dirname)\n",
    "    for file in (list_file):\n",
    "        # True 이면 경로까지 출력\n",
    "        if printOption :\n",
    "            print(os.path.dirname(os.path.realpath(file)),file)\n",
    "        # False 이면 파일만 출력\n",
    "        else :\n",
    "            print(file)\n",
    "print(getDirList('./'))\n",
    "print()\n",
    "print(getDirList('c:/python/rapa',True))\n",
    "print()\n",
    "print(getDirList('../',False))"
   ]
  },
  {
   "cell_type": "code",
   "execution_count": 36,
   "id": "e9897496",
   "metadata": {},
   "outputs": [
    {
     "name": "stdout",
     "output_type": "stream",
     "text": [
      "Done\n",
      "None\n",
      "\n",
      "['.ipynb_checkpoints', '01python_languageBasic.ipynb', '02-파이썬라이브러리-01-numpy.ipynb', '02-파이썬라이브러리-02-pandas.ipynb', '02-파이썬라이브러리-03-matplotlib.ipynb', '02python_languageBasic.ipynb', '03python_lectureBasic.ipynb', '04python_letureBasic.ipynb', '05python_lectureBasic.ipynb', '3_1Python_Langueage_Basic.ipynb', 'teat.py', 'Untitled.ipynb']\n",
      "None\n",
      "\n",
      "Done\n",
      "None\n"
     ]
    }
   ],
   "source": [
    "def getDirList(dirname, printOptin = False):\n",
    "    dirs = os.listdir(dirname)\n",
    "    if printOptin == True :\n",
    "        return print(dirs)\n",
    "    else : return print(\"Done\")\n",
    "print (getDirList('./'))\n",
    "print()\n",
    "print (getDirList('c:/python/rapa', True))\n",
    "print()\n",
    "print (getDirList('../', False))"
   ]
  },
  {
   "cell_type": "code",
   "execution_count": 24,
   "id": "5229ac5c",
   "metadata": {},
   "outputs": [
    {
     "name": "stdout",
     "output_type": "stream",
     "text": [
      "현재디렉토리 ==> C:\\python\\rapa\n",
      "------------------------------\n"
     ]
    },
    {
     "ename": "NameError",
     "evalue": "name 'printOption' is not defined",
     "output_type": "error",
     "traceback": [
      "\u001b[1;31m---------------------------------------------------------------------------\u001b[0m",
      "\u001b[1;31mNameError\u001b[0m                                 Traceback (most recent call last)",
      "\u001b[1;32m~\\AppData\\Local\\Temp/ipykernel_7020/219223133.py\u001b[0m in \u001b[0;36m<module>\u001b[1;34m\u001b[0m\n\u001b[0;32m      8\u001b[0m     \u001b[1;32mreturn\u001b[0m \u001b[1;33m[\u001b[0m\u001b[0mpath\u001b[0m\u001b[1;33m+\u001b[0m\u001b[1;34m'//'\u001b[0m\u001b[1;33m+\u001b[0m\u001b[0mi\u001b[0m \u001b[1;32mif\u001b[0m \u001b[0mprintOption\u001b[0m\u001b[1;33m==\u001b[0m\u001b[1;32mTrue\u001b[0m \u001b[1;32melse\u001b[0m \u001b[0mi\u001b[0m \u001b[1;32mfor\u001b[0m \u001b[0mi\u001b[0m \u001b[1;32min\u001b[0m \u001b[0mos\u001b[0m\u001b[1;33m.\u001b[0m\u001b[0mlistdir\u001b[0m\u001b[1;33m(\u001b[0m\u001b[0mpath\u001b[0m\u001b[1;33m)\u001b[0m\u001b[1;33m]\u001b[0m\u001b[1;33m\u001b[0m\u001b[1;33m\u001b[0m\u001b[0m\n\u001b[0;32m      9\u001b[0m \u001b[1;33m\u001b[0m\u001b[0m\n\u001b[1;32m---> 10\u001b[1;33m \u001b[0mprint\u001b[0m \u001b[1;33m(\u001b[0m\u001b[0mgetDirList\u001b[0m\u001b[1;33m(\u001b[0m\u001b[1;34m'./'\u001b[0m\u001b[1;33m)\u001b[0m\u001b[1;33m)\u001b[0m\u001b[1;33m\u001b[0m\u001b[1;33m\u001b[0m\u001b[0m\n\u001b[0m\u001b[0;32m     11\u001b[0m \u001b[0mprint\u001b[0m \u001b[1;33m(\u001b[0m\u001b[0mgetDirList\u001b[0m\u001b[1;33m(\u001b[0m\u001b[1;34m'c:/python/rapa'\u001b[0m\u001b[1;33m,\u001b[0m \u001b[1;32mTrue\u001b[0m\u001b[1;33m)\u001b[0m\u001b[1;33m)\u001b[0m\u001b[1;33m\u001b[0m\u001b[1;33m\u001b[0m\u001b[0m\n\u001b[0;32m     12\u001b[0m \u001b[0mprint\u001b[0m \u001b[1;33m(\u001b[0m\u001b[0mgetDirList\u001b[0m\u001b[1;33m(\u001b[0m\u001b[1;34m'../'\u001b[0m\u001b[1;33m,\u001b[0m \u001b[1;32mFalse\u001b[0m\u001b[1;33m)\u001b[0m\u001b[1;33m)\u001b[0m\u001b[1;33m\u001b[0m\u001b[1;33m\u001b[0m\u001b[0m\n",
      "\u001b[1;32m~\\AppData\\Local\\Temp/ipykernel_7020/219223133.py\u001b[0m in \u001b[0;36mgetDirList\u001b[1;34m(dirname, printOptin)\u001b[0m\n\u001b[0;32m      6\u001b[0m     \u001b[0mprint\u001b[0m\u001b[1;33m(\u001b[0m\u001b[1;34m\"현재디렉토리 ==>\"\u001b[0m\u001b[1;33m,\u001b[0m\u001b[0mpath\u001b[0m\u001b[1;33m)\u001b[0m\u001b[1;33m\u001b[0m\u001b[1;33m\u001b[0m\u001b[0m\n\u001b[0;32m      7\u001b[0m     \u001b[0mprint\u001b[0m\u001b[1;33m(\u001b[0m\u001b[1;34m'-'\u001b[0m\u001b[1;33m*\u001b[0m\u001b[1;36m30\u001b[0m\u001b[1;33m)\u001b[0m\u001b[1;33m\u001b[0m\u001b[1;33m\u001b[0m\u001b[0m\n\u001b[1;32m----> 8\u001b[1;33m     \u001b[1;32mreturn\u001b[0m \u001b[1;33m[\u001b[0m\u001b[0mpath\u001b[0m\u001b[1;33m+\u001b[0m\u001b[1;34m'//'\u001b[0m\u001b[1;33m+\u001b[0m\u001b[0mi\u001b[0m \u001b[1;32mif\u001b[0m \u001b[0mprintOption\u001b[0m\u001b[1;33m==\u001b[0m\u001b[1;32mTrue\u001b[0m \u001b[1;32melse\u001b[0m \u001b[0mi\u001b[0m \u001b[1;32mfor\u001b[0m \u001b[0mi\u001b[0m \u001b[1;32min\u001b[0m \u001b[0mos\u001b[0m\u001b[1;33m.\u001b[0m\u001b[0mlistdir\u001b[0m\u001b[1;33m(\u001b[0m\u001b[0mpath\u001b[0m\u001b[1;33m)\u001b[0m\u001b[1;33m]\u001b[0m\u001b[1;33m\u001b[0m\u001b[1;33m\u001b[0m\u001b[0m\n\u001b[0m\u001b[0;32m      9\u001b[0m \u001b[1;33m\u001b[0m\u001b[0m\n\u001b[0;32m     10\u001b[0m \u001b[0mprint\u001b[0m \u001b[1;33m(\u001b[0m\u001b[0mgetDirList\u001b[0m\u001b[1;33m(\u001b[0m\u001b[1;34m'./'\u001b[0m\u001b[1;33m)\u001b[0m\u001b[1;33m)\u001b[0m\u001b[1;33m\u001b[0m\u001b[1;33m\u001b[0m\u001b[0m\n",
      "\u001b[1;32m~\\AppData\\Local\\Temp/ipykernel_7020/219223133.py\u001b[0m in \u001b[0;36m<listcomp>\u001b[1;34m(.0)\u001b[0m\n\u001b[0;32m      6\u001b[0m     \u001b[0mprint\u001b[0m\u001b[1;33m(\u001b[0m\u001b[1;34m\"현재디렉토리 ==>\"\u001b[0m\u001b[1;33m,\u001b[0m\u001b[0mpath\u001b[0m\u001b[1;33m)\u001b[0m\u001b[1;33m\u001b[0m\u001b[1;33m\u001b[0m\u001b[0m\n\u001b[0;32m      7\u001b[0m     \u001b[0mprint\u001b[0m\u001b[1;33m(\u001b[0m\u001b[1;34m'-'\u001b[0m\u001b[1;33m*\u001b[0m\u001b[1;36m30\u001b[0m\u001b[1;33m)\u001b[0m\u001b[1;33m\u001b[0m\u001b[1;33m\u001b[0m\u001b[0m\n\u001b[1;32m----> 8\u001b[1;33m     \u001b[1;32mreturn\u001b[0m \u001b[1;33m[\u001b[0m\u001b[0mpath\u001b[0m\u001b[1;33m+\u001b[0m\u001b[1;34m'//'\u001b[0m\u001b[1;33m+\u001b[0m\u001b[0mi\u001b[0m \u001b[1;32mif\u001b[0m \u001b[0mprintOption\u001b[0m\u001b[1;33m==\u001b[0m\u001b[1;32mTrue\u001b[0m \u001b[1;32melse\u001b[0m \u001b[0mi\u001b[0m \u001b[1;32mfor\u001b[0m \u001b[0mi\u001b[0m \u001b[1;32min\u001b[0m \u001b[0mos\u001b[0m\u001b[1;33m.\u001b[0m\u001b[0mlistdir\u001b[0m\u001b[1;33m(\u001b[0m\u001b[0mpath\u001b[0m\u001b[1;33m)\u001b[0m\u001b[1;33m]\u001b[0m\u001b[1;33m\u001b[0m\u001b[1;33m\u001b[0m\u001b[0m\n\u001b[0m\u001b[0;32m      9\u001b[0m \u001b[1;33m\u001b[0m\u001b[0m\n\u001b[0;32m     10\u001b[0m \u001b[0mprint\u001b[0m \u001b[1;33m(\u001b[0m\u001b[0mgetDirList\u001b[0m\u001b[1;33m(\u001b[0m\u001b[1;34m'./'\u001b[0m\u001b[1;33m)\u001b[0m\u001b[1;33m)\u001b[0m\u001b[1;33m\u001b[0m\u001b[1;33m\u001b[0m\u001b[0m\n",
      "\u001b[1;31mNameError\u001b[0m: name 'printOption' is not defined"
     ]
    }
   ],
   "source": [
    "import os\n",
    "\n",
    "def getDirList(dirname, printOptin = False):\n",
    "    os.chdir(dirname)\n",
    "    path = os.getcwd()\n",
    "    print(\"현재디렉토리 ==>\",path)\n",
    "    print('-'*30)\n",
    "    return [path+'\\\\'+i if printOption==True else i for i in os.listdir(path)]\n",
    "\n",
    "print (getDirList('./'))\n",
    "print (getDirList('c:/python/rapa', True))\n",
    "print (getDirList('../', False))"
   ]
  },
  {
   "cell_type": "code",
   "execution_count": 41,
   "id": "49ec1d4b",
   "metadata": {},
   "outputs": [],
   "source": [
    "f = open(\"C:/python/새파일.txt\",'w')\n",
    "f.close()"
   ]
  },
  {
   "cell_type": "code",
   "execution_count": 47,
   "id": "3ef4d1a0",
   "metadata": {},
   "outputs": [],
   "source": [
    "#writedata.py\n",
    "f=open(\"C:/python/write_n_w.txt\",'w')\n",
    "for i in range(1,11):\n",
    "    data = \"%d 번째 줄입니다.\\n\"%i\n",
    "    f.write(data)\n",
    "f.close()"
   ]
  },
  {
   "cell_type": "code",
   "execution_count": 48,
   "id": "f296fa56",
   "metadata": {},
   "outputs": [],
   "source": [
    "#writedata.py\n",
    "f=open(\"C:/python/write__w.txt\",'w')\n",
    "for i in range(1,11):\n",
    "    data = \"%d 번째 줄입니다.\"%i\n",
    "    f.write(data)\n",
    "f.close()"
   ]
  },
  {
   "cell_type": "code",
   "execution_count": 49,
   "id": "9b1c1b57",
   "metadata": {},
   "outputs": [
    {
     "ename": "ValueError",
     "evalue": "I/O operation on closed file.",
     "output_type": "error",
     "traceback": [
      "\u001b[1;31m---------------------------------------------------------------------------\u001b[0m",
      "\u001b[1;31mValueError\u001b[0m                                Traceback (most recent call last)",
      "\u001b[1;32m~\\AppData\\Local\\Temp/ipykernel_7020/225233011.py\u001b[0m in \u001b[0;36m<module>\u001b[1;34m\u001b[0m\n\u001b[0;32m      3\u001b[0m \u001b[1;32mfor\u001b[0m \u001b[0mi\u001b[0m \u001b[1;32min\u001b[0m \u001b[0mrange\u001b[0m\u001b[1;33m(\u001b[0m\u001b[1;36m1\u001b[0m\u001b[1;33m,\u001b[0m\u001b[1;36m11\u001b[0m\u001b[1;33m)\u001b[0m\u001b[1;33m:\u001b[0m\u001b[1;33m\u001b[0m\u001b[1;33m\u001b[0m\u001b[0m\n\u001b[0;32m      4\u001b[0m     \u001b[0mdata\u001b[0m \u001b[1;33m=\u001b[0m \u001b[1;34m\"%d 번째 줄입니다.\\n\"\u001b[0m\u001b[1;33m%\u001b[0m\u001b[0mi\u001b[0m\u001b[1;33m\u001b[0m\u001b[1;33m\u001b[0m\u001b[0m\n\u001b[1;32m----> 5\u001b[1;33m     \u001b[0mf\u001b[0m\u001b[1;33m.\u001b[0m\u001b[0mwrite\u001b[0m\u001b[1;33m(\u001b[0m\u001b[0mdata\u001b[0m\u001b[1;33m)\u001b[0m\u001b[1;33m\u001b[0m\u001b[1;33m\u001b[0m\u001b[0m\n\u001b[0m\u001b[0;32m      6\u001b[0m     \u001b[0mf\u001b[0m\u001b[1;33m.\u001b[0m\u001b[0mclose\u001b[0m\u001b[1;33m(\u001b[0m\u001b[1;33m)\u001b[0m\u001b[1;33m\u001b[0m\u001b[1;33m\u001b[0m\u001b[0m\n",
      "\u001b[1;31mValueError\u001b[0m: I/O operation on closed file."
     ]
    }
   ],
   "source": [
    "#writedata.py\n",
    "f=open(\"C:/python/write_n_c_w.txt\",'w')\n",
    "for i in range(1,11):\n",
    "    data = \"%d 번째 줄입니다.\\n\"%i\n",
    "    f.write(data)\n",
    "    f.close()"
   ]
  },
  {
   "cell_type": "code",
   "execution_count": 50,
   "id": "263de387",
   "metadata": {},
   "outputs": [],
   "source": [
    "#writedata.py\n",
    "f=open(\"C:/python/write_n_c_a.txt\",'a')\n",
    "for i in range(1,11):\n",
    "    data = \"%d 번째 줄입니다.\\n\"%i\n",
    "    f.write(data)\n",
    "f.close()"
   ]
  },
  {
   "cell_type": "code",
   "execution_count": 53,
   "id": "633f7b2f",
   "metadata": {},
   "outputs": [
    {
     "name": "stdout",
     "output_type": "stream",
     "text": [
      "1 번째 줄입니다.\n",
      "\n"
     ]
    }
   ],
   "source": [
    "#readdata.py\n",
    "#1.파일에서 1줄 읽어서 화면에 출력하기\n",
    "f = open(\"C:/python/write_n_w.txt\",'r')\n",
    "line = f.readline()\n",
    "print(line)\n",
    "f.close()"
   ]
  },
  {
   "cell_type": "code",
   "execution_count": 55,
   "id": "e8b6348b",
   "metadata": {},
   "outputs": [
    {
     "name": "stdout",
     "output_type": "stream",
     "text": [
      "읽은 내용:1 번째 줄입니다.\n",
      "\n",
      "읽은 내용:2 번째 줄입니다.\n",
      "\n",
      "읽은 내용:3 번째 줄입니다.\n",
      "\n",
      "읽은 내용:4 번째 줄입니다.\n",
      "\n",
      "읽은 내용:5 번째 줄입니다.\n",
      "\n",
      "읽은 내용:6 번째 줄입니다.\n",
      "\n",
      "읽은 내용:7 번째 줄입니다.\n",
      "\n",
      "읽은 내용:8 번째 줄입니다.\n",
      "\n",
      "읽은 내용:9 번째 줄입니다.\n",
      "\n",
      "읽은 내용:10 번째 줄입니다.\n",
      "\n"
     ]
    }
   ],
   "source": [
    "f = open(\"C:/python/write_n_w.txt\",'r')\n",
    "for line in f.readlines():\n",
    "    print(f'읽은 내용:{line}')\n",
    "f.close()"
   ]
  },
  {
   "cell_type": "code",
   "execution_count": 56,
   "id": "94483f1e",
   "metadata": {},
   "outputs": [
    {
     "name": "stdout",
     "output_type": "stream",
     "text": [
      "1 번째 줄입니다.\n",
      "2 번째 줄입니다.\n",
      "3 번째 줄입니다.\n",
      "4 번째 줄입니다.\n",
      "5 번째 줄입니다.\n",
      "6 번째 줄입니다.\n",
      "7 번째 줄입니다.\n",
      "8 번째 줄입니다.\n",
      "9 번째 줄입니다.\n",
      "10 번째 줄입니다.\n",
      "\n"
     ]
    }
   ],
   "source": [
    "f = open(\"C:/python/write_n_w.txt\",'r')\n",
    "data = f.read()\n",
    "print(data)\n",
    "f.close()"
   ]
  },
  {
   "cell_type": "code",
   "execution_count": 70,
   "id": "a9674e7b",
   "metadata": {},
   "outputs": [],
   "source": [
    "import random as rd\n",
    "import os\n",
    "\n",
    "with open(\"C:/python/rapa/sample.txt\",'w')as f:\n",
    "    for i in range(10):\n",
    "        f.write(str(rd.randint(1,100)))\n",
    "        f.write(\"\\n\")\n",
    "\n",
    "    "
   ]
  },
  {
   "cell_type": "code",
   "execution_count": null,
   "id": "58fcf819",
   "metadata": {},
   "outputs": [],
   "source": [
    "import random\n",
    "with open(“sample.txt”,‘w’) as f:\n",
    "    f.write(f’{random.sample([i for i in range(1,101)],10)}\\n’)"
   ]
  },
  {
   "cell_type": "code",
   "execution_count": 75,
   "id": "37bb2202",
   "metadata": {},
   "outputs": [
    {
     "ename": "SyntaxError",
     "evalue": "invalid syntax (Temp/ipykernel_7020/1885313412.py, line 5)",
     "output_type": "error",
     "traceback": [
      "\u001b[1;36m  File \u001b[1;32m\"C:\\Users\\PC021\\AppData\\Local\\Temp/ipykernel_7020/1885313412.py\"\u001b[1;36m, line \u001b[1;32m5\u001b[0m\n\u001b[1;33m    list_sum = [sum+=i for i in f.readline()]\u001b[0m\n\u001b[1;37m                   ^\u001b[0m\n\u001b[1;31mSyntaxError\u001b[0m\u001b[1;31m:\u001b[0m invalid syntax\n"
     ]
    }
   ],
   "source": [
    "import os\n",
    "\n",
    "with open(\"C:/python/rapa/sample.txt\",'r')as f:\n",
    "    sum=0\n",
    "    list_sum = [sum+=i for i in f.readline()]\n",
    "    #list_min = min"
   ]
  },
  {
   "cell_type": "code",
   "execution_count": 69,
   "id": "a8b948fe",
   "metadata": {},
   "outputs": [
    {
     "ename": "UnicodeDecodeError",
     "evalue": "'cp949' codec can't decode byte 0xe3 in position 0: illegal multibyte sequence",
     "output_type": "error",
     "traceback": [
      "\u001b[1;31m---------------------------------------------------------------------------\u001b[0m",
      "\u001b[1;31mUnicodeDecodeError\u001b[0m                        Traceback (most recent call last)",
      "\u001b[1;32m~\\AppData\\Local\\Temp/ipykernel_7020/1163239376.py\u001b[0m in \u001b[0;36m<module>\u001b[1;34m\u001b[0m\n\u001b[0;32m      6\u001b[0m         '손흥민':'이승우'}\n\u001b[0;32m      7\u001b[0m \u001b[1;32mwith\u001b[0m \u001b[0mopen\u001b[0m\u001b[1;33m(\u001b[0m\u001b[1;34m\"C:/python/rapa/w_r_test/article.txt\"\u001b[0m\u001b[1;33m,\u001b[0m\u001b[1;34m'r+'\u001b[0m\u001b[1;33m)\u001b[0m\u001b[1;32mas\u001b[0m \u001b[0mf\u001b[0m\u001b[1;33m:\u001b[0m\u001b[1;33m\u001b[0m\u001b[1;33m\u001b[0m\u001b[0m\n\u001b[1;32m----> 8\u001b[1;33m     \u001b[0mdata\u001b[0m \u001b[1;33m=\u001b[0m \u001b[0mf\u001b[0m\u001b[1;33m.\u001b[0m\u001b[0mread\u001b[0m\u001b[1;33m(\u001b[0m\u001b[1;33m)\u001b[0m\u001b[1;33m\u001b[0m\u001b[1;33m\u001b[0m\u001b[0m\n\u001b[0m\u001b[0;32m      9\u001b[0m     \u001b[0mdata\u001b[0m\u001b[1;33m=\u001b[0m\u001b[0mdata\u001b[0m\u001b[1;33m.\u001b[0m\u001b[0mreplace\u001b[0m\u001b[1;33m(\u001b[0m\u001b[0mdicText\u001b[0m\u001b[1;33m)\u001b[0m\u001b[1;33m\u001b[0m\u001b[1;33m\u001b[0m\u001b[0m\n\u001b[0;32m     10\u001b[0m     \u001b[0mf\u001b[0m\u001b[1;33m.\u001b[0m\u001b[0mwrite\u001b[0m\u001b[1;33m(\u001b[0m\u001b[0mdata\u001b[0m\u001b[1;33m)\u001b[0m\u001b[1;33m\u001b[0m\u001b[1;33m\u001b[0m\u001b[0m\n",
      "\u001b[1;31mUnicodeDecodeError\u001b[0m: 'cp949' codec can't decode byte 0xe3 in position 0: illegal multibyte sequence"
     ]
    }
   ],
   "source": [
    "import os\n",
    "\n",
    "#인코딩 에러남\n",
    "dicText={'13':'20',\n",
    "        '토트넘':'맨체스터유나이티드',\n",
    "        '해리 케인':'박지성',\n",
    "        '손흥민':'이승우'}\n",
    "with open(\"C:/python/rapa/w_r_test/article.txt\",'r+')as f:\n",
    "    data = f.read()\n",
    "    data=data.replace(dicText)\n",
    "    f.write(data)\n"
   ]
  },
  {
   "cell_type": "code",
   "execution_count": 79,
   "id": "74491d1c",
   "metadata": {},
   "outputs": [
    {
     "ename": "UnicodeDecodeError",
     "evalue": "'cp949' codec can't decode byte 0xe3 in position 0: illegal multibyte sequence",
     "output_type": "error",
     "traceback": [
      "\u001b[1;31m---------------------------------------------------------------------------\u001b[0m",
      "\u001b[1;31mUnicodeDecodeError\u001b[0m                        Traceback (most recent call last)",
      "\u001b[1;32m~\\AppData\\Local\\Temp/ipykernel_7020/2833581344.py\u001b[0m in \u001b[0;36m<module>\u001b[1;34m\u001b[0m\n\u001b[0;32m      4\u001b[0m         '손흥민':'이승우'}\n\u001b[0;32m      5\u001b[0m \u001b[1;32mwith\u001b[0m \u001b[0mopen\u001b[0m\u001b[1;33m(\u001b[0m\u001b[1;34m\"C:/python/rapa/w_r_test/article.txt\"\u001b[0m\u001b[1;33m,\u001b[0m\u001b[1;34m'r+'\u001b[0m\u001b[1;33m)\u001b[0m \u001b[1;32mas\u001b[0m \u001b[0mf\u001b[0m\u001b[1;33m:\u001b[0m\u001b[1;33m\u001b[0m\u001b[1;33m\u001b[0m\u001b[0m\n\u001b[1;32m----> 6\u001b[1;33m     \u001b[0mdata\u001b[0m \u001b[1;33m=\u001b[0m \u001b[0mf\u001b[0m\u001b[1;33m.\u001b[0m\u001b[0mread\u001b[0m\u001b[1;33m(\u001b[0m\u001b[1;33m)\u001b[0m\u001b[1;33m\u001b[0m\u001b[1;33m\u001b[0m\u001b[0m\n\u001b[0m\u001b[0;32m      7\u001b[0m     \u001b[1;32mfor\u001b[0m \u001b[0mi\u001b[0m\u001b[1;33m,\u001b[0m\u001b[0mj\u001b[0m \u001b[1;32min\u001b[0m \u001b[0mdicText\u001b[0m\u001b[1;33m.\u001b[0m\u001b[0mitems\u001b[0m\u001b[1;33m(\u001b[0m\u001b[1;33m)\u001b[0m\u001b[1;33m:\u001b[0m\u001b[1;33m\u001b[0m\u001b[1;33m\u001b[0m\u001b[0m\n\u001b[0;32m      8\u001b[0m         \u001b[0mdata\u001b[0m \u001b[1;33m=\u001b[0m \u001b[0mdata\u001b[0m\u001b[1;33m.\u001b[0m\u001b[0mreplace\u001b[0m\u001b[1;33m(\u001b[0m\u001b[0mi\u001b[0m\u001b[1;33m,\u001b[0m\u001b[0mj\u001b[0m\u001b[1;33m)\u001b[0m\u001b[1;33m\u001b[0m\u001b[1;33m\u001b[0m\u001b[0m\n",
      "\u001b[1;31mUnicodeDecodeError\u001b[0m: 'cp949' codec can't decode byte 0xe3 in position 0: illegal multibyte sequence"
     ]
    }
   ],
   "source": [
    "dicText={'13':'20',\n",
    "        '토트넘':'맨체스터유나이티드',\n",
    "        '해리 케인':'박지성',\n",
    "        '손흥민':'이승우'}\n",
    "with open(\"C:/python/rapa/w_r_test/article.txt\",'r+') as f:\n",
    "    data = f.read()\n",
    "    for i,j in dicText.items():\n",
    "        data = data.replace(i,j)\n",
    "    n = open('result2.txt','w')\n",
    "    n.write(data)\n",
    "    f.close()"
   ]
  },
  {
   "cell_type": "code",
   "execution_count": 88,
   "id": "1b1d89f2",
   "metadata": {},
   "outputs": [
    {
     "name": "stdout",
     "output_type": "stream",
     "text": [
      "[96, 21, 43, 99, 15, 69, 50, 34, 20, 89]의\n",
      " 총합은 536입니다.  \n",
      " 평균은 53.6입니다.\n",
      "<class 'int'>\n"
     ]
    }
   ],
   "source": [
    "import numpy as np\n",
    "with open(\"./sample.txt\", 'r') as f:\n",
    "    lines = f.readlines()\n",
    "    nums = list()\n",
    "    for line in lines:\n",
    "        nums.append(int(line))\n",
    "    #넘파이로 해야 합을 구하기 쉽다.\n",
    "    hap = np.sum(nums) \n",
    "    mean = np.mean(nums)\n",
    "    msg = str(nums)+f\"의\\n 총합은 {hap}입니다.  \\n 평균은 {mean}입니다.\"\n",
    "    print(msg)\n",
    "    print(type(nums[2]))\n",
    "with open(\"./result.txt\" , 'w', encoding='utf8') as f:\n",
    "    f.write(msg)"
   ]
  },
  {
   "cell_type": "code",
   "execution_count": 83,
   "id": "f9036651",
   "metadata": {},
   "outputs": [],
   "source": [
    "dicText = {'13':'20','토트넘':'맨체스터유나이티드', '해리 케인':'박지성', '손흥민':'이승우'}\n",
    "with open('./w_r_test/article.txt', 'r', encoding='utf8') as f:\n",
    "    data = f.read()\n",
    "    for key, value in dicText.items():    \n",
    "        data = data.replace(key, value)    \n",
    "with open('./result2.txt','w', encoding='utf8') as f:\n",
    "    f.write(data)"
   ]
  },
  {
   "cell_type": "code",
   "execution_count": 91,
   "id": "5916d935",
   "metadata": {},
   "outputs": [
    {
     "ename": "SyntaxError",
     "evalue": "invalid syntax (Temp/ipykernel_7020/3813379490.py, line 3)",
     "output_type": "error",
     "traceback": [
      "\u001b[1;36m  File \u001b[1;32m\"C:\\Users\\PC021\\AppData\\Local\\Temp/ipykernel_7020/3813379490.py\"\u001b[1;36m, line \u001b[1;32m3\u001b[0m\n\u001b[1;33m    data = [int(line) for line in f1.readlines(), dtype=int]\u001b[0m\n\u001b[1;37m                                                ^\u001b[0m\n\u001b[1;31mSyntaxError\u001b[0m\u001b[1;31m:\u001b[0m invalid syntax\n"
     ]
    }
   ],
   "source": [
    "hap, avg = 0, 0\n",
    "with open('./sample.txt', 'r') as f1:\n",
    "    data = [int(line) for line in f1.readlines()]\n",
    "    hap = sum(data)       #안되는데\n",
    "    avg = hap/len(data)\n",
    "context = f'{data}의 \\n총합은 {hap} 입니다.\\n평균은 {avg} 입니다.'\n",
    "print(context)\n",
    "with open(\"data/result.txt\", 'w') as f2:\n",
    "    f2.write(context)"
   ]
  },
  {
   "cell_type": "code",
   "execution_count": null,
   "id": "c84f677c",
   "metadata": {},
   "outputs": [],
   "source": [
    "with open(‘sample.txt’, ‘r+‘) as f:\n",
    "    num = list(map(int,f.read().replace(‘\\n’,' ‘).split()))\n",
    "    print(f’{num}\\n총합은 {sum(num)} 입니다.\\n평균은 {sum(num)/len(num)} 입니다.’)\n",
    "    g = open(“result.txt”,‘w’)\n",
    "    g.write(f’{num}\\n총합은 {sum(num)} 입니다.\\n평균은 {sum(num)/len(num)} 입니다.’)\n",
    "    g.close()"
   ]
  },
  {
   "cell_type": "code",
   "execution_count": 93,
   "id": "ef94724b",
   "metadata": {},
   "outputs": [
    {
     "ename": "FileNotFoundError",
     "evalue": "[Errno 2] No such file or directory: 'c:/rapa/python/sample.txt'",
     "output_type": "error",
     "traceback": [
      "\u001b[1;31m---------------------------------------------------------------------------\u001b[0m",
      "\u001b[1;31mFileNotFoundError\u001b[0m                         Traceback (most recent call last)",
      "\u001b[1;32m~\\AppData\\Local\\Temp/ipykernel_7020/2840387042.py\u001b[0m in \u001b[0;36m<module>\u001b[1;34m\u001b[0m\n\u001b[0;32m      1\u001b[0m \u001b[1;32mimport\u001b[0m \u001b[0mnumpy\u001b[0m \u001b[1;32mas\u001b[0m \u001b[0mnp\u001b[0m\u001b[1;33m\u001b[0m\u001b[1;33m\u001b[0m\u001b[0m\n\u001b[1;32m----> 2\u001b[1;33m \u001b[0mf\u001b[0m \u001b[1;33m=\u001b[0m \u001b[0mopen\u001b[0m\u001b[1;33m(\u001b[0m\u001b[1;34m'c:/rapa/python/sample.txt'\u001b[0m\u001b[1;33m,\u001b[0m\u001b[1;34m'r'\u001b[0m\u001b[1;33m)\u001b[0m\u001b[1;33m\u001b[0m\u001b[1;33m\u001b[0m\u001b[0m\n\u001b[0m\u001b[0;32m      3\u001b[0m \u001b[0mdata\u001b[0m\u001b[1;33m=\u001b[0m\u001b[1;33m[\u001b[0m\u001b[1;33m]\u001b[0m\u001b[1;33m\u001b[0m\u001b[1;33m\u001b[0m\u001b[0m\n\u001b[0;32m      4\u001b[0m \u001b[1;32mfor\u001b[0m \u001b[0mi\u001b[0m \u001b[1;32min\u001b[0m \u001b[0mrange\u001b[0m\u001b[1;33m(\u001b[0m\u001b[1;36m10\u001b[0m\u001b[1;33m)\u001b[0m\u001b[1;33m:\u001b[0m\u001b[1;33m\u001b[0m\u001b[1;33m\u001b[0m\u001b[0m\n\u001b[0;32m      5\u001b[0m     \u001b[0mdata\u001b[0m\u001b[1;33m.\u001b[0m\u001b[0mappend\u001b[0m\u001b[1;33m(\u001b[0m\u001b[0mint\u001b[0m\u001b[1;33m(\u001b[0m\u001b[0mf\u001b[0m\u001b[1;33m.\u001b[0m\u001b[0mreadline\u001b[0m\u001b[1;33m(\u001b[0m\u001b[1;33m)\u001b[0m\u001b[1;33m)\u001b[0m\u001b[1;33m)\u001b[0m\u001b[1;33m\u001b[0m\u001b[1;33m\u001b[0m\u001b[0m\n",
      "\u001b[1;31mFileNotFoundError\u001b[0m: [Errno 2] No such file or directory: 'c:/rapa/python/sample.txt'"
     ]
    }
   ],
   "source": [
    "import numpy as np\n",
    "f = open('./sample.txt','r')\n",
    "data=[]\n",
    "for i in range(10):\n",
    "    data.append(int(f.readline()))\n",
    "print(np.array(data))\n",
    "print(f'총합은 {data1.sum()} 입니다.')\n",
    "print(f'평균은 {data1.mean()} 입니다.')"
   ]
  },
  {
   "cell_type": "code",
   "execution_count": null,
   "id": "95962463",
   "metadata": {},
   "outputs": [],
   "source": []
  },
  {
   "cell_type": "code",
   "execution_count": 94,
   "id": "14aa6565",
   "metadata": {},
   "outputs": [],
   "source": [
    "f = open('./w_r_test/article.txt','r', encoding='UTF-8')\n",
    "#change={'13':'20','토트넘':'맨체스터유나이티드','해리 케인':'박지성','손흥민':'이승우'}\n",
    "article = f.read()\n",
    "article = article.replace('13','20')\n",
    "article = article.replace('토트넘','맨체스터유나이티드')\n",
    "article = article.replace('해리 케인','박지성')\n",
    "article = article.replace('손흥민','이승우')\n",
    "f.close()\n",
    "f = open('./result2.txt','w', encoding='UTF-8')\n",
    "f.write(article)\n",
    "f.close()"
   ]
  },
  {
   "cell_type": "code",
   "execution_count": null,
   "id": "7b956ba2",
   "metadata": {},
   "outputs": [],
   "source": [
    "import random\n",
    "animal = [‘호랑이‘,’사자‘,’늑대‘,’치타‘,’불곰’]\n",
    "with open(“members.txt”,‘r’) as f:\n",
    "    names = list(map(lambda x: x,f.read().replace(‘\\n’,' ’).split()))\n",
    "    names = random.sample(names,len(names))\n",
    "    team = {animal[i] : names[i:i+4] for i in range(len(names)//4)}\n",
    "    print(team)\n",
    "    for i,j in team.items():\n",
    "        open(“teams.txt”,‘a’).write(f’{i}팀: {j}\\n’)"
   ]
  },
  {
   "cell_type": "code",
   "execution_count": null,
   "id": "e60961b9",
   "metadata": {},
   "outputs": [],
   "source": []
  }
 ],
 "metadata": {
  "kernelspec": {
   "display_name": "Python 3 (ipykernel)",
   "language": "python",
   "name": "python3"
  },
  "language_info": {
   "codemirror_mode": {
    "name": "ipython",
    "version": 3
   },
   "file_extension": ".py",
   "mimetype": "text/x-python",
   "name": "python",
   "nbconvert_exporter": "python",
   "pygments_lexer": "ipython3",
   "version": "3.8.10"
  }
 },
 "nbformat": 4,
 "nbformat_minor": 5
}

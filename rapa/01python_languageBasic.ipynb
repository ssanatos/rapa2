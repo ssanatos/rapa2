{
 "cells": [
  {
   "cell_type": "markdown",
   "id": "3fc879da",
   "metadata": {},
   "source": [
    "# 제목\n",
    "## 제목\n",
    "### 제목\n",
    "#### 제목\n",
    "\n",
    "- 오늘은 파이썬 첫 시간입니다.\n",
    "1. 이 셀은 마크다운입니다. 마크다운은 마크업랭귀지. 마크업은 주석같은거.\n",
    "2. 초록색은 편집모드\n",
    "3. 파란색은 실행모드\n",
    "4. shift enter는 셀 실행(런 셀)\n",
    "5. shift L은 라인넘버보기.\n",
    "6. 웹에 저장되는 게 아니라, 내 디렉토리에 저장된다. cmd 창에서 실행할때의 디렉토리."
   ]
  },
  {
   "cell_type": "code",
   "execution_count": null,
   "id": "0b8b328b",
   "metadata": {
    "scrolled": true
   },
   "outputs": [],
   "source": [
    "#import numpy as np\n",
    "#import pandas as pd\n",
    "#import matplotlib\n",
    "import sys\n",
    "\n",
    "a= 1\n",
    "b= 2\n",
    "print(a+a+a+b+b+b)\n",
    "\n",
    "sys.executable   #설치파일 위치를 반환\n",
    "sys.path  # 마지막 코드 패스 반환"
   ]
  },
  {
   "cell_type": "code",
   "execution_count": null,
   "id": "1c645261",
   "metadata": {},
   "outputs": [],
   "source": [
    "hap = 0\n",
    "\n",
    "for i in range(1,11,1):\n",
    "    hap = hap + i\n",
    "print(f'1에서 10까지의 합계: {hap}')\n",
    "print('1에서 10까지의 합계:',hap)\n",
    "\n"
   ]
  },
  {
   "cell_type": "code",
   "execution_count": null,
   "id": "b684ec27",
   "metadata": {},
   "outputs": [],
   "source": [
    "pip list #설치된 pip 리스트 반환\n",
    "pip show opencv -python #특정 라이브러리 자세히 보기\n",
    "pip show jupyter  #pip는 주피터상에서보다는 cmd에서 하는게 더 낫다"
   ]
  },
  {
   "cell_type": "code",
   "execution_count": null,
   "id": "dfdf979d",
   "metadata": {},
   "outputs": [],
   "source": [
    "a=555\n",
    "print(type(a))"
   ]
  },
  {
   "cell_type": "code",
   "execution_count": null,
   "id": "b2b0db7e",
   "metadata": {},
   "outputs": [],
   "source": [
    "print(10 * 2) # 20\n",
    "print(type(10 * 2))\n",
    "print(10.0 * 2) # 20.0\n",
    "print(type(10.0 * 2)) "
   ]
  },
  {
   "cell_type": "code",
   "execution_count": null,
   "id": "d0024bad",
   "metadata": {},
   "outputs": [],
   "source": [
    "b1 = 0b1010011\n",
    "o1 = 0o11234\n",
    "h1 = 0x10AA\n",
    "print(b1) # 83 (2진수 1010011를 10진수로 출력)\n",
    "print(o1) # 4764 (8진수 0o11234를 10진수로 출력)\n",
    "print(h1) # 4266 (16진수 0x10AA를 10진수로 출력)\n",
    "# 참고) print()는 10진수가 출력된다.\n",
    "# 반대로, 10진수가 아닌 다른 진법으로 값을 출력하고 싶다면\n",
    "b2 = bin(100) # 10진수 100을 2진수로 변환\n",
    "o2 = oct(100) # 10진수 100을 8진수로 변환\n",
    "h2 = hex(100)\n",
    "print(b2) # 0b1100100\n",
    "print(o2) # 0o144\n",
    "print(h2) # 왜 이 경우에는 print함수가 10진수로 나타내지 않는가? 진법이 변환되면서 변수타입이 스트링타입이 되기 때문에.\n",
    "print(type(b1))\n",
    "print(type(o1))\n",
    "print(type(h1))\n",
    "print(type(b2))\n",
    "print(type(o2))\n",
    "print(type(h2))\n",
    "b2=int(b2)\n",
    "o2=int(o2)\n",
    "h2=int(h2)\n",
    "print(b2) # 0b1100100\n",
    "print(o2) # 0o144\n",
    "print(h2) \n",
    "print(type(b2))\n",
    "print(type(o2))\n",
    "print(type(h2))"
   ]
  },
  {
   "cell_type": "code",
   "execution_count": null,
   "id": "00f8a3fc",
   "metadata": {
    "scrolled": true
   },
   "outputs": [],
   "source": [
    "a = input(\"백을 입력해라 : \")\n",
    "print(type(a))\n",
    "\n",
    "print(a+str(200))\n",
    "print(a,str(200))#프린트함수는 출력하고 줄바꿈을 한다.\n",
    "print(int(a)+200)"
   ]
  },
  {
   "cell_type": "code",
   "execution_count": null,
   "id": "120963bf",
   "metadata": {},
   "outputs": [],
   "source": [
    "num1 = int(input('첫번째 숫자: '))\n",
    "num2 = int(input('두번째 숫자: '))\n",
    "           \n",
    "print(num1)\n",
    "print(num2)\n",
    "           \n",
    "# 보라색퍼센트 뒤의 숫자를 앞의 문자열에 대입    \n",
    "print('%d + %d = %d' % (num1, num2, (num1 + num2))) \n",
    "print('%d - %d = %d' % (num1, num2, (num1 - num2)))\n",
    "print('%d * %d = %d' % (num1, num2, (num1 * num2)))\n",
    "print('%d / %d = %f' % (num1, num2, (num1 / num2)))\n",
    "print('%d // %d = %f' % (num1, num2, (num1 // num2)))\n",
    "print('%d % %d = %d' % (num1, num2, (num1 % num2)))\n"
   ]
  },
  {
   "cell_type": "code",
   "execution_count": 1,
   "id": "7d2e9718",
   "metadata": {},
   "outputs": [
    {
     "name": "stdout",
     "output_type": "stream",
     "text": [
      "첫번째 숫자: 50\n",
      "두번째 숫자: 3\n",
      "덧셈: 50 + 3 = 53\n",
      "뺄셈: 50 - 3 = 47\n",
      "곱셈 50 * 3 = 150\n",
      "몫 50 // 3 = 16\n",
      "나머지 50 % 3 = 2\n"
     ]
    }
   ],
   "source": [
    "num1 = int(input('첫번째 숫자: '))\n",
    "num2 = int(input('두번째 숫자: '))\n",
    "           \n",
    "         \n",
    "# 보라색퍼센트 뒤의 숫자를 앞의 문자열에 대입    \n",
    "print('덧셈: %d + %d = %d' % (num1, num2, (num1 + num2))) \n",
    "print('뺄셈: %d - %d = %d' % (num1, num2, (num1 - num2)))\n",
    "print('곱셈 %d * %d = %d' % (num1, num2, (num1 * num2)))\n",
    "print('몫 %d // %d = %d' % (num1, num2, (num1 // num2)))\n",
    "print('나머지 %d %% %d = %d' % (num1, num2, (num1 % num2)))\n",
    "# 퍼센트는 두개써야 인식됨"
   ]
  },
  {
   "cell_type": "code",
   "execution_count": null,
   "id": "37c839f4",
   "metadata": {},
   "outputs": [],
   "source": [
    "num1 = int(input('속도를 입력해 주세요: '))\n",
    "num2 = int(input('거리를 입력해 주세요: '))\n",
    "\n",
    "print('속도 = ', num1)\n",
    "print('거리 = ', num2)\n"
   ]
  },
  {
   "cell_type": "code",
   "execution_count": 9,
   "id": "099a67f0",
   "metadata": {},
   "outputs": [
    {
     "name": "stdout",
     "output_type": "stream",
     "text": [
      "정수를 입력하세요 : 7\n",
      "7+77+777=861\n"
     ]
    }
   ],
   "source": [
    "a = input('정수를 입력하세요 : ')\n",
    "n = int(a)\n",
    "nn = int(a+a)\n",
    "nnn = int(a+a+a)\n",
    "\n",
    "\n",
    "print(f'{n}+{nn}+{nnn}={n+nn+nnn}')"
   ]
  },
  {
   "cell_type": "code",
   "execution_count": null,
   "id": "bfea2f5a",
   "metadata": {},
   "outputs": [],
   "source": []
  }
 ],
 "metadata": {
  "kernelspec": {
   "display_name": "Python 3 (ipykernel)",
   "language": "python",
   "name": "python3"
  },
  "language_info": {
   "codemirror_mode": {
    "name": "ipython",
    "version": 3
   },
   "file_extension": ".py",
   "mimetype": "text/x-python",
   "name": "python",
   "nbconvert_exporter": "python",
   "pygments_lexer": "ipython3",
   "version": "3.8.10"
  }
 },
 "nbformat": 4,
 "nbformat_minor": 5
}

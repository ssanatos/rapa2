{
 "cells": [
  {
   "cell_type": "code",
   "execution_count": null,
   "id": "bc43f4f6",
   "metadata": {},
   "outputs": [],
   "source": [
    "for i in range(10,8,-1):\n",
    "    print(i)"
   ]
  },
  {
   "cell_type": "code",
   "execution_count": null,
   "id": "b73c0441",
   "metadata": {},
   "outputs": [],
   "source": [
    "# end를 입력하면 출력이 옆으로 나온다.\n",
    "\n",
    "for j in range(10) :\n",
    "    for i in range(10) :\n",
    "        print('숫자 %d%d' % (j,i), end=' ')\n",
    "\n",
    "n"
   ]
  },
  {
   "cell_type": "code",
   "execution_count": null,
   "id": "0a638b00",
   "metadata": {},
   "outputs": [],
   "source": [
    "n = int(input('알고싶은 구구단이 몇단인가?:'))\n",
    "\n",
    "for j in range(1,10):\n",
    "    for i in range(n,n+8):\n",
    "        print(\"%d x %d = %2d   \" % (i,j,j*i), end=' ')\n",
    "    print()"
   ]
  },
  {
   "cell_type": "code",
   "execution_count": null,
   "id": "d061b168",
   "metadata": {},
   "outputs": [],
   "source": [
    "for 단 in range(2,10,1):\n",
    "    print(f' #{단:2}단', end='       ')\n",
    "for w in range(1,10,1):\n",
    "    print()\n",
    "    for h in range(2,10,1):\n",
    "        print(f'{h} x {w} = {w*h:2}', end='   ')"
   ]
  },
  {
   "cell_type": "code",
   "execution_count": null,
   "id": "7ec2eef1",
   "metadata": {},
   "outputs": [],
   "source": [
    "# .ljust() 몇칸 띄어쓰기.\n",
    "for i in range(2,10):\n",
    "    print(f'# {i}단'.ljust(6),end='  ')\n",
    "print()\n",
    "for i in range(1,10):\n",
    "    for j in range(2,10):\n",
    "        print(f'{j}x{i}= {j*i}'.ljust(9),end='')\n",
    "    print()"
   ]
  },
  {
   "cell_type": "code",
   "execution_count": null,
   "id": "bbb807b3",
   "metadata": {},
   "outputs": [],
   "source": [
    "# 값들을 수식으로 리스트를 생성하면서 집어넣고 계산없이 출력\n",
    "# enumerate는 포문 돌때마다 인덱스도 증가하고 변수값도 리스트내용에서 순차적으로 바뀜.\n",
    "gugudan = [f'{i}x{j}={i*j:>2d}' for j in range(1,10) for i in range(2,10)]\n",
    "for idx, i in enumerate(gugudan):\n",
    "    print(i, end=' ')\n",
    "    if (idx+1) % 8 == 0:\n",
    "        print()"
   ]
  },
  {
   "cell_type": "code",
   "execution_count": null,
   "id": "547cc342",
   "metadata": {},
   "outputs": [],
   "source": [
    "for i in range(1,13):\n",
    "    print(f'{i:2}', end=\"  \")\n",
    "    if i%4==0 :\n",
    "        print()"
   ]
  },
  {
   "cell_type": "code",
   "execution_count": null,
   "id": "88e56a51",
   "metadata": {},
   "outputs": [],
   "source": [
    "for i in range(1,4):\n",
    "    print(f'{i:2}   {i+3:2}   {i+6:2}   {i+9:2}')"
   ]
  },
  {
   "cell_type": "code",
   "execution_count": null,
   "id": "e150f837",
   "metadata": {},
   "outputs": [],
   "source": [
    "for i in range(1,4):\n",
    "    for j in range(0,10,3):\n",
    "        print(f'{i+j:2}',end='  ')\n",
    "    print()"
   ]
  },
  {
   "cell_type": "code",
   "execution_count": null,
   "id": "a7c98a3d",
   "metadata": {},
   "outputs": [],
   "source": [
    "for i in range(1,4):\n",
    "    for j in range(0,4):\n",
    "        print(f'{i+j*3:2}',end='  ')\n",
    "    print()"
   ]
  },
  {
   "cell_type": "code",
   "execution_count": null,
   "id": "1dd00411",
   "metadata": {},
   "outputs": [],
   "source": [
    "import random as rd\n",
    "\n",
    "d1, d2, d3, d4, d5, d6 = 0,0,0,0,0,0\n",
    "for _ in range(100) :\n",
    "    n=rd.randint(1,6)\n",
    "    if n==1 : d1+=1\n",
    "    if n==2 : d2+=1\n",
    "    if n==3 : d3+=1\n",
    "    if n==4 : d4+=1\n",
    "    if n==5 : d5+=1\n",
    "    if n==6 : d6+=1\n",
    "print(f'주사위 숫자별 개수: ')\n",
    "print(f'D1[{d1}] D2[{d2}] D3[{d3}] D4[{d4}] D5[{d5}] D6[{d6}]')\n",
    "\n",
    "max=d1\n",
    "#반복문으로 i를 사용해서 d1, d2 ...확인할 수는 없나. \n",
    "\"\"\"for i in range(1,7):\n",
    "    num=str(i)\n",
    "    D = 'd'+num\n",
    "    if max<D :\n",
    "        max=D\"\"\"\n",
    "for _ in range(5):\n",
    "    if max<d2 :\n",
    "        max=d2\n",
    "        n=2\n",
    "    if max<d3 :\n",
    "        max=d3\n",
    "        n=3\n",
    "    if max<d4 :\n",
    "        max=d4\n",
    "        n=4\n",
    "    if max<d5 :\n",
    "        max=d5\n",
    "        n=5\n",
    "    if max<d6 :\n",
    "        max=d6\n",
    "        n=6\n",
    "print(f'가장 많이 나온 숫자: {n}')"
   ]
  },
  {
   "cell_type": "code",
   "execution_count": null,
   "id": "cb829581",
   "metadata": {},
   "outputs": [],
   "source": [
    "hap, i = 0,1\n",
    "while i < 10001:\n",
    "    hap+=i\n",
    "    i+=1\n",
    "print('1~10000까지 합은 : %d'% hap)"
   ]
  },
  {
   "cell_type": "code",
   "execution_count": null,
   "id": "ec1b4215",
   "metadata": {},
   "outputs": [],
   "source": [
    "hap, i = 0,1\n",
    "while True :\n",
    "    if i>100:\n",
    "        break\n",
    "    hap+=i\n",
    "    i+=1\n",
    "    \n",
    "print('1~100까지 합은 : %d'% hap)"
   ]
  },
  {
   "cell_type": "code",
   "execution_count": null,
   "id": "896e78a4",
   "metadata": {},
   "outputs": [],
   "source": [
    "i = 1\n",
    "while True :\n",
    "    if i>10:\n",
    "        print(f'나무 넘어 갑니다~')\n",
    "        break\n",
    "    print(f'나무를 {i}번 찍었습니다.')\n",
    "    i+=1\n"
   ]
  },
  {
   "cell_type": "code",
   "execution_count": null,
   "id": "47c693f5",
   "metadata": {},
   "outputs": [],
   "source": [
    "n=0\n",
    "while n!=4 :\n",
    "    n = int(input(\"\"\"prompt = \n",
    "                        1. Add     2. Del    3. Modify   4. Quit\n",
    "\n",
    "                        Enter number : \"\"\"))\n",
    "print(\"프로그램을 종료합니다.\")\n",
    "\n"
   ]
  },
  {
   "cell_type": "code",
   "execution_count": null,
   "id": "dd3d112c",
   "metadata": {},
   "outputs": [],
   "source": [
    "#별을 한개씩 while문돌면서 찍으려고 함.\n",
    "n = input('별이 몇개?:')\n",
    "star = n.split()\n",
    "i=0\n",
    "k=0\n",
    "while len(n)>k :\n",
    "    while int(star[k])>i :\n",
    "        print('\\u2605', end = '')\n",
    "        i+=1\n",
    "    print()    \n",
    "    k+=1"
   ]
  },
  {
   "cell_type": "code",
   "execution_count": null,
   "id": "bc4bfe47",
   "metadata": {},
   "outputs": [],
   "source": [
    "#별을 한번에 찍음\n",
    "num = input('숫자를 여러개 입력하세요 :')\n",
    "num_len = len(num)\n",
    "i=0\n",
    "while i!=num_len:\n",
    "    print('\\u2605'*2*int(num[i]))\n",
    "    i+=1"
   ]
  },
  {
   "cell_type": "code",
   "execution_count": null,
   "id": "c7ed5eea",
   "metadata": {},
   "outputs": [],
   "source": [
    "length = int(input('공의 높이를 입력하세요(meter):'))\n",
    "meter, cnt = length,0\n",
    "\n",
    "while meter>=0.00001 :\n",
    "    meter*=0.5\n",
    "    cnt+=1\n",
    "    print(meter)\n",
    "print(f'{length}위치에서 공의 튕긴 횟수는 총 {cnt}번 입니다')"
   ]
  },
  {
   "cell_type": "code",
   "execution_count": null,
   "id": "a62d0a78",
   "metadata": {},
   "outputs": [],
   "source": [
    "import random as rd\n",
    "\n",
    "num = rd.randint(1,10000)\n",
    "print(\"\"\"------------------------------------------\n",
    "      * 비밀의 숫자가 지정되었습니다\n",
    "------------------------------------------\"\"\")\n",
    "\n",
    "n=0\n",
    "cnt=0\n",
    "while True :\n",
    "    n =  int(input('숫자를 입력하세요:'))\n",
    "    cnt +=1\n",
    "    if n==num :\n",
    "        print(\"정답입니다\")\n",
    "        print(f\"\"\"------------------------------------------\n",
    "        비밀의 숫자 : {num}\n",
    "        당신의 입력 횟수 : {cnt}\"\"\")\n",
    "        break\n",
    "    elif n>num :\n",
    "        print(\"비밀의 수는 더 작은 수 입니다\")\n",
    "    else :\n",
    "        print(\"비밀의 수는 더 큰 수 입니다\")\n",
    "\n"
   ]
  },
  {
   "cell_type": "code",
   "execution_count": null,
   "id": "f2949584",
   "metadata": {},
   "outputs": [],
   "source": [
    "myList = [2,7,10,13,15]\n",
    "#for i in range(len(myList)):\n",
    "for i in myList:\n",
    "    print(f'index:{i} value:{myList[i]}')"
   ]
  },
  {
   "cell_type": "code",
   "execution_count": null,
   "id": "a7c5a0e8",
   "metadata": {},
   "outputs": [],
   "source": [
    "myList = []\n",
    "\n",
    "for i in range(1,11) :\n",
    "    myList.append(i)\n",
    "print(myList)"
   ]
  },
  {
   "cell_type": "code",
   "execution_count": 4,
   "id": "729273d4",
   "metadata": {},
   "outputs": [
    {
     "name": "stdout",
     "output_type": "stream",
     "text": [
      "red\n",
      "white\n",
      "['green', 'blue', 'black', 'white']\n",
      "5\n"
     ]
    },
    {
     "ename": "TypeError",
     "evalue": "'str' object does not support item assignment",
     "output_type": "error",
     "traceback": [
      "\u001b[1;31m---------------------------------------------------------------------------\u001b[0m",
      "\u001b[1;31mTypeError\u001b[0m                                 Traceback (most recent call last)",
      "\u001b[1;32m~\\AppData\\Local\\Temp/ipykernel_9832/823264686.py\u001b[0m in \u001b[0;36m<module>\u001b[1;34m\u001b[0m\n\u001b[0;32m      6\u001b[0m \u001b[0mprint\u001b[0m\u001b[1;33m(\u001b[0m\u001b[0mlen\u001b[0m\u001b[1;33m(\u001b[0m\u001b[0mcolor\u001b[0m\u001b[1;33m)\u001b[0m\u001b[1;33m)\u001b[0m\u001b[1;33m\u001b[0m\u001b[1;33m\u001b[0m\u001b[0m\n\u001b[0;32m      7\u001b[0m \u001b[1;31m#color[10]=3 #중간에 빈 값들이 있어서 안된다.\u001b[0m\u001b[1;33m\u001b[0m\u001b[1;33m\u001b[0m\u001b[1;33m\u001b[0m\u001b[0m\n\u001b[1;32m----> 8\u001b[1;33m \u001b[0mcolor\u001b[0m\u001b[1;33m[\u001b[0m\u001b[1;36m1\u001b[0m\u001b[1;33m]\u001b[0m\u001b[1;33m[\u001b[0m\u001b[1;36m0\u001b[0m\u001b[1;33m]\u001b[0m\u001b[1;33m=\u001b[0m\u001b[1;36m3\u001b[0m\u001b[1;33m\u001b[0m\u001b[1;33m\u001b[0m\u001b[0m\n\u001b[0m\u001b[0;32m      9\u001b[0m \u001b[0mprint\u001b[0m\u001b[1;33m(\u001b[0m\u001b[0mcolor\u001b[0m\u001b[1;33m[\u001b[0m\u001b[1;36m10\u001b[0m\u001b[1;33m]\u001b[0m\u001b[1;33m)\u001b[0m  \u001b[1;31m# 왜 이건 에러가 나는건가?\u001b[0m\u001b[1;33m\u001b[0m\u001b[1;33m\u001b[0m\u001b[0m\n\u001b[0;32m     10\u001b[0m \u001b[1;33m\u001b[0m\u001b[0m\n",
      "\u001b[1;31mTypeError\u001b[0m: 'str' object does not support item assignment"
     ]
    }
   ],
   "source": [
    "color = ['red', 'green', 'blue', 'black', 'white']\n",
    "\n",
    "print(color[0])\n",
    "print(color[4])\n",
    "print(color[1:100]) # 왜 이건 에러가 안나는데\n",
    "print(len(color))\n",
    "#color[10]=3 #중간에 빈 값들이 있어서 안된다.\n",
    "color[1][0]=3 #새로운 차원을 생성하고 입력하려 해도 빈값이 있어서 그런지 에러난다.\n",
    "#그럼 기존에 1차원으로 생성된 리스트를 어떻게 다차원으로 만드는가?\n",
    "print(color[10])  # 왜 이건 에러가 나는건가?\n",
    "\n",
    "\n"
   ]
  },
  {
   "cell_type": "code",
   "execution_count": null,
   "id": "4ff4b119",
   "metadata": {},
   "outputs": [],
   "source": [
    "color = ['red', 'green', 'blue', 'black', 'white']\n",
    "color2 = ['red', 'green', 'blue']\n",
    "\n",
    "print(color-color2)"
   ]
  },
  {
   "cell_type": "code",
   "execution_count": null,
   "id": "7c434f9d",
   "metadata": {},
   "outputs": [],
   "source": [
    "numbers = [[1,2,3],[[4,5]],6,7]\n",
    "print(numbers[1][0][0])"
   ]
  },
  {
   "cell_type": "code",
   "execution_count": null,
   "id": "5bdfc5f2",
   "metadata": {},
   "outputs": [],
   "source": [
    "myList = list(range(1,13))\n",
    "\n",
    "for i in myList :\n",
    "    print(f'{myList[i-1]:2}', end = \"   \")\n",
    "    if (i)%4==0 :\n",
    "        print()\n",
    "    "
   ]
  },
  {
   "cell_type": "code",
   "execution_count": null,
   "id": "1382046e",
   "metadata": {},
   "outputs": [],
   "source": [
    "myList = list()\n",
    "for i in range(1,201) :\n",
    "    if i % 3 == 0 :\n",
    "        myList.append(i)\n",
    "print(\"1~200 중 3의 배수 : \",myList)"
   ]
  },
  {
   "cell_type": "code",
   "execution_count": null,
   "id": "115a98c7",
   "metadata": {},
   "outputs": [],
   "source": [
    "아이돌 = ['BTS', '트와이스', '블랙핑크', '뉴이스트']\n",
    "\n",
    "jumsu = []\n",
    "\n",
    "for idx, value in enumerate(아이돌) :\n",
    "    tmp = int(input(f'{value}의 성적 입력: '))\n",
    "    jumsu.append(tmp)\n",
    "\n",
    "print('-'*30)\n",
    "print('아이돌 성적')\n",
    "print('-'*30)\n",
    "\n",
    "result = ''\n",
    "for i in range(len(아이돌)):\n",
    "    if jumsu[i] >=80 : result = '수료'\n",
    "    else : result = '미수료'\n",
    "    print(f'{아이돌[i]}의 성적은 {jumsu[i]} 점 : {result}')"
   ]
  },
  {
   "cell_type": "code",
   "execution_count": 2,
   "id": "e955e282",
   "metadata": {},
   "outputs": [
    {
     "name": "stdout",
     "output_type": "stream",
     "text": [
      "'BTS'의 성적 입력:10\n",
      "'트와이스'의 성적 입력:90\n",
      "'블랙핑크'의 성적 입력:70\n",
      "'뉴이스트'의 성적 입력:80\n",
      "-----------------------------------------\n",
      "아이돌 성적 결과\n",
      "-----------------------------------------\n",
      "'BTS'의 성적은 10점: FAIL\n",
      "'트와이스'의 성적은 90점: PASS\n",
      "'블랙핑크'의 성적은 70점: FAIL\n",
      "'뉴이스트'의 성적은 80점: PASS\n"
     ]
    }
   ],
   "source": [
    "idols = ['BTS', '트와이스', '블랙핑크', '뉴이스트']\n",
    "#컴프리헨션 \n",
    "scores = [int(input(f\"'{idol}'의 성적 입력:\")) for idol in idols]\n",
    "print(\"\"\"-----------------------------------------\n",
    "아이돌 성적 결과\n",
    "-----------------------------------------\"\"\")\n",
    "#result=[\"PASS\" if scores[i]>=80 else \"FAIL\" for i in range(len(scores))]\n",
    "result=[\"PASS\" if score>=80 else \"FAIL\" for score in scores]\n",
    "\n",
    "for i, v in enumerate(idols):\n",
    "    print(f\"'{v}'의 성적은 {scores[i]}점: {result[i]}\")"
   ]
  },
  {
   "cell_type": "code",
   "execution_count": 18,
   "id": "ed7aa86a",
   "metadata": {},
   "outputs": [
    {
     "name": "stdout",
     "output_type": "stream",
     "text": [
      "2021/1/1 ~ 2021/08/25 : 237\n"
     ]
    }
   ],
   "source": [
    "import datetime\n",
    "\n",
    "# nowdata = input(\"년월일 8자리를 입력하세요 :\")\n",
    "now = datetime.datetime.now()\n",
    "nowdata = now.strftime('%Y%m%d')\n",
    "\n",
    "dates = [31,28,31,30,31,30,31,31,30,31,30,31]\n",
    "\n",
    "sum = 0\n",
    "#for문으로 합구함.\n",
    "for i in range(int(nowdata[4:6])-1):\n",
    "    sum += dates[i]\n",
    "sum+=int(nowdata[6:])\n",
    "    \n",
    "#올해가 윤년인가?\n",
    "year = int(nowdata[:4])\n",
    "if year % 400 ==0 or (year % 100 !=0 and year % 4 ==0) :\n",
    "    print(\"윤년이네요\")\n",
    "    sum+=1\n",
    "\n",
    "print(f\"{nowdata[:4]}/1/1 ~ {nowdata[:4]}/{nowdata[4:6]}/{nowdata[6:8]} : {sum}\")\n",
    "    \n",
    "    \n",
    "\n"
   ]
  },
  {
   "cell_type": "code",
   "execution_count": null,
   "id": "85c5f56b",
   "metadata": {},
   "outputs": [],
   "source": [
    "today = input('YYYYMMDD :')\n",
    "#파이썬에서도 ;로 문장구분 가능하다.\n",
    "today_y = int(today[0:4]); today_m = int(today[4:6]) ; today_d = int(today[6:8])\n",
    "dates = [31,28,31,30,31,30,31,31,30,31,30,31]\n",
    "if today_y % 400 ==0 or (today_y %100 != 0 and today_y % 4 ==0):\n",
    "    dates[1]=29\n",
    "\n",
    "#for문으로 합구하는게 아니라 리스트로 sum함수로 합구함\n",
    "days = sum(dates[0:today_m-1])+today_d-1\n",
    "print('-'*20)\n",
    "print(f'{today_y}/1/1 ~ {today_y}/{today_m}/{today_d} : {days}')\n"
   ]
  },
  {
   "cell_type": "code",
   "execution_count": 21,
   "id": "ea6f2437",
   "metadata": {},
   "outputs": [
    {
     "name": "stdout",
     "output_type": "stream",
     "text": [
      "시작일(YYYYMMDD):19880620\n",
      "종료일(YYYYMMDD):20210825\n",
      "19880620에서 20210825까지의 소요일: 12119\n"
     ]
    }
   ],
   "source": [
    "import datetime\n",
    "\n",
    "start = input(\"시작일(YYYYMMDD):\")\n",
    "end = input(\"종료일(YYYYMMDD):\")\n",
    "s_day = datetime.datetime.strptime(start, '%Y%m%d')\n",
    "e_day = datetime.datetime.strptime(end, '%Y%m%d')\n",
    "print(f\"{start}에서 {end}까지의 소요일:\",(e_day-s_day).days)"
   ]
  },
  {
   "cell_type": "markdown",
   "id": "8c7173c9",
   "metadata": {},
   "source": [
    "####### 오늘의 코드\n",
    "\n",
    "for i in range(10,8,-1):\n",
    "    print(i)\n",
    "    \n",
    "print('숫자 %d%d' % (j,i), end=' ')\n",
    " \n",
    "print(f'{h} x {w} = {w*h:2}', end='   ') \n",
    "\n",
    "print(f'# {i}단'.ljust(6),end='  ')\n",
    "\n",
    "gugudan = [f'{i}x{j}={i*j:>2d}' for j in range(1,10) for i in range(2,10)]\n",
    "for idx, i in enumerate(gugudan):\n",
    "    print(i, end=' ')\n",
    "    if (idx+1) % 8 == 0:\n",
    "        print()\n",
    "        \n",
    "d1, d2, d3, d4, d5, d6 = 0,0,0,0,0,0\n",
    "\n",
    " print('\\u2605'*2*int(num[i]))\n",
    " \n",
    " scores = [int(input(f\"'{idol}'의 성적 입력:\")) for idol in idols]\n",
    " \n",
    " now = datetime.datetime.now()\n",
    "nowdata = now.strftime('%Y%m%d')\n",
    "\n",
    "if year % 400 ==0 or (year % 100 !=0 and year % 4 ==0) :\n",
    "\n",
    "today_y = int(today[0:4]); today_m = int(today[4:6]) ; today_d = int(today[6:8])\n",
    "\n",
    "sum(dates[0:today_m-1])"
   ]
  }
 ],
 "metadata": {
  "kernelspec": {
   "display_name": "Python 3 (ipykernel)",
   "language": "python",
   "name": "python3"
  },
  "language_info": {
   "codemirror_mode": {
    "name": "ipython",
    "version": 3
   },
   "file_extension": ".py",
   "mimetype": "text/x-python",
   "name": "python",
   "nbconvert_exporter": "python",
   "pygments_lexer": "ipython3",
   "version": "3.8.10"
  }
 },
 "nbformat": 4,
 "nbformat_minor": 5
}

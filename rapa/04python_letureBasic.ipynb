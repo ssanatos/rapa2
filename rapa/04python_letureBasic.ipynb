{
 "cells": [
  {
   "cell_type": "markdown",
   "id": "7f627915",
   "metadata": {},
   "source": [
    "###### 튜플\n",
    "\n"
   ]
  },
  {
   "cell_type": "code",
   "execution_count": null,
   "id": "c49dcea3",
   "metadata": {},
   "outputs": [],
   "source": [
    "menu = ('짜장면','우동')\n",
    "menu[0] = '유산슬'"
   ]
  },
  {
   "cell_type": "code",
   "execution_count": null,
   "id": "86d5e0e1",
   "metadata": {},
   "outputs": [],
   "source": [
    "L = ['a','b','c']\n",
    "T = 'a','b','c'\n",
    "\n",
    "#튜플 사이즈 확인. 튜플이 더 작다.\n",
    "import sys\n",
    "print(sys.getsizeof(L))\n",
    "print(sys.getsizeof(T))"
   ]
  },
  {
   "cell_type": "code",
   "execution_count": null,
   "id": "ea3001a2",
   "metadata": {},
   "outputs": [],
   "source": [
    "import timeit\n",
    "\n",
    "start = timeit.default_timer()\n",
    "List = [0,1,2,3,4,5,6,7,8,9]\n",
    "end = timeit.default_timer()\n",
    "print(end-start)\n",
    "\n",
    "start = timeit.default_timer()\n",
    "Tupel = [0,1,2,3,4,5,6,7,8,9]\n",
    "end = timeit.default_timer()\n",
    "print(end-start)"
   ]
  },
  {
   "cell_type": "code",
   "execution_count": null,
   "id": "4a54ece6",
   "metadata": {},
   "outputs": [],
   "source": [
    "help(dict)"
   ]
  },
  {
   "cell_type": "code",
   "execution_count": null,
   "id": "64c4cb4e",
   "metadata": {},
   "outputs": [],
   "source": [
    "# 딕셔너리에 요소 추가/수정/삭제\n",
    "\n",
    "name = '박지민'\n",
    "scores = {'kor':90,'eng':89,'수학':95,'과학':100}\n",
    "print(scores)\n",
    "\n",
    "#딕셔너리 맨 뒤에 키이름으로추가.\n",
    "scores['music'] = 100\n",
    "print(scores)\n",
    "\n",
    "#딕셔너리 요소 수정하기\n",
    "scores['kor'] = 70\n",
    "print(scores['kor'])\n",
    "\n",
    "#딕셔너리 요소 삭제하기\n",
    "del scores['과학']\n",
    "print(scores)\n",
    "\n",
    "print('이름 : %8s' % name)\n",
    "print('국어 : %8s' % scores['kor'])\n",
    "print('영어 : %8s' % scores['eng'])\n",
    "print('수학 : %8s' % scores['수학'])"
   ]
  },
  {
   "cell_type": "code",
   "execution_count": null,
   "id": "385ce107",
   "metadata": {},
   "outputs": [],
   "source": [
    "#딕셔너리에 for문 사용\n",
    "\n",
    "scores = {'kor':70, 'eng':89, \"math\":96, 'music':100}\n",
    "print(scores)\n",
    "\n",
    "for k in scores:\n",
    "    print(f'key[{k}] = value[{scores[k]}]')\n",
    "    \n",
    "    \n",
    "#딕셔너리의 키만 보기.\n",
    "print(scores.keys())\n",
    "for k in scores.key():\n",
    "    print(k)\n",
    "        \n",
    "#딕셔너리의 밸류만 보기\n",
    "print(scores.values())\n",
    "for v in scores.values():\n",
    "    print(v)\n",
    "\n",
    "#딕셔너리의 키와 밸류 다 보기\n",
    "scores.items()\n",
    "for k,v in scores.items():\n",
    "    print(k, v)"
   ]
  },
  {
   "cell_type": "code",
   "execution_count": null,
   "id": "7918a05e",
   "metadata": {},
   "outputs": [],
   "source": [
    "#키값이 될 리스트 작성\n",
    "names = ['BTS','트와이스','블랙핑크','뉴이스트']\n",
    "#딕셔너리 선언\n",
    "idols = {}\n",
    "\n",
    "#키리스트로 반복문 돌리며 딕셔너리에 밸류 입력\n",
    "#이것도 컴프리헨션 되나?\n",
    "for name in names:\n",
    "    idols[name] = int(input(f'{name}의 성적은: '))\n",
    "\n",
    "#딕셔너리의 모든 밸류 합하기\n",
    "hap = 0\n",
    "for key in idols:\n",
    "    hap = hap + idols[key]\n",
    "\n",
    "#밸류의 평균 구하기\n",
    "avg = hap/len(idols)\n",
    "\n",
    "print(\"합계 : {0:3d}, 평균 : {1:4.2f}\" .format(hap,avg))"
   ]
  },
  {
   "cell_type": "code",
   "execution_count": null,
   "id": "33e693e8",
   "metadata": {},
   "outputs": [],
   "source": [
    "names = ['BTS','트와이스','블랙핑크','뉴이스트']\n",
    "\n",
    "#컴프리헨션으로 위의 딕셔너리 채우기.   된다.\n",
    "\"\"\"idols = {name*2 for name in names}\n",
    "print(idols)\"\"\"\n",
    "\n",
    "#컴프리헨션 안에 input 넣는 것도 된다. \n",
    "idols = {int(input(f'{name}:')) for name in names}\n",
    "print(idols)"
   ]
  },
  {
   "cell_type": "code",
   "execution_count": null,
   "id": "bd942be9",
   "metadata": {},
   "outputs": [],
   "source": [
    "#빈 딕셔너리 생성\n",
    "E_Kdic = {}\n",
    "\n",
    "while True :\n",
    "    menu = int(input('''메뉴)\n",
    "        1. 단어 등록\n",
    "        2. 단어 검색\n",
    "        3. 모든 단어 보기\n",
    "        0. 종료하기\n",
    "    -----------------------\n",
    "        메뉴를 선택하세요:'''))\n",
    "\n",
    "    #단어 등록\n",
    "    if menu == 1:\n",
    "        key = input(\"영단어를 입력하세요:\")\n",
    "        E_Kdic[key] = input(\"해당하는 한국어를 입력하세요:\")\n",
    "        #메뉴로 돌아감. elif 쓰니까 굳이 컨티뉴 안해도 되.\n",
    "        continue\n",
    "\n",
    "    #단어 검색\n",
    "    elif menu == 2:\n",
    "        key = input(\"검색할 영단어를 입력하세요:\")\n",
    "        if key in E_Kdic :\n",
    "            print(E_Kdic[key])\n",
    "        else :\n",
    "            print(\"미등록 단어입니다.\")\n",
    "        continue\n",
    "\n",
    "    #전체 딕셔너리 보기\n",
    "    elif menu == 3:\n",
    "        print(E_Kdic.items())\n",
    "        continue\n",
    "\n",
    "    #종료\n",
    "    else :\n",
    "        print(\"프로그램을 종료합니다\")\n",
    "        break\n",
    "\n"
   ]
  },
  {
   "cell_type": "code",
   "execution_count": null,
   "id": "ebf1590f",
   "metadata": {},
   "outputs": [],
   "source": [
    "menu = '''메뉴)\n",
    "        1. 단어 등록\n",
    "        2. 단어 검색\n",
    "        3. 모든 단어 보기\n",
    "        0. 종료하기\n",
    "    -----------------------\n",
    "        메뉴를 선택하세요:'''\n",
    "\n",
    "book = dict()\n",
    "\n",
    "while True :\n",
    "    select = int(input(menu+'선택: '))\n",
    "    \n",
    "    if select == 0:\n",
    " \n",
    "        print(\"프로그램 종료\")\n",
    "        break\n",
    "    elif select ==1 :\n",
    "        k = input(\"영단어를 입력하세요:\")\n",
    "        book[k] = input(\"해당하는 한국어를 입력하세요:\")\n",
    "    elif select ==2:\n",
    "        s = input('검색할 단어:')\n",
    "        if s in book:\n",
    "            print(\"뜻은:\",book[s])\n",
    "        else :\n",
    "            print('미등록 단어입니다.')\n",
    "    elif select==3:\n",
    "        for k,v in book.items():\n",
    "            print(f\"{k}-{v}\")\n",
    "    else:\n",
    "        print(\"잘못입력하셨어요\")\n",
    "        \n",
    "    \n",
    "    \n",
    "            \n",
    "    "
   ]
  },
  {
   "cell_type": "code",
   "execution_count": null,
   "id": "fa505b6f",
   "metadata": {},
   "outputs": [],
   "source": [
    "menu = '''메뉴)\n",
    "        1. 단어 등록\n",
    "        2. 단어 검색\n",
    "        3. 모든 단어 보기\n",
    "        4. 영단어 퀴즈 풀기\n",
    "        5. 한영단어 퀴즈 풀기\n",
    "        0. 종료하기\n",
    "    -----------------------\n",
    "        메뉴를 선택하세요:'''\n",
    "\n",
    "book = dict()\n",
    "\n",
    "while True :\n",
    "    select = int(input(menu+'선택: '))\n",
    "    \n",
    "    if select == 0:\n",
    "        print(\"프로그램 종료\")\n",
    "        break\n",
    "    elif select ==1 :\n",
    "        k = input(\"영단어를 입력하세요:\")\n",
    "        book[k] = input(\"해당하는 한국어를 입력하세요:\")\n",
    "    elif select ==2:\n",
    "        s = input('검색할 단어:')\n",
    "        if s in book:\n",
    "            print(\"뜻은:\",book[s])\n",
    "        else :\n",
    "            print('미등록 단어입니다.')\n",
    "    elif select==3:\n",
    "        for k,v in book.items():\n",
    "            print(f\"{k}-{v}\")\n",
    "    #퀴즈풀기\n",
    "    elif select == 4:\n",
    "        import random\n",
    "        k,v = random.choice(tuple(book.items()))\n",
    "        answer = input(f\"{v} 이 단어의 뜻은:\")\n",
    "        if answer == k:\n",
    "            print(\"정답입니다\")\n",
    "        else :\n",
    "            print(\"오답입니다\")\n",
    "    elif select == 5:\n",
    "        import random\n",
    "        k,v = random.choice(tuple(book.items()))\n",
    "        word = k,v\n",
    "        rd = random.choice(word)\n",
    "        answer = input(f\"{rd} 이 단어의 뜻은:\")\n",
    "        if rd == v :\n",
    "            if answer == k:\n",
    "                print(\"정답입니다\")\n",
    "            else :\n",
    "                print(\"오답입니다\")\n",
    "        else :\n",
    "            if answer == v:\n",
    "                print(\"정답입니다\")\n",
    "            else :\n",
    "                print(\"오답입니다\")            \n",
    "    else:\n",
    "        print(\"잘못입력하셨어요\")\n",
    "        \n",
    "    "
   ]
  },
  {
   "cell_type": "code",
   "execution_count": null,
   "id": "12bd62be",
   "metadata": {},
   "outputs": [],
   "source": [
    "import random\n",
    "\n",
    "k = 1\n",
    "v = 34\n",
    "a= 1,34\n",
    "# random.choice(k,v)  이건 안되.\n",
    "a = random.choice(a)\n",
    "print(a)"
   ]
  },
  {
   "cell_type": "code",
   "execution_count": null,
   "id": "bef49260",
   "metadata": {},
   "outputs": [],
   "source": [
    "#help(random.choice)\n",
    "\n",
    "import random\n",
    "\n",
    "#랜덤 초이스는 튜플만 가능한가?\n",
    "l = [1,2,3,4]\n",
    "t = 1,2,3,4\n",
    "d = {'1':1,'2':2,'3':3,'4':4}\n",
    "s = {1,2,3,4}\n",
    "\n",
    "print(random.choice(l))\n",
    "print(random.choice(t))\n",
    "print(random.choice(d)) #딕셔너리는 랜덤초이스 잘안되.\n",
    "print(random.choice(s)) #집합은 랜덤초이스 잘안되.\n"
   ]
  },
  {
   "cell_type": "code",
   "execution_count": null,
   "id": "3f71f49e",
   "metadata": {},
   "outputs": [],
   "source": [
    "#set 생성하기\n",
    "#문자열도 알파벳으로 다 쪼개서 저장됨\n",
    "a = set(\"hello\")\n",
    "print(a)"
   ]
  },
  {
   "cell_type": "code",
   "execution_count": null,
   "id": "503ed0bc",
   "metadata": {},
   "outputs": [],
   "source": [
    "help(set)"
   ]
  },
  {
   "cell_type": "code",
   "execution_count": null,
   "id": "3925f5c5",
   "metadata": {},
   "outputs": [],
   "source": [
    "s1 = {2,4,6,8,10}\n",
    "s2 = {1,2,3,4,5}\n",
    "\n",
    "s_in = s1&s2\n",
    "s_un = s1|s2\n",
    "s_di = s1-s2\n",
    "print(f\"{s_in} \\n{s_un} \\n{s_di}\")\n",
    "print(s1.intersection(s2))\n",
    "print(s1.union(s2))\n",
    "print(s1.difference(s2))\n",
    "print(s_un-s1.union(s2))   #공집합은 그냥 set()로 표현하네"
   ]
  },
  {
   "cell_type": "code",
   "execution_count": null,
   "id": "a8801f03",
   "metadata": {},
   "outputs": [],
   "source": [
    "food=['떡볶이','짜장면']\n",
    "sides = ['오뎅','단무지']\n",
    "tup = zip(food,sides)\n",
    "print(tup)  # 왜 이코드는 안되는 걸까. 무조건 리스트나 딕셔너리같은걸로 묶어줘야되나.\n",
    "print(type(tup))\n",
    "print(list(tup))\n",
    "print(type(tup))\n",
    "print(tuple(tup)) #위에서 리스트를 씌워버리니까 튜플이나 딕셔너리가 프린트 안된다.\n",
    "print(dict(tup))  #리스트든 튜플이든 딕셔너리든 맘대로 다 씌울 수는 있다."
   ]
  },
  {
   "cell_type": "code",
   "execution_count": 2,
   "id": "f79d30b6",
   "metadata": {},
   "outputs": [
    {
     "name": "stdout",
     "output_type": "stream",
     "text": [
      "떡볶이 - 오뎅\n",
      "짜장면 - 단무지\n",
      "라면 - 김치\n"
     ]
    }
   ],
   "source": [
    "foods = ['떡볶이','짜장면','라면','피자','맥주','치킨','삼겹살']\n",
    "sides = ['오뎅','단무지','김치']\n",
    "for food, side in zip(foods,sides):\n",
    "    print(food,'-',side)"
   ]
  },
  {
   "cell_type": "code",
   "execution_count": 3,
   "id": "29394b69",
   "metadata": {},
   "outputs": [
    {
     "name": "stdout",
     "output_type": "stream",
     "text": [
      "떡볶이 - 오뎅\n",
      "짜장면 - 단무지\n",
      "라면 - 김치\n"
     ]
    }
   ],
   "source": [
    "#튜플도 된다.\n",
    "\n",
    "foods = '떡볶이','짜장면','라면','피자','맥주','치킨','삼겹살'\n",
    "sides = '오뎅','단무지','김치'\n",
    "for food, side in zip(foods,sides):\n",
    "    print(food,'-',side)"
   ]
  },
  {
   "cell_type": "code",
   "execution_count": 5,
   "id": "9173390e",
   "metadata": {},
   "outputs": [
    {
     "name": "stdout",
     "output_type": "stream",
     "text": [
      "[('떡볶이', '오뎅'), ('짜장면', '단무지'), ('라면', '김치')]\n",
      "(('떡볶이', '오뎅'), ('짜장면', '단무지'), ('라면', '김치'))\n",
      "{'떡볶이': '오뎅', '짜장면': '단무지', '라면': '김치'}\n"
     ]
    }
   ],
   "source": [
    "foods = ['떡볶이','짜장면','라면','피자','맥주','치킨','삼겹살']\n",
    "sides = ['오뎅','단무지','김치']\n",
    "lis = list(zip(foods,sides))\n",
    "tup = tuple(zip(foods,sides))\n",
    "dic = dict(zip(foods,sides))\n",
    "print(lis)\n",
    "print(tup)\n",
    "print(dic)"
   ]
  },
  {
   "cell_type": "code",
   "execution_count": null,
   "id": "0aa3d7dd",
   "metadata": {},
   "outputs": [],
   "source": [
    "#함수 정의\n",
    "\n",
    "def calc():\n",
    "    n1 = int(input(f\"첫번째 숫자:\"))\n",
    "    n2 = int(input(f\"두번째 숫자:\"))\n",
    "    op = input(\"연산 기호:\")\n",
    "    if op=='+':\n",
    "        return n1+n2\n",
    "    elif op=='-':\n",
    "        return n1-n2\n",
    "    elif op=='*':\n",
    "        return n1*n2\n",
    "    elif op=='/':\n",
    "        return n1/n2\n",
    "    elif op=='//':\n",
    "        return n1//n2\n",
    "    elif op=='%':\n",
    "        return n1%n2\n",
    "\n",
    "print('결과 : %s' % calc())\n",
    "\n",
    "\n"
   ]
  },
  {
   "cell_type": "code",
   "execution_count": null,
   "id": "eb443719",
   "metadata": {},
   "outputs": [],
   "source": [
    "def calc(n1,n2,op):\n",
    "    #연산기호를 리스트에 담아서 찾아서 씀.\n",
    "    operator = ['+','-','*','/']\n",
    "    if op in operator :\n",
    "        #아예 input을 int로 변환하지 않고 이밸로 계산함.\n",
    "        return eval(n1+op+n2)\n",
    "    else:\n",
    "        return \"연산기호가 잘못되었습니다.\"\n",
    "\n",
    "num1 = input(\"첫번째 숫자:\")\n",
    "num2 = input(\"두번째 숫자:\")\n",
    "op = input(\"연산 기호\")\n",
    "\n",
    "print('결과 : %s' % calc(num1,num2,op))"
   ]
  },
  {
   "cell_type": "code",
   "execution_count": null,
   "id": "6185940d",
   "metadata": {},
   "outputs": [],
   "source": [
    "help(eval)"
   ]
  },
  {
   "cell_type": "code",
   "execution_count": null,
   "id": "518e8b38",
   "metadata": {},
   "outputs": [],
   "source": [
    "# 이밸함수는 문자열 내부를 계산함. 따옴표 안은 정상적인 수식이어야 하는가?\n",
    "eval('3+4')\n"
   ]
  },
  {
   "cell_type": "code",
   "execution_count": null,
   "id": "3ba76867",
   "metadata": {},
   "outputs": [],
   "source": [
    "def calc(n1,n2,op):\n",
    "    #그냥 문자열로 해도 됨.\n",
    "    operator = '+-*/'\n",
    "    if op in operator :\n",
    "        return eval(n1+op+n2)\n",
    "    else:\n",
    "        return \"연산기호가 잘못되었습니다.\"\n",
    "\n",
    "num1 = input(\"첫번째 숫자:\")\n",
    "num2 = input(\"두번째 숫자:\")\n",
    "op = input(\"연산 기호\")\n",
    "\n",
    "print('결과 : %s' % calc(num1,num2,op))"
   ]
  },
  {
   "cell_type": "code",
   "execution_count": null,
   "id": "059a1c6f",
   "metadata": {},
   "outputs": [],
   "source": [
    "def get_random_item(items):\n",
    "    import random\n",
    "    return random.choice(items)\n",
    "\n",
    "items=['피카추','라이추','파이리','꼬부기','버터풀','야도란','피존투','또가스']\n",
    "print(items)\n",
    "print(f'랜덤 아이템: {get_random_item(items)}')\n"
   ]
  },
  {
   "cell_type": "code",
   "execution_count": null,
   "id": "8141ccd0",
   "metadata": {},
   "outputs": [],
   "source": [
    "import random\n",
    "\n",
    "print('**로또 추첨을 시작합니다. **\\n');\n",
    "\n",
    "def lottoNumber():\n",
    "    lot = [ random.randint(1,46) for _ in range(6)] #중복 발생\n",
    "    lot.sort()\n",
    "    return lot\n",
    "\n",
    "print(f'로또번호: {lottoNumber()}')\n",
    "\n",
    "    "
   ]
  },
  {
   "cell_type": "code",
   "execution_count": null,
   "id": "82b300ab",
   "metadata": {},
   "outputs": [],
   "source": [
    "def lotto():\n",
    "    import random\n",
    "    x = []\n",
    "    while True:\n",
    "        c = random.randint(1,45)\n",
    "        if len(x) == 6:\n",
    "            break\n",
    "        if c not in x:\n",
    "            x.append(c)\n",
    "    x.sort()\n",
    "    print('Good Luck !',x)\n",
    "lotto()"
   ]
  },
  {
   "cell_type": "code",
   "execution_count": null,
   "id": "27a2e323",
   "metadata": {},
   "outputs": [],
   "source": [
    "import random\n",
    "print('** 로또 추첨을 시작합니다. ** \\n')\n",
    "def lottoNumber():\n",
    "    #random.sample 은 비복원추출.\n",
    "    r_num = random.sample(list(range(1,46),k=6)\n",
    "    r_num.sort()\n",
    "    return r_num\n",
    "print('로또 번호: %s'%lottoNumber())"
   ]
  },
  {
   "cell_type": "code",
   "execution_count": null,
   "id": "e0cf4069",
   "metadata": {},
   "outputs": [],
   "source": [
    "import urllib.request # import urllib.request as ur\n",
    "import ssl  #https 긁어올 때\n",
    "context = ssl._create_unverified_context()\n",
    "\n",
    "\n",
    "def exchange() :\n",
    "    \n",
    "    searchdic= {'기준시간':'class=\"grp_info\"> <em>',\n",
    "                '달러':'<span>미국 <em>USD</em></span></a></th> <td><span>',\n",
    "                '위안':'<span>중국 <em>CNY</em></span></a></th> <td><span>',\n",
    "                '유로화':'<span>유럽연합 <em>EUR</em></span></a></th> <td><span>'}\n",
    "    space = [16,8,6,8]\n",
    "    #환율정보 페이지 불러오기\n",
    "    print(\"[환율정보 불러오기]\")\n",
    "    URL = \"https://search.naver.com/search.naver?where=nexearch&sm=top_hty&fbm=1&ie=utf8&query=%ED%99%98%EC%9C%A8\"\n",
    "    page = urllib.request.urlopen(URL, context=context) #page = ur.urlopen(URL, context=context)\n",
    "    text = page.read().decode(\"utf8\")  # 해당 페이지의 소스코드. 개발자모드의 소스코드를 통째로 긁어옴.\n",
    "    #print(text)\n",
    "    #text에 저장될 수 있는 데이터의 크기는 얼마나 되나?\n",
    "\n",
    "    info = input(\"무슨 정보를 원해?\")   \n",
    "    if info in searchdic :\n",
    "        searchText = searchdic[info]\n",
    "        if info=='기준시간': i=space[0]\n",
    "        elif info=='달러': i=space[1]\n",
    "        elif info=='위안': i=space[2]\n",
    "        else : i=space[3]\n",
    "    else :\n",
    "        print(\"잘못된 요구입니다.\")\n",
    "        \n",
    "    where = text.find(searchText) \n",
    "        \n",
    "    targetInfo = text[where+len(searchText):where+len(searchText)+i]\n",
    "    print(f'-{info}: {targetInfo}')\n",
    "\n",
    "exchange()\n",
    "\n"
   ]
  },
  {
   "cell_type": "code",
   "execution_count": null,
   "id": "f507ce59",
   "metadata": {},
   "outputs": [],
   "source": [
    "import urllib.request\n",
    "import ssl #https이기 때문에\n",
    "context = ssl._create_unverified_context()\n",
    "def bring_info(ser_t, ta_in, name):\n",
    "    searchText=ser_t\n",
    "    where     =text.find(searchText)\n",
    "    targetInfo=text[where+len(searchText):where+len(searchText)+int(ta_in)]\n",
    "    print(f'{name}: {targetInfo}')\n",
    "#환율정보 페이지 불러오기\n",
    "print(\"[환율정보 불러오기]\")\n",
    "URL = \"https://search.naver.com/search.naver?where=nexearch&sm=top_hty&fbm=1&ie=utf8&query=%ED%99%98%EC%9C%A8\"\n",
    "page = urllib.request.urlopen(URL, context=context)\n",
    "text = page.read().decode(\"utf8\")  # 해당 페이지의 소스코드\n",
    "#환율정보 가져오기: 기준시간\n",
    "bring_info('class=\"grp_info\"> <em>',16,'-환율기준시간')\n",
    "#환율정보 가져오기: 달러\n",
    "bring_info('<span>미국 <em>USD</em></span></a></th> <td><span>',5,'-달러')\n",
    "#환율정보 가져오기: 위안\n",
    "bring_info('<span>중국 <em>CNY</em></span></a></th> <td><span>',3,'-위안')\n",
    "#환율정보 가져오기:유로화\n",
    "bring_info('<span>유럽연합 <em>EUR</em></span></a></th> <td><span>',5,'-유로')\n",
    "#환율정보 가져오기: 엔화\n",
    "bring_info('<span>일본 <em>JPY 100</em></span></a></th> <td><span>',8,'-엔화')"
   ]
  },
  {
   "cell_type": "code",
   "execution_count": null,
   "id": "e7c78b71",
   "metadata": {},
   "outputs": [],
   "source": [
    "import urllib.request\n",
    "import ssl\n",
    "context = ssl._create_unverified_context()\n",
    "#환율정보 페이지 불러오기\n",
    "print(\"[환율정보 불러오기]\")\n",
    "URL = \"https://search.naver.com/search.naver?where=nexearch&sm=top_hty&fbm=1&ie=utf8&query=%ED%99%98%EC%9C%A8\"\n",
    "page = urllib.request.urlopen(URL, context=context)\n",
    "text = page.read().decode(\"utf8\")  # 해당 페이지의 소스코드\n",
    "#print(text)\n",
    "target_sources = {'미국':'USD','일본':'JPY','유럽연합':'EUR','중국':'CNY','영국':'GBP',\n",
    "                 '호주':'AUD', '캐나다':'CAD', '뉴질랜드':'NZD'}\n",
    "def getTargetInfo(name):\n",
    "    searchText = f'<span>{name}' # <em>USD</em></span></a></th> <td><span>\n",
    "    where1      = text.find(searchText)\n",
    "    span_txt = '<span>'\n",
    "    end_txt = '</span>'\n",
    "    where_start = text.find(span_txt, where1+len(searchText))\n",
    "    where_end = text.find(end_txt,where_start+len(span_txt))\n",
    "    targetInfo = text[where_start+len(span_txt):where_end]\n",
    "    print(f'-{name} {target_sources[name]}: {targetInfo}')\n",
    "def current_time():\n",
    "    searchText = 'class=\"grp_info\"> <em>'\n",
    "    where      = text.find(searchText)  #소스코드에서 해당 문자열의 시작위치\n",
    "    targetInfo = text[where+len(searchText):where+len(searchText)+16]\n",
    "    print(f'\\n\\n<<-환율기준시간: {targetInfo}>>\\n')\n",
    "current_time()\n",
    "for name in target_sources:\n",
    "    getTargetInfo(name)"
   ]
  },
  {
   "cell_type": "code",
   "execution_count": 9,
   "id": "a97ce968",
   "metadata": {},
   "outputs": [
    {
     "name": "stdout",
     "output_type": "stream",
     "text": [
      "[1, 2, '3', 4, 5, '6', 7, 8, '9', 10]\n"
     ]
    }
   ],
   "source": [
    "myList = [1,2,3,4,5,6,7,8,9,10]\n",
    "\n",
    "#람다 함수 안에는 if가 못들어가나? 들어갈 수 있는데 내가 수식을 잘못쓴거.\n",
    "# 순서를 잘못 기입하거나(정해진 문법 순서대로 해야됨)\n",
    "# 논리적으로 else를 입력해야되는데 기입하지 않은 경우.\n",
    "myList = list(map(lambda i:str(i) if i%3==0 else i,myList))\n",
    "print(myList)"
   ]
  },
  {
   "cell_type": "code",
   "execution_count": 6,
   "id": "76533d4d",
   "metadata": {},
   "outputs": [
    {
     "name": "stdout",
     "output_type": "stream",
     "text": [
      "[1, 2, '3', 4, 5, '6', 7, 8, '9', 10]\n"
     ]
    }
   ],
   "source": [
    "myList = [1,2,3,4,5,6,7,8,9,10]\n",
    "\n",
    "convert = lambda x : str(x) if x%3==0 else x\n",
    "myList = list(map(convert, myList))\n",
    "print(myList)"
   ]
  },
  {
   "cell_type": "code",
   "execution_count": 10,
   "id": "5590c0b4",
   "metadata": {},
   "outputs": [
    {
     "name": "stdout",
     "output_type": "stream",
     "text": [
      "[1, 2, '3', 4, 5, '6', 7, 8, '9', 10]\n"
     ]
    }
   ],
   "source": [
    "myList = [1,2,3,4,5,6,7,8,9,10]\n",
    "\n",
    "#람다 변수 땡댕 식 이프 조건 엘스\n",
    "myList = list(map(lambda x : str(x) if x%3==0 else x, myList))\n",
    "print(myList)"
   ]
  },
  {
   "cell_type": "code",
   "execution_count": 13,
   "id": "27cafeaf",
   "metadata": {},
   "outputs": [
    {
     "data": {
      "text/plain": [
       "[1, 2, '3', 4, 5, '6', 7, 8, '9', 10]"
      ]
     },
     "execution_count": 13,
     "metadata": {},
     "output_type": "execute_result"
    }
   ],
   "source": [
    "myList = [1,2,3,4,5,6,7,8,9,10]\n",
    "\n",
    "myList = [str(x) if x%3==0 else x for x in myList]\n",
    "#왜 밑의 코드는 안되지?\n",
    "#밑에 밑에 있는 코드에서는 순서를 for문 먼저하고 if문 뒤에 해야 되는데\n",
    "# 왜 이거는 if문이 먼저나와야 되나.\n",
    "#myList = [str(x) for x in myList if x%3==0 else x ]\n",
    "#myList = [str(x) for x in range(10) if x%3==0 else x ]\n",
    "myList"
   ]
  },
  {
   "cell_type": "code",
   "execution_count": 9,
   "id": "6f0b989f",
   "metadata": {},
   "outputs": [
    {
     "name": "stdout",
     "output_type": "stream",
     "text": [
      "[2, 8, 18, 32, 50]\n"
     ]
    }
   ],
   "source": [
    "myList1 = [1,2,3,4,5]\n",
    "myList2 = [2,4,6,8,10]\n",
    "\n",
    "mul=lambda x,y:x*y\n",
    "myList = list(map(mul, myList1, myList2))\n",
    "print(myList)"
   ]
  },
  {
   "cell_type": "code",
   "execution_count": 14,
   "id": "64d26049",
   "metadata": {},
   "outputs": [
    {
     "name": "stdout",
     "output_type": "stream",
     "text": [
      "[0, 1, 2, 3]\n"
     ]
    }
   ],
   "source": [
    "#ms = [i if i<4 for i in range(6)]  순서 바꾸면 안된다.\n",
    "ms = [i for i in range(6) if i<4]\n",
    "print(ms)"
   ]
  },
  {
   "cell_type": "code",
   "execution_count": 11,
   "id": "efcde645",
   "metadata": {},
   "outputs": [
    {
     "data": {
      "text/plain": [
       "[1, 2, '3', 4, 5, '6', 7, 8, '9', 10]"
      ]
     },
     "execution_count": 11,
     "metadata": {},
     "output_type": "execute_result"
    }
   ],
   "source": [
    "myList = [1,2,3,4,5,6,7,8,9,10]\n",
    "\n",
    "myList = [str(x) if x%3==0 else x for x in myList]\n",
    "myList"
   ]
  },
  {
   "cell_type": "code",
   "execution_count": 18,
   "id": "ad41e779",
   "metadata": {},
   "outputs": [
    {
     "data": {
      "text/plain": [
       "['3', '6', '9']"
      ]
     },
     "execution_count": 18,
     "metadata": {},
     "output_type": "execute_result"
    }
   ],
   "source": [
    "myList = [1,2,3,4,5,6,7,8,9,10]\n",
    "\n",
    "myList = [str(x) for x in myList if x%3==0 else x ]\n",
    "myList"
   ]
  },
  {
   "cell_type": "code",
   "execution_count": 16,
   "id": "a6563fde",
   "metadata": {},
   "outputs": [
    {
     "data": {
      "text/plain": [
       "[0, 3, 6, 9]"
      ]
     },
     "execution_count": 16,
     "metadata": {},
     "output_type": "execute_result"
    }
   ],
   "source": [
    "myList = [i for i in range(10) if i%3==0]\n",
    "myList"
   ]
  },
  {
   "cell_type": "code",
   "execution_count": 17,
   "id": "9cea974e",
   "metadata": {},
   "outputs": [
    {
     "data": {
      "text/plain": [
       "[0, 1, 2, 3, 4, 5, 6, 7, 8, 9]"
      ]
     },
     "execution_count": 17,
     "metadata": {},
     "output_type": "execute_result"
    }
   ],
   "source": [
    "# else가 있고 없고에 따라서 for와 if의 순서가 달라진다. \n",
    "# else가 있으면 for 앞으로.\n",
    "# else가 없으면 for 뒤로.\n",
    "myList = [i if i%3==0 else i for i in range(10)]\n",
    "myList"
   ]
  },
  {
   "cell_type": "markdown",
   "id": "9110979c",
   "metadata": {},
   "source": [
    "\n",
    "###########오늘의 코드\n",
    "\n",
    "print(sys.getsizeof(Tupel))\n",
    "\n",
    "#딕셔너리의 요소 추가/수정\n",
    "scores['kor'] = 70\n",
    "\n",
    "#딕셔너리 요소 삭제하기\n",
    "del scores['과학']\n",
    "\n",
    "#튜플이 리스트보다 더 빨라\n",
    "import timeit\n",
    "start = timeit.default_timer()\n",
    "Tuple = 0,1,2,3,4,5,6,7,8,9\n",
    "end = timeit.default_timer()\n",
    "\n",
    "#알아서 키에서 찾아\n",
    "if key in dictionary :\n",
    "\n",
    "#딕셔너리에서 키로 반복\n",
    "for k in scores.key():\n",
    "\n",
    "#딕셔너리에서 밸류로 반복\n",
    "for v in scores.values():\n",
    "\n",
    "#딕셔너리에서 키와 밸류 둘다 반복\n",
    "for k,v in scores.items():\n",
    "\n",
    "#딕셔너리에 컴프리헨션으로 input넣는 것도 된다.\n",
    "idols = {int(input(f'{name}:')) for name in names}\n",
    "\n",
    "#딕셔너리 안에서 랜덤초이스 하는 코드. 먼저 딕셔너리를 튜플로 감싸야 되. \n",
    "#랜덤초이스안에는 여러개의 변수 넣을 수 없어.random.choice(a,b..)안되. \n",
    "import random\n",
    "k,v = random.choice(tuple(book.items()))\n",
    "\n",
    "#랜덤초이스는 리스트와 튜플만 가능한듯\n",
    "print(random.choice(list))\n",
    "print(random.choice(tuple))\n",
    "\n",
    "#zip은 type이 zip이다. 출력은 튜플로 씌워서 출력해야 보여.\n",
    "tup = zip(food,sides)\n",
    "print(tuple(tup))\n",
    "\n",
    "#람다(함수정의하는 함수)와 맵함수(반복적용함수)\n",
    "myList = list(map(lambda num:num+10,myList)) # 변수:식, 적용할리스트\n",
    "\n",
    "#이밸함수는 문자로 된 수식을 계산해. in 연산자는 문자열도 리스트처럼 적용가능.\n",
    "#operator = ['+','-','*','/']\n",
    "operator = '+-*/'\n",
    "if op in operator :\n",
    "    return eval(n1+op+n2)\n",
    "\n",
    "#random.sample 은 비복원추출.\n",
    "r_num = random.sample(list(range(1,46),k=6)\n",
    "    \n"
   ]
  },
  {
   "cell_type": "code",
   "execution_count": null,
   "id": "64f9ac67",
   "metadata": {},
   "outputs": [],
   "source": []
  }
 ],
 "metadata": {
  "kernelspec": {
   "display_name": "Python 3 (ipykernel)",
   "language": "python",
   "name": "python3"
  },
  "language_info": {
   "codemirror_mode": {
    "name": "ipython",
    "version": 3
   },
   "file_extension": ".py",
   "mimetype": "text/x-python",
   "name": "python",
   "nbconvert_exporter": "python",
   "pygments_lexer": "ipython3",
   "version": "3.8.10"
  }
 },
 "nbformat": 4,
 "nbformat_minor": 5
}

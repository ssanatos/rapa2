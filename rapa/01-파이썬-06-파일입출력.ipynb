{
 "cells": [
  {
   "cell_type": "markdown",
   "metadata": {},
   "source": [
    "# 6.파일입출력"
   ]
  },
  {
   "cell_type": "markdown",
   "metadata": {},
   "source": [
    "## 01. 파일목록 및 파일경로"
   ]
  },
  {
   "cell_type": "markdown",
   "metadata": {},
   "source": [
    "### 현재 파일이름 및 파일경로"
   ]
  },
  {
   "cell_type": "code",
   "execution_count": 1,
   "metadata": {
    "scrolled": false
   },
   "outputs": [
    {
     "ename": "NameError",
     "evalue": "name '__file__' is not defined",
     "output_type": "error",
     "traceback": [
      "\u001b[1;31m------------------------------------------------------------\u001b[0m",
      "\u001b[1;31mNameError\u001b[0m                  Traceback (most recent call last)",
      "\u001b[1;32mC:\\Users\\Public\\Documents\\ESTsoft\\CreatorTemp/ipykernel_24760/106557806.py\u001b[0m in \u001b[0;36m<module>\u001b[1;34m\u001b[0m\n\u001b[0;32m      1\u001b[0m \u001b[1;31m#*.py를 실행할 수 있는 VSCode에서 확인하기\u001b[0m\u001b[1;33m\u001b[0m\u001b[1;33m\u001b[0m\u001b[1;33m\u001b[0m\u001b[0m\n\u001b[0;32m      2\u001b[0m \u001b[1;32mimport\u001b[0m \u001b[0mos\u001b[0m\u001b[1;33m\u001b[0m\u001b[1;33m\u001b[0m\u001b[0m\n\u001b[1;32m----> 3\u001b[1;33m \u001b[0mprint\u001b[0m\u001b[1;33m(\u001b[0m\u001b[0m__file__\u001b[0m\u001b[1;33m)\u001b[0m                       \u001b[1;31m#c:\\python\\rapa\\test.py\u001b[0m\u001b[1;33m\u001b[0m\u001b[1;33m\u001b[0m\u001b[0m\n\u001b[0m\u001b[0;32m      4\u001b[0m \u001b[0mprint\u001b[0m\u001b[1;33m(\u001b[0m\u001b[1;36m1\u001b[0m\u001b[1;33m,\u001b[0m \u001b[0mos\u001b[0m\u001b[1;33m.\u001b[0m\u001b[0mpath\u001b[0m\u001b[1;33m.\u001b[0m\u001b[0mdirname\u001b[0m\u001b[1;33m(\u001b[0m\u001b[0m__file__\u001b[0m\u001b[1;33m)\u001b[0m\u001b[1;33m)\u001b[0m   \u001b[1;31m#1 c:\\python\\rapa\u001b[0m\u001b[1;33m\u001b[0m\u001b[1;33m\u001b[0m\u001b[0m\n\u001b[0;32m      5\u001b[0m \u001b[0mprint\u001b[0m\u001b[1;33m(\u001b[0m\u001b[1;36m2\u001b[0m\u001b[1;33m,\u001b[0m \u001b[0mos\u001b[0m\u001b[1;33m.\u001b[0m\u001b[0mpath\u001b[0m\u001b[1;33m.\u001b[0m\u001b[0mrealpath\u001b[0m\u001b[1;33m(\u001b[0m\u001b[0m__file__\u001b[0m\u001b[1;33m)\u001b[0m\u001b[1;33m)\u001b[0m  \u001b[1;31m#2 C:\\python\\rapa\\test.py\u001b[0m\u001b[1;33m\u001b[0m\u001b[1;33m\u001b[0m\u001b[0m\n",
      "\u001b[1;31mNameError\u001b[0m: name '__file__' is not defined"
     ]
    }
   ],
   "source": [
    "#*.py를 실행할 수 있는 VSCode에서 확인하기\n",
    "import os\n",
    "print(__file__)                       #c:\\python\\rapa\\test.py\n",
    "print(1, os.path.dirname(__file__))   #1 c:\\python\\rapa\n",
    "print(2, os.path.realpath(__file__))  #2 C:\\python\\rapa\\test.py\n",
    "print(3, os.path.abspath(__file__))   #3 c:\\python\\rapa\\test.py\n",
    "print(4, os.getcwd())                 #4 C:\\python\n",
    "print(5, os.path.dirname(os.path.realpath(__file__)))  #5 C:\\python\\rapa\n",
    "#print(sys.argv[0])"
   ]
  },
  {
   "cell_type": "code",
   "execution_count": 48,
   "metadata": {
    "scrolled": true
   },
   "outputs": [
    {
     "name": "stdout",
     "output_type": "stream",
     "text": [
      "__file__\n",
      "1 \n",
      "2 C:\\python\\rapa\\test\\test.py\n",
      "3 C:\\python\\rapa\\test\\test.py\n",
      "4 C:\\python\\rapa\\test\n",
      "5 C:\\python\\rapa\\test\n"
     ]
    }
   ],
   "source": [
    "# 주피터노트북에서 확인 : \n",
    "import os\n",
    "print('__file__')                     # 커널 프로그램에서는  __file__ 형식을 지원안함\n",
    "print(1, os.path.dirname('test.py'))\n",
    "print(2, os.path.realpath('test.py'))\n",
    "print(3, os.path.abspath('test.py'))\n",
    "print(4, os.getcwd())\n",
    "print(5, os.path.dirname(os.path.realpath('test.py')))\n",
    "#print(sys.argv[0])"
   ]
  },
  {
   "cell_type": "markdown",
   "metadata": {},
   "source": [
    "### 현재 디렉토리에 있는 파일목록"
   ]
  },
  {
   "cell_type": "code",
   "execution_count": 25,
   "metadata": {
    "collapsed": true
   },
   "outputs": [
    {
     "name": "stdout",
     "output_type": "stream",
     "text": [
      "['.ipynb_checkpoints', '02-00-jupyter.ipynb', '02-01-HelloCV.py', '02-02-HelloCV.py', '02-03-jupyter.ipynb', '02-04-matplotlib.ipynb', '02-04-matplotlib.py', '02-SlideShow-mission1.py', '02-SlideShow-mission2.py', '02-SlideShow-mission3.py', '03-VideoEffect-mission1.py', '03-VideoEffect-mission2.py', '03-파이썬-00-사전학습-답안.ipynb', '03-파이썬-00-입사문제들.ipynb', '03-파이썬-01-설치.ipynb', '03-파이썬-02-기본자료형.ipynb', '03-파이썬-03-제어문.ipynb', '03-파이썬-04-리스트튜플딕셔너리집합.ipynb', '03-파이썬-05-함수모듈패키지클래스.ipynb', '03-파이썬-06-파일입출력.ipynb', '03-파이썬-07-tkinter.ipynb', '03-파이썬-08-pygame.ipynb', '03-파이썬-08-기타.ipynb', '03-파이썬-08-네이버오픈API사용하기.ipynb', '04-Chromakey-mission1.py', '04-Chromakey-mission2.py', '04-파이썬라이브러리-01-numpy.ipynb', '04-파이썬라이브러리-02-pandas.ipynb', '04-파이썬라이브러리-03-matplotlib-자료의수치적특성.ipynb', '04-파이썬라이브러리-03-matplotlib-자료의정리.ipynb', '04-파이썬라이브러리-03-matplotlib.ipynb', '05-opencv-00.ipynb', '10-HandRemocon-mission1.py', '10-HandRemocon-mission2.py', '12-FaceRecog-mission1-face_capture.py', '12-FaceRecog-mission2-face_train.py', '12-FaceRecog-mission3-face_recog.py', '12-yolo_v3-camera.py', '12-yolo_v3-image.py', '12-yolo_v3-image2.py', '12-yolo_v3-video.py', 'face_detector', 'images', 'test.py', 'test.txt', 'Untitled.ipynb', 'videos', 'xml', 'yolo_v3', '실습결과-이미지동영상', '파이썬-기본자료형과 연산자.ipynb']\n"
     ]
    }
   ],
   "source": [
    "import os\n",
    "\n",
    "print(os.listdir(os.getcwd()))"
   ]
  },
  {
   "cell_type": "markdown",
   "metadata": {},
   "source": [
    "### 디렉토리 위치 변경"
   ]
  },
  {
   "cell_type": "code",
   "execution_count": 60,
   "metadata": {},
   "outputs": [
    {
     "name": "stdout",
     "output_type": "stream",
     "text": [
      "C:\\python\n"
     ]
    }
   ],
   "source": [
    "import os\n",
    "\n",
    "dirname = '../'          #디렉토리 지정, './':현재 디렉토리, '../':이전(parent) 디렉토리\n",
    "os.chdir(dirname)       #디렉토리 변경\n",
    "path = os.getcwd()  #변경된 디렉토리 확인\n",
    "print(path)"
   ]
  },
  {
   "cell_type": "markdown",
   "metadata": {},
   "source": [
    "### 실습문제\n",
    "지정한 디렉토리의 파일 목록을 출력하는 프로그램을 함수로 만들어 보세요."
   ]
  },
  {
   "cell_type": "code",
   "execution_count": 1,
   "metadata": {},
   "outputs": [
    {
     "name": "stdout",
     "output_type": "stream",
     "text": [
      "현재디렉토리 ==> C:\\python\\rapa_org\n",
      "------------------------------\n",
      "['.ipynb_checkpoints', '.quickdrawcache', '00-파이썬-OpenAPI-이미지인식.ipynb', '01-파이썬-00-문제-01_20.ipynb', '01-파이썬-00-별찍기.ipynb', '01-파이썬-00-사전학습-답안.ipynb', '01-파이썬-00-입사문제들.ipynb', '01-파이썬-01-설치.ipynb', '01-파이썬-02-기본자료형.ipynb', '01-파이썬-03-제어문.ipynb', '01-파이썬-04-리스트튜플딕셔너리집합.ipynb', '01-파이썬-05-함수모듈패키지클래스.ipynb', '01-파이썬-06-파일입출력.ipynb', '01-파이썬-07-tkinter.ipynb', '01-파이썬-08-pygame.ipynb', '01-파이썬-08-기타.ipynb', '01-파이썬-08-네이버오픈API사용하기.ipynb', '02-파이썬라이브러리-01-numpy.ipynb', '02-파이썬라이브러리-02-pandas.ipynb', '02-파이썬라이브러리-03-matplotlib-자료의수치적특성.ipynb', '02-파이썬라이브러리-03-matplotlib-자료의정리.ipynb', '02-파이썬라이브러리-03-matplotlib.ipynb', '05-cv-02-02-HelloCV.py', '05-cv-02-02-openWindow.py', '05-cv-02-03-Image.py', '05-cv-02-04-imread.py', '05-cv-02-04-imwrite.py', '05-cv-02-04-keyEvent1.py', '05-cv-02-04-keyEvent2.py', '05-cv-02-04-namedWindow.py', '05-cv-02-05-jupyter.ipynb', '05-cv-02-05-matplotlib.ipynb', '05-cv-02-05-matplotlib.py', '05-cv-02-05-matplotlib_one.py', '05-cv-02-all.ipynb', '05-cv-02-SlideShow-mission1.py', '05-cv-02-SlideShow-mission2.py', '05-cv-02-SlideShow-mission3.py', '05-cv-03-01-imageDataType.py', '05-cv-03-01-imageInfo.py', '05-cv-03-02-imageOperation.py', '05-cv-03-02-maskOperation.py', '05-cv-03-04-drawing.py', '05-cv-03-all.ipynb', '05-cv-03-VideoEffect-mission1.py', '05-cv-03-VideoEffect-mission2.py', '05-cv-04-Chromakey-mission1.py', '05-cv-04-Chromakey-mission2.py', '05-cv-10-HandRemocon-mission1.py', '05-cv-10-HandRemocon-mission2.py', '05-cv-12-FaceRecog-mission1-face_capture.py', '05-cv-12-FaceRecog-mission2-face_train.py', '05-cv-12-FaceRecog-mission3-face_recog.py', '05-cv-12-yolo_v3-camera-qucikdraw.py', '05-cv-12-yolo_v3-camera.py', '05-cv-12-yolo_v3-image.py', '05-cv-12-yolo_v3-image2.py', '05-cv-12-yolo_v3-video.py', 'converted_keras', 'converted_keras.zip', 'data', 'face_detector', 'gif', 'images', 'my_anvil.gif', 'my_qucikImage.gif', 'pygame', 'quickDrawImage.py', 'raspberry-googleapi.ipynb', 'tensorflow.keras_tmtest.py', 'test', 'test.py', 'test.txt', 'Untitled.ipynb', 'Untitled1.ipynb', 'videos', 'xml', 'yolo_v3', '_site', '실습결과-이미지동영상', '파이썬-기본자료형과 연산자.ipynb']\n",
      "현재디렉토리 ==> C:\\python\\rapa\n",
      "------------------------------\n",
      "['C:\\\\python\\\\rapa\\\\.ipynb_checkpoints', 'C:\\\\python\\\\rapa\\\\01-파이썬-00-사전학습-답안.ipynb', 'C:\\\\python\\\\rapa\\\\01-파이썬-01-설치.ipynb', 'C:\\\\python\\\\rapa\\\\01-파이썬-군집자료형.ipynb', 'C:\\\\python\\\\rapa\\\\01-파이썬-기본자료형.ipynb', 'C:\\\\python\\\\rapa\\\\01-파이썬-기초명령어.ipynb', 'C:\\\\python\\\\rapa\\\\01-파이썬-제어문.ipynb', 'C:\\\\python\\\\rapa\\\\01-파이썬-파일입출력.ipynb', 'C:\\\\python\\\\rapa\\\\01-파이썬-함수모듈패키지클래스.ipynb', 'C:\\\\python\\\\rapa\\\\02-파이썬라이브러리-01-numpy.ipynb', 'C:\\\\python\\\\rapa\\\\data', 'C:\\\\python\\\\rapa\\\\data.zip', 'C:\\\\python\\\\rapa\\\\gif', 'C:\\\\python\\\\rapa\\\\gif.zip', 'C:\\\\python\\\\rapa\\\\test.py', 'C:\\\\python\\\\rapa\\\\Untitled.ipynb', 'C:\\\\python\\\\rapa\\\\Untitled1.ipynb', 'C:\\\\python\\\\rapa\\\\__pycache__']\n",
      "현재디렉토리 ==> C:\\python\n",
      "------------------------------\n",
      "['AIMaker', 'alphapose', 'codu4', 'debug.log', 'gachon', 'JetsonNano', 'new.txt', 'opencv-sample', 'opencv예제', 'openpose', 'posenet', 'posenet-python-master', 'pycharm', 'python-3.8.6-amd64.exe', 'Python36', 'Python38', 'rapa', 'rapa_org', 'snakegame', 'sungdong', 'sungsugo', 'tensorflow 모델만드는 5가지 방법.txt', 'test', 'TM', 'venv']\n"
     ]
    }
   ],
   "source": [
    "import os\n",
    "'''\n",
    "※ 파이썬에서 디렉토리 표현방법 \n",
    " -  \"C:\\\\python\\\\rapa\\\\test\", \n",
    " -  \"C:/python/rapa/test\"\n",
    "'''\n",
    "#특정 디렉토리 위치로 변경\n",
    "def getDirList(dirname, printOption=False):\n",
    "    _add = ''\n",
    "    os.chdir(dirname)\n",
    "    path = os.getcwd()     \n",
    "    print('현재디렉토리 ==>', path)\n",
    "    print('-'*30)\n",
    "    return [path+'\\\\'+i if printOption==True else i for i in os.listdir(path) ]\n",
    "\n",
    "print(getDirList('./'))\n",
    "print(getDirList('C:/python/rapa', True))\n",
    "print(getDirList('../', False))"
   ]
  },
  {
   "cell_type": "code",
   "execution_count": 83,
   "metadata": {},
   "outputs": [],
   "source": [
    "os.chdir('C:/python/rapa')"
   ]
  },
  {
   "cell_type": "markdown",
   "metadata": {},
   "source": [
    "### 디렉토리 생성하기"
   ]
  },
  {
   "cell_type": "code",
   "execution_count": 134,
   "metadata": {},
   "outputs": [],
   "source": [
    "#디렉토리 생성하기\n",
    "import os\n",
    " \n",
    "def createFolder(directory):\n",
    "    try:\n",
    "        if not os.path.exists(directory):\n",
    "            os.makedirs(directory)\n",
    "    except OSError:\n",
    "        print ('Error: Creating directory. ' +  directory)\n",
    "        \n",
    "dirname = 'C:/aaa/rapa/data'   # '/Users/aaron/Desktop/test'      \n",
    "createFolder(dirname)"
   ]
  },
  {
   "cell_type": "markdown",
   "metadata": {},
   "source": [
    "### 디렉토리 삭제하기"
   ]
  },
  {
   "cell_type": "code",
   "execution_count": 136,
   "metadata": {},
   "outputs": [],
   "source": [
    "#디렉토리 삭제하기\n",
    "import os\n",
    " \n",
    "def deleteFolder(directory):\n",
    "    try:\n",
    "        if os.path.exists(directory):\n",
    "            os.rmdir(directory)\n",
    "    except OSError:\n",
    "        print ('Error: deleting directory. ' +  directory)\n",
    "\n",
    "dirname = 'C:/aaa/rapa/data'   # '/Users/aaron/Desktop/test'      \n",
    "deleteFolder(dirname)"
   ]
  },
  {
   "cell_type": "markdown",
   "metadata": {},
   "source": [
    "--------"
   ]
  },
  {
   "cell_type": "markdown",
   "metadata": {},
   "source": [
    "## 02. 파일 입출력 (txt파일)"
   ]
  },
  {
   "cell_type": "markdown",
   "metadata": {},
   "source": [
    "내 시스템의 유니코드 확인하기"
   ]
  },
  {
   "cell_type": "code",
   "execution_count": 9,
   "metadata": {
    "scrolled": true
   },
   "outputs": [
    {
     "name": "stdout",
     "output_type": "stream",
     "text": [
      "cp949\n",
      "UTF-8\n"
     ]
    }
   ],
   "source": [
    "import sys\n",
    "print(sys.stdin.encoding)\n",
    "print(sys.stdout.encoding)"
   ]
  },
  {
   "cell_type": "markdown",
   "metadata": {},
   "source": [
    "### txt 파일 기본 입출력"
   ]
  },
  {
   "cell_type": "code",
   "execution_count": 86,
   "metadata": {},
   "outputs": [],
   "source": [
    "#파일을 열어(쓰기 모드’w’) 파일에 쓰기\n",
    "f = open('test.txt','w')\n",
    "for i in range(1,11):\n",
    "    f.write('%d 번째 줄입니다.\\n'% i)\n",
    "f.close()"
   ]
  },
  {
   "cell_type": "code",
   "execution_count": 87,
   "metadata": {},
   "outputs": [
    {
     "name": "stdout",
     "output_type": "stream",
     "text": [
      "1 번째 줄입니다.\n",
      "\n"
     ]
    }
   ],
   "source": [
    "#파일을 열어(읽기 모드’r’) 1줄 읽어서 화면에 출력하기\n",
    "#readline(): \n",
    "f = open('test.txt','r')\n",
    "line = f.readline()\n",
    "print(line)\n",
    "f.close()"
   ]
  },
  {
   "cell_type": "code",
   "execution_count": 88,
   "metadata": {
    "collapsed": true
   },
   "outputs": [
    {
     "name": "stdout",
     "output_type": "stream",
     "text": [
      "1 번째 줄입니다.\n",
      "\n",
      "2 번째 줄입니다.\n",
      "\n",
      "3 번째 줄입니다.\n",
      "\n",
      "4 번째 줄입니다.\n",
      "\n",
      "5 번째 줄입니다.\n",
      "\n",
      "6 번째 줄입니다.\n",
      "\n",
      "7 번째 줄입니다.\n",
      "\n",
      "8 번째 줄입니다.\n",
      "\n",
      "9 번째 줄입니다.\n",
      "\n",
      "10 번째 줄입니다.\n",
      "\n"
     ]
    }
   ],
   "source": [
    "#파일을 열어(읽기 모드’r’) 모두 읽어서 화면에 출력하기\n",
    "#readline(): \n",
    "f = open('test.txt','r')\n",
    "while True:\n",
    "    line = f.readline()\n",
    "    if not line: break\n",
    "    print(line)\n",
    "f.close()"
   ]
  },
  {
   "cell_type": "code",
   "execution_count": 90,
   "metadata": {
    "collapsed": true
   },
   "outputs": [
    {
     "name": "stdout",
     "output_type": "stream",
     "text": [
      "1 번째 줄입니다.\n",
      "\n",
      "2 번째 줄입니다.\n",
      "\n",
      "3 번째 줄입니다.\n",
      "\n",
      "4 번째 줄입니다.\n",
      "\n",
      "5 번째 줄입니다.\n",
      "\n",
      "6 번째 줄입니다.\n",
      "\n",
      "7 번째 줄입니다.\n",
      "\n",
      "8 번째 줄입니다.\n",
      "\n",
      "9 번째 줄입니다.\n",
      "\n",
      "10 번째 줄입니다.\n",
      "\n"
     ]
    }
   ],
   "source": [
    "#readlines(): \n",
    "f = open('test.txt','r')\n",
    "for line in f.readlines():\n",
    "    print(line)\n",
    "f.close()"
   ]
  },
  {
   "cell_type": "code",
   "execution_count": 91,
   "metadata": {
    "collapsed": true
   },
   "outputs": [
    {
     "name": "stdout",
     "output_type": "stream",
     "text": [
      "1 번째 줄입니다.\n",
      "2 번째 줄입니다.\n",
      "3 번째 줄입니다.\n",
      "4 번째 줄입니다.\n",
      "5 번째 줄입니다.\n",
      "6 번째 줄입니다.\n",
      "7 번째 줄입니다.\n",
      "8 번째 줄입니다.\n",
      "9 번째 줄입니다.\n",
      "10 번째 줄입니다.\n",
      "\n"
     ]
    }
   ],
   "source": [
    "#read()\n",
    "f = open('test.txt','r')\n",
    "data = f.read()\n",
    "print(data)\n",
    "f.close()"
   ]
  },
  {
   "cell_type": "code",
   "execution_count": null,
   "metadata": {},
   "outputs": [],
   "source": [
    "#파일을 열어(쓰기 모드’a’) 파일에 이어서 쓰기\n",
    "f = open('test.txt','a')\n",
    "for i in range(11,21):\n",
    "    f.write('%d 번째 줄입니다.\\n'% i)\n",
    "f.close()"
   ]
  },
  {
   "cell_type": "markdown",
   "metadata": {},
   "source": [
    "### with문 사용해서 파일 입출력"
   ]
  },
  {
   "cell_type": "code",
   "execution_count": 129,
   "metadata": {},
   "outputs": [],
   "source": [
    "with open(\"C:/python/rapa/test.txt\", 'w') as f:\n",
    "    for i in range(1,11):\n",
    "        f.write('%d 번째 줄입니다.\\n'% i)\n",
    "    f.write('--end---\\n')"
   ]
  },
  {
   "cell_type": "code",
   "execution_count": 130,
   "metadata": {},
   "outputs": [
    {
     "name": "stdout",
     "output_type": "stream",
     "text": [
      "1 번째 줄입니다.\n",
      "2 번째 줄입니다.\n",
      "3 번째 줄입니다.\n",
      "4 번째 줄입니다.\n",
      "5 번째 줄입니다.\n",
      "6 번째 줄입니다.\n",
      "7 번째 줄입니다.\n",
      "8 번째 줄입니다.\n",
      "9 번째 줄입니다.\n",
      "10 번째 줄입니다.\n",
      "--end---\n",
      "\n"
     ]
    }
   ],
   "source": [
    "with open(\"C:/python/rapa/test.txt\", 'r+') as f:\n",
    "    data = f.read()\n",
    "    print(data)\n",
    "    data = data.replace(\"줄\",\"사람\")\n",
    "    f.write(data)\n"
   ]
  },
  {
   "cell_type": "markdown",
   "metadata": {},
   "source": [
    "### 파일 삭제하고 싶을 때"
   ]
  },
  {
   "cell_type": "code",
   "execution_count": 96,
   "metadata": {},
   "outputs": [
    {
     "name": "stdout",
     "output_type": "stream",
     "text": [
      "파일이 존재하지 않습니다!\n"
     ]
    }
   ],
   "source": [
    "import os\n",
    "\n",
    "file = \"C:/python/rapa/test.txt\"\n",
    "if os.path.isfile(file):   #파일이 존재하면\n",
    "    os.remove(file)        #파일 삭제하기\n",
    "    if not os.path.isfile(file):\n",
    "        print('[%s] 파일이 삭제되었습니다.'% file)\n",
    "    else:\n",
    "        print(\"파일 삭제 오류!!\")\n",
    "else:\n",
    "    print(\"파일이 존재하지 않습니다!\")"
   ]
  },
  {
   "cell_type": "markdown",
   "metadata": {},
   "source": [
    "### 파일 복제하기"
   ]
  },
  {
   "cell_type": "code",
   "execution_count": 174,
   "metadata": {},
   "outputs": [
    {
     "data": {
      "text/plain": [
       "'data/teams_copy.txt'"
      ]
     },
     "execution_count": 174,
     "metadata": {},
     "output_type": "execute_result"
    }
   ],
   "source": [
    "# 파일을 복사해 주는 모듈\n",
    "import shutil\n",
    "shutil.copy('data/teams.txt', 'data/teams_copy.txt')"
   ]
  },
  {
   "cell_type": "markdown",
   "metadata": {},
   "source": [
    "### 실습문제\n",
    "파일(sample.txt)을 만들어 그 파일에 1~100사이의 임의의 정수를 10개 출력하세요"
   ]
  },
  {
   "cell_type": "code",
   "execution_count": 137,
   "metadata": {},
   "outputs": [],
   "source": [
    "import random\n",
    "\n",
    "f = open('data/sample.txt', 'w')\n",
    "\n",
    "for i in range(10):\n",
    "    num = str(random.randint(1,100))\n",
    "    f.write(num+'\\n')\n",
    "f.close()"
   ]
  },
  {
   "cell_type": "code",
   "execution_count": 142,
   "metadata": {},
   "outputs": [],
   "source": [
    "import random\n",
    "\n",
    "with open('data/sample.txt', 'w') as f:\n",
    "    [f.write(str(random.randint(1,100))+'\\n') \n",
    "        for i in range(10)]"
   ]
  },
  {
   "cell_type": "markdown",
   "metadata": {},
   "source": [
    "### 실습문제\n",
    "앞에서 생성시킨 파일(sample.txt)에 있는 10개의 데이터를 읽은 후 총합과 평균값을 구하여 화면과 (result.txt) 파일에 각각 출력하세요"
   ]
  },
  {
   "cell_type": "code",
   "execution_count": null,
   "metadata": {},
   "outputs": [],
   "source": [
    "hap, avg = 0, 0 \n",
    "\n",
    "f1 = open('data/sample.txt', 'r')\n",
    "f2 = open(\"data/result.txt\", 'w')\n",
    "\n",
    "lines = f1.readlines()\n",
    "\n",
    "for line in lines:\n",
    "    hap += int(line)\n",
    "avg = hap / len(lines)\n",
    "\n",
    "sentence = f'총합은 {hap} 입니다.\\n평균은 {avg} 입니다'\n",
    "print(sentence)\n",
    "f2.write(sentence)\n",
    "\n",
    "f1.close()\n",
    "f2.close()"
   ]
  },
  {
   "cell_type": "code",
   "execution_count": 148,
   "metadata": {},
   "outputs": [
    {
     "name": "stdout",
     "output_type": "stream",
     "text": [
      "[59, 8, 41, 21, 85, 33, 82, 7, 3, 13]의 \n",
      "총합은 352 입니다.\n",
      "평균은 35.2 입니다.\n"
     ]
    }
   ],
   "source": [
    "hap, avg = 0, 0 \n",
    "with open('data/sample.txt', 'r') as f1:\n",
    "    data = [int(line) for line in f1.readlines()]\n",
    "    hap = sum(data)\n",
    "    avg = hap/len(data)\n",
    "context = f'{data}의 \\n총합은 {hap} 입니다.\\n평균은 {avg} 입니다.'    \n",
    "print(context)\n",
    "    \n",
    "with open(\"data/result.txt\", 'w') as f2:\n",
    "    f2.write(context)   \n",
    "    "
   ]
  },
  {
   "cell_type": "markdown",
   "metadata": {},
   "source": [
    "### 실습문제\n",
    "(article.txt) 파일을 읽어 딕셔너리 key에 해당하는 단어를 value값으로 대체하여 (result2.txt) 파일에 출력하세요.\n"
   ]
  },
  {
   "cell_type": "code",
   "execution_count": 152,
   "metadata": {
    "collapsed": true
   },
   "outputs": [
    {
     "name": "stdout",
     "output_type": "stream",
     "text": [
      "[[변경전]]\n",
      "〈(런던〈영국〉=연합뉴스) 사커봇 = 잉글랜드 프리미어리그 토트넘이 해리 케인의 결승골에 힘입어 레스터를 꺾었다. 토트넘은 13일(한국시간) 영국 런던 웸블리 스타디움에서 열린 2017-2018 잉글랜드 프로축구 프리미어리그 최종라운드 레스터와 홈 경기에서 5-4로 승리했다.\n",
      " \n",
      "  토트넘은 전반 4분 먼저 실점했다. 리야드 마레즈의 어시스트를 제이미 바디가 헤딩 슈팅으로 토트넘의 골문을 열었다. 3분 뒤 토트넘의 해리 케인이 동점골을 뽑아냈다. 9분 뒤 리야드 마레즈의 슈팅이 골문 안으로 들어가며 레스터는 다시 리드를 잡았다.(중략)\n",
      " \n",
      "  손흥민은 무사 시소코의 교체 선수로 그라운드를 밟았다. 토트넘은 남은 시간을 잘 막아내며 승점 3점을 추가했다. 손흥민은 교체 출전 기회를 얻었지만 공격 포인트를 기록하지 못했다. 토트넘은 이날 펼쳐진 경기에서 승리를 거두며 3경기 연속 무승의 부진을 끊었다. robot@yna.co.kr〉\n",
      "--------------------------------------------------\n",
      "[[변경후]]:\n",
      " 〈(런던〈영국〉=연합뉴스) 사커봇 = 잉글랜드 프리미어리그 맨체스터유나이티드이 박지성의 결승골에 힘입어 레스터를 꺾었다. 맨체스터유나이티드은 20일(한국시간) 영국 런던 웸블리 스타디움에서 열린 2017-2018 잉글랜드 프로축구 프리미어리그 최종라운드 레스터와 홈 경기에서 5-4로 승리했다.\n",
      " \n",
      "  맨체스터유나이티드은 전반 4분 먼저 실점했다. 리야드 마레즈의 어시스트를 제이미 바디가 헤딩 슈팅으로 맨체스터유나이티드의 골문을 열었다. 3분 뒤 맨체스터유나이티드의 박지성이 동점골을 뽑아냈다. 9분 뒤 리야드 마레즈의 슈팅이 골문 안으로 들어가며 레스터는 다시 리드를 잡았다.(중략)\n",
      " \n",
      "  이승우은 무사 시소코의 교체 선수로 그라운드를 밟았다. 맨체스터유나이티드은 남은 시간을 잘 막아내며 승점 3점을 추가했다. 이승우은 교체 출전 기회를 얻었지만 공격 포인트를 기록하지 못했다. 맨체스터유나이티드은 이날 펼쳐진 경기에서 승리를 거두며 3경기 연속 무승의 부진을 끊었다. robot@yna.co.kr〉\n"
     ]
    }
   ],
   "source": [
    "dicText = {'13':'20','토트넘':'맨체스터유나이티드','해리 케인':'박지성','손흥민':'이승우'}\n",
    "\n",
    "with open('data/article.txt', 'r', encoding='UTF-8') as f1:\n",
    "    data = f1.read()\n",
    "    \n",
    "with open(\"data/result2.txt\", 'w') as f2:\n",
    "    print('[[변경전]]\\n' + data)\n",
    "    for key in dicText.keys():\n",
    "        data = data.replace(key, dicText[key])\n",
    "        \n",
    "    print('-'*50)       \n",
    "    print('[[변경후]]:\\n ' + data) \n",
    "    f2.write(data)  #string데이터 형식으로 저장해야한다.\n"
   ]
  },
  {
   "cell_type": "markdown",
   "metadata": {},
   "source": [
    "### 실습문제: 팀 만들어 수강생 나누기\n",
    " - (members.txt) 파일에 있는 수강생 데이터를 읽은 후 리스트로 만들고\n",
    " - 리스트를 섞은 후\n",
    " - 팀당 4명의 수강생 만들어 { 팀명: [수강생] } 딕셔너리 형태로 만들고\n",
    " - 화면과 (teams.txt) 파일로 출력하세요. ex) 팀명: 수강생명 (,쉼표로 분리)\n",
    " - 팀명은 서로 연관성 있는 이름(과일, 야채, 동물 등)으로 구성된 리스트에서 임의로 부여되도록 한다."
   ]
  },
  {
   "cell_type": "code",
   "execution_count": 1,
   "metadata": {},
   "outputs": [
    {
     "name": "stdout",
     "output_type": "stream",
     "text": [
      "--팀원수: 23\n",
      "--팀개수: 6 \n",
      " {'체리': ['이준혁', '정국명', '우나나', '박창준'], '자두': ['서현호', '이채현', '김창선', '김봉진'], '딸기': ['홍현기', '백충현', '이현섭', '현주훈'], '오렌지': ['최동철', '이정명', '장태성', '김현정'], '사과': ['김원재', '김승빈', '전경진', '전영호'], '키위': ['박현승', '이상철', '임종한']}\n"
     ]
    }
   ],
   "source": [
    "#팀 만들어 수강생 나누기\n",
    "import random\n",
    "\n",
    "rfname = 'data/members.txt' \n",
    "wfname = 'data/teams.txt'\n",
    "teams = ['체리','자두','딸기','오렌지','사과',\n",
    "        '키위','메론','포도','버찌','야자',\n",
    "        '복숭아','레몬','수박','망고','홍시',\n",
    "        '머루','자몽','살구','리치','다래']\n",
    "teamDic = dict()\n",
    "\n",
    "def makeMembers(fname):\n",
    "    with open(fname, 'r', encoding='utf-8') as f:        \n",
    "        return [ member.replace('\\n','') for member in f.readlines()]\n",
    "    \n",
    "def makeTeamMembers(fname, teams, members, cnt=4): \n",
    "    global teamDic\n",
    "\n",
    "    members = ' '.join(members).split()   #리스트에서 공백 제거하기\n",
    "    random.shuffle(members)               #리스트 섞기\n",
    "    print('--팀원수:',len(members))\n",
    "    with open(fname, 'w', encoding='utf-8') as f: \n",
    "        for team in teams:\n",
    "            if len(members) == 0: break\n",
    "            tmp = []\n",
    "            for i in range(cnt):          #4명식 구성하기\n",
    "                if len(members) > 0: \n",
    "                    member = random.choice(members)\n",
    "                    tmp.append(member)\n",
    "                    members.remove(member)\n",
    "                else:\n",
    "                    break\n",
    "            if tmp : teamDic[team] = tmp\n",
    "            f.write(f\"{team} : {' '.join(tmp)}\\n\")   #파일에 쓰기            \n",
    "\n",
    "    return teamDic\n",
    "\n",
    "teamDic = makeTeamMembers( wfname, teams, makeMembers(rfname) )\n",
    "print('--팀개수:',len(teamDic),'\\n', teamDic)"
   ]
  },
  {
   "cell_type": "markdown",
   "metadata": {},
   "source": [
    " - 딕셔너리 형태 그대로 파일로 저장하고 \n",
    " - 파일을 그대로 읽어 딕셔너리 형태 그대로 출력하기"
   ]
  },
  {
   "cell_type": "code",
   "execution_count": 179,
   "metadata": {
    "collapsed": true
   },
   "outputs": [
    {
     "name": "stdout",
     "output_type": "stream",
     "text": [
      "{'체리': ['이주현', '서남미', '황수산나', '송인경'], '자두': ['이미경', '박지연', '권명숙', '윤노숙'], '딸기': ['최민지', '오현주', '인선미', '최준희'], '오렌지': ['안지영', '전혜진', '최원희', '전현주'], '사과': ['임은희', '전유진', '윤영순', '김선형'], '키위': ['유지은', '박효미', '박지영', '이숙미'], '메론': ['천윤희', '김미영', '조현정', '김현아'], '포도': ['한진희', '유지연', '고정미', '이수진'], '버찌': ['박윤경', '박성미', '김혜정', '이정'], '야자': ['임미숙', '권지선', '정재순']}\n"
     ]
    }
   ],
   "source": [
    "#데이터형태(딕셔너리) 그대로 저장하고 그대로 읽어오기\n",
    "#(파일을 직접 읽으면 한글이 깨져서 보인다.)\n",
    "import pickle\n",
    "\n",
    "with open('data/teamDic.txt', 'wb') as f:  #binary형태로 저장한다.\n",
    "    pickle.dump(teamDic, f)  # 딕셔너리 형태로 그래도 저장하고\n",
    "    \n",
    "with open('data/teamDic.txt', 'rb') as f:  #binary데이터로 읽는다\n",
    "    print(pickle.load(f))  "
   ]
  },
  {
   "cell_type": "markdown",
   "metadata": {},
   "source": [
    "### 실습문제\n",
    "단어 빈도수 세기"
   ]
  },
  {
   "cell_type": "code",
   "execution_count": 178,
   "metadata": {},
   "outputs": [
    {
     "name": "stdout",
     "output_type": "stream",
     "text": [
      "[('the', 1083), ('and', 939), ('to', 727), ('of', 670), ('a', 540), ('i', 523), ('my', 519), ('you', 433), ('in', 420), ('ham.', 358), ('that', 343), ('is', 327), ('it', 327), ('his', 302), ('not', 274), ('with', 267), ('but', 254), ('this', 253), ('your', 242), ('for', 231)]\n"
     ]
    }
   ],
   "source": [
    "#단어 빈도수 세기\n",
    "#출처: https://korbillgates.tistory.com/171 [생물정보학자의 블로그]\n",
    "        \n",
    "## 단어의 빈도수를 카운트 할 dictionary 를 만듭니다\n",
    "word_dic = {}\n",
    " \n",
    "## 텍스트 파일을 한 줄씩 읽어서\n",
    "with open(\"data/hamlet.txt\",'r') as f:\n",
    "    for line in f:\n",
    "        ## 한 줄을 소문자로 만들고 공백으로 잘라서 for 문으로 하나씩 뽑습니다\n",
    "        for word in line.lower().strip().split():\n",
    "            ## 단어가 dictionary에 등록 되어 있다면 카운트를 올려주고\n",
    "            if word in word_dic:\n",
    "                word_dic[word] += 1\n",
    "            ## 단어가 dictionary에 없다면 등록하고 카운트를 1로 등록합니다.\n",
    "            else:\n",
    "                word_dic[word] = 1\n",
    " \n",
    "## sorted 함수로 dictionary의 items() 메서드로 반환된 튜플을 정렬해 줍니다\n",
    "word_list = sorted(word_dic.items(), key=lambda x: x[1], reverse=True)\n",
    " \n",
    "## 상위 10개를 뽑아 봤습니다\n",
    "print(word_list[:20])"
   ]
  },
  {
   "cell_type": "markdown",
   "metadata": {},
   "source": [
    "-----"
   ]
  },
  {
   "cell_type": "markdown",
   "metadata": {},
   "source": [
    "## 03. csv 파일 읽고 쓰기: pandas"
   ]
  },
  {
   "cell_type": "code",
   "execution_count": null,
   "metadata": {},
   "outputs": [],
   "source": [
    "# pandas 설치하기\n",
    "#pip install pandas"
   ]
  },
  {
   "cell_type": "markdown",
   "metadata": {},
   "source": [
    "### csv 파일 읽기"
   ]
  },
  {
   "cell_type": "code",
   "execution_count": 10,
   "metadata": {
    "scrolled": false
   },
   "outputs": [
    {
     "ename": "UnicodeDecodeError",
     "evalue": "'utf-8' codec can't decode byte 0xb1 in position 2: invalid start byte",
     "output_type": "error",
     "traceback": [
      "\u001b[1;31m---------------------------------------------------------------------------\u001b[0m",
      "\u001b[1;31mUnicodeDecodeError\u001b[0m                        Traceback (most recent call last)",
      "\u001b[1;32mC:\\Users\\Public\\Documents\\ESTsoft\\CreatorTemp/ipykernel_5812/2918902626.py\u001b[0m in \u001b[0;36m<module>\u001b[1;34m\u001b[0m\n\u001b[0;32m      1\u001b[0m \u001b[1;32mimport\u001b[0m \u001b[0mpandas\u001b[0m \u001b[1;32mas\u001b[0m \u001b[0mpd\u001b[0m\u001b[1;33m\u001b[0m\u001b[1;33m\u001b[0m\u001b[0m\n\u001b[0;32m      2\u001b[0m \u001b[1;33m\u001b[0m\u001b[0m\n\u001b[1;32m----> 3\u001b[1;33m \u001b[0mdf\u001b[0m \u001b[1;33m=\u001b[0m \u001b[0mpd\u001b[0m\u001b[1;33m.\u001b[0m\u001b[0mread_csv\u001b[0m\u001b[1;33m(\u001b[0m\u001b[1;34m'data/members.csv'\u001b[0m\u001b[1;33m)\u001b[0m\u001b[1;33m\u001b[0m\u001b[1;33m\u001b[0m\u001b[0m\n\u001b[0m\u001b[0;32m      4\u001b[0m \u001b[1;31m#df = pd.read_csv('data/members.csv', encoding='euc-kr')\u001b[0m\u001b[1;33m\u001b[0m\u001b[1;33m\u001b[0m\u001b[1;33m\u001b[0m\u001b[0m\n\u001b[0;32m      5\u001b[0m \u001b[1;31m#df = pd.read_csv('data/members.csv', encoding='cp949')\u001b[0m\u001b[1;33m\u001b[0m\u001b[1;33m\u001b[0m\u001b[1;33m\u001b[0m\u001b[0m\n",
      "\u001b[1;32mc:\\python\\python38\\lib\\site-packages\\pandas\\util\\_decorators.py\u001b[0m in \u001b[0;36mwrapper\u001b[1;34m(*args, **kwargs)\u001b[0m\n\u001b[0;32m    309\u001b[0m                     \u001b[0mstacklevel\u001b[0m\u001b[1;33m=\u001b[0m\u001b[0mstacklevel\u001b[0m\u001b[1;33m,\u001b[0m\u001b[1;33m\u001b[0m\u001b[1;33m\u001b[0m\u001b[0m\n\u001b[0;32m    310\u001b[0m                 )\n\u001b[1;32m--> 311\u001b[1;33m             \u001b[1;32mreturn\u001b[0m \u001b[0mfunc\u001b[0m\u001b[1;33m(\u001b[0m\u001b[1;33m*\u001b[0m\u001b[0margs\u001b[0m\u001b[1;33m,\u001b[0m \u001b[1;33m**\u001b[0m\u001b[0mkwargs\u001b[0m\u001b[1;33m)\u001b[0m\u001b[1;33m\u001b[0m\u001b[1;33m\u001b[0m\u001b[0m\n\u001b[0m\u001b[0;32m    312\u001b[0m \u001b[1;33m\u001b[0m\u001b[0m\n\u001b[0;32m    313\u001b[0m         \u001b[1;32mreturn\u001b[0m \u001b[0mwrapper\u001b[0m\u001b[1;33m\u001b[0m\u001b[1;33m\u001b[0m\u001b[0m\n",
      "\u001b[1;32mc:\\python\\python38\\lib\\site-packages\\pandas\\io\\parsers\\readers.py\u001b[0m in \u001b[0;36mread_csv\u001b[1;34m(filepath_or_buffer, sep, delimiter, header, names, index_col, usecols, squeeze, prefix, mangle_dupe_cols, dtype, engine, converters, true_values, false_values, skipinitialspace, skiprows, skipfooter, nrows, na_values, keep_default_na, na_filter, verbose, skip_blank_lines, parse_dates, infer_datetime_format, keep_date_col, date_parser, dayfirst, cache_dates, iterator, chunksize, compression, thousands, decimal, lineterminator, quotechar, quoting, doublequote, escapechar, comment, encoding, encoding_errors, dialect, error_bad_lines, warn_bad_lines, on_bad_lines, delim_whitespace, low_memory, memory_map, float_precision, storage_options)\u001b[0m\n\u001b[0;32m    584\u001b[0m     \u001b[0mkwds\u001b[0m\u001b[1;33m.\u001b[0m\u001b[0mupdate\u001b[0m\u001b[1;33m(\u001b[0m\u001b[0mkwds_defaults\u001b[0m\u001b[1;33m)\u001b[0m\u001b[1;33m\u001b[0m\u001b[1;33m\u001b[0m\u001b[0m\n\u001b[0;32m    585\u001b[0m \u001b[1;33m\u001b[0m\u001b[0m\n\u001b[1;32m--> 586\u001b[1;33m     \u001b[1;32mreturn\u001b[0m \u001b[0m_read\u001b[0m\u001b[1;33m(\u001b[0m\u001b[0mfilepath_or_buffer\u001b[0m\u001b[1;33m,\u001b[0m \u001b[0mkwds\u001b[0m\u001b[1;33m)\u001b[0m\u001b[1;33m\u001b[0m\u001b[1;33m\u001b[0m\u001b[0m\n\u001b[0m\u001b[0;32m    587\u001b[0m \u001b[1;33m\u001b[0m\u001b[0m\n\u001b[0;32m    588\u001b[0m \u001b[1;33m\u001b[0m\u001b[0m\n",
      "\u001b[1;32mc:\\python\\python38\\lib\\site-packages\\pandas\\io\\parsers\\readers.py\u001b[0m in \u001b[0;36m_read\u001b[1;34m(filepath_or_buffer, kwds)\u001b[0m\n\u001b[0;32m    480\u001b[0m \u001b[1;33m\u001b[0m\u001b[0m\n\u001b[0;32m    481\u001b[0m     \u001b[1;31m# Create the parser.\u001b[0m\u001b[1;33m\u001b[0m\u001b[1;33m\u001b[0m\u001b[1;33m\u001b[0m\u001b[0m\n\u001b[1;32m--> 482\u001b[1;33m     \u001b[0mparser\u001b[0m \u001b[1;33m=\u001b[0m \u001b[0mTextFileReader\u001b[0m\u001b[1;33m(\u001b[0m\u001b[0mfilepath_or_buffer\u001b[0m\u001b[1;33m,\u001b[0m \u001b[1;33m**\u001b[0m\u001b[0mkwds\u001b[0m\u001b[1;33m)\u001b[0m\u001b[1;33m\u001b[0m\u001b[1;33m\u001b[0m\u001b[0m\n\u001b[0m\u001b[0;32m    483\u001b[0m \u001b[1;33m\u001b[0m\u001b[0m\n\u001b[0;32m    484\u001b[0m     \u001b[1;32mif\u001b[0m \u001b[0mchunksize\u001b[0m \u001b[1;32mor\u001b[0m \u001b[0miterator\u001b[0m\u001b[1;33m:\u001b[0m\u001b[1;33m\u001b[0m\u001b[1;33m\u001b[0m\u001b[0m\n",
      "\u001b[1;32mc:\\python\\python38\\lib\\site-packages\\pandas\\io\\parsers\\readers.py\u001b[0m in \u001b[0;36m__init__\u001b[1;34m(self, f, engine, **kwds)\u001b[0m\n\u001b[0;32m    809\u001b[0m             \u001b[0mself\u001b[0m\u001b[1;33m.\u001b[0m\u001b[0moptions\u001b[0m\u001b[1;33m[\u001b[0m\u001b[1;34m\"has_index_names\"\u001b[0m\u001b[1;33m]\u001b[0m \u001b[1;33m=\u001b[0m \u001b[0mkwds\u001b[0m\u001b[1;33m[\u001b[0m\u001b[1;34m\"has_index_names\"\u001b[0m\u001b[1;33m]\u001b[0m\u001b[1;33m\u001b[0m\u001b[1;33m\u001b[0m\u001b[0m\n\u001b[0;32m    810\u001b[0m \u001b[1;33m\u001b[0m\u001b[0m\n\u001b[1;32m--> 811\u001b[1;33m         \u001b[0mself\u001b[0m\u001b[1;33m.\u001b[0m\u001b[0m_engine\u001b[0m \u001b[1;33m=\u001b[0m \u001b[0mself\u001b[0m\u001b[1;33m.\u001b[0m\u001b[0m_make_engine\u001b[0m\u001b[1;33m(\u001b[0m\u001b[0mself\u001b[0m\u001b[1;33m.\u001b[0m\u001b[0mengine\u001b[0m\u001b[1;33m)\u001b[0m\u001b[1;33m\u001b[0m\u001b[1;33m\u001b[0m\u001b[0m\n\u001b[0m\u001b[0;32m    812\u001b[0m \u001b[1;33m\u001b[0m\u001b[0m\n\u001b[0;32m    813\u001b[0m     \u001b[1;32mdef\u001b[0m \u001b[0mclose\u001b[0m\u001b[1;33m(\u001b[0m\u001b[0mself\u001b[0m\u001b[1;33m)\u001b[0m\u001b[1;33m:\u001b[0m\u001b[1;33m\u001b[0m\u001b[1;33m\u001b[0m\u001b[0m\n",
      "\u001b[1;32mc:\\python\\python38\\lib\\site-packages\\pandas\\io\\parsers\\readers.py\u001b[0m in \u001b[0;36m_make_engine\u001b[1;34m(self, engine)\u001b[0m\n\u001b[0;32m   1038\u001b[0m             )\n\u001b[0;32m   1039\u001b[0m         \u001b[1;31m# error: Too many arguments for \"ParserBase\"\u001b[0m\u001b[1;33m\u001b[0m\u001b[1;33m\u001b[0m\u001b[1;33m\u001b[0m\u001b[0m\n\u001b[1;32m-> 1040\u001b[1;33m         \u001b[1;32mreturn\u001b[0m \u001b[0mmapping\u001b[0m\u001b[1;33m[\u001b[0m\u001b[0mengine\u001b[0m\u001b[1;33m]\u001b[0m\u001b[1;33m(\u001b[0m\u001b[0mself\u001b[0m\u001b[1;33m.\u001b[0m\u001b[0mf\u001b[0m\u001b[1;33m,\u001b[0m \u001b[1;33m**\u001b[0m\u001b[0mself\u001b[0m\u001b[1;33m.\u001b[0m\u001b[0moptions\u001b[0m\u001b[1;33m)\u001b[0m  \u001b[1;31m# type: ignore[call-arg]\u001b[0m\u001b[1;33m\u001b[0m\u001b[1;33m\u001b[0m\u001b[0m\n\u001b[0m\u001b[0;32m   1041\u001b[0m \u001b[1;33m\u001b[0m\u001b[0m\n\u001b[0;32m   1042\u001b[0m     \u001b[1;32mdef\u001b[0m \u001b[0m_failover_to_python\u001b[0m\u001b[1;33m(\u001b[0m\u001b[0mself\u001b[0m\u001b[1;33m)\u001b[0m\u001b[1;33m:\u001b[0m\u001b[1;33m\u001b[0m\u001b[1;33m\u001b[0m\u001b[0m\n",
      "\u001b[1;32mc:\\python\\python38\\lib\\site-packages\\pandas\\io\\parsers\\c_parser_wrapper.py\u001b[0m in \u001b[0;36m__init__\u001b[1;34m(self, src, **kwds)\u001b[0m\n\u001b[0;32m     67\u001b[0m         \u001b[0mkwds\u001b[0m\u001b[1;33m[\u001b[0m\u001b[1;34m\"dtype\"\u001b[0m\u001b[1;33m]\u001b[0m \u001b[1;33m=\u001b[0m \u001b[0mensure_dtype_objs\u001b[0m\u001b[1;33m(\u001b[0m\u001b[0mkwds\u001b[0m\u001b[1;33m.\u001b[0m\u001b[0mget\u001b[0m\u001b[1;33m(\u001b[0m\u001b[1;34m\"dtype\"\u001b[0m\u001b[1;33m,\u001b[0m \u001b[1;32mNone\u001b[0m\u001b[1;33m)\u001b[0m\u001b[1;33m)\u001b[0m\u001b[1;33m\u001b[0m\u001b[1;33m\u001b[0m\u001b[0m\n\u001b[0;32m     68\u001b[0m         \u001b[1;32mtry\u001b[0m\u001b[1;33m:\u001b[0m\u001b[1;33m\u001b[0m\u001b[1;33m\u001b[0m\u001b[0m\n\u001b[1;32m---> 69\u001b[1;33m             \u001b[0mself\u001b[0m\u001b[1;33m.\u001b[0m\u001b[0m_reader\u001b[0m \u001b[1;33m=\u001b[0m \u001b[0mparsers\u001b[0m\u001b[1;33m.\u001b[0m\u001b[0mTextReader\u001b[0m\u001b[1;33m(\u001b[0m\u001b[0mself\u001b[0m\u001b[1;33m.\u001b[0m\u001b[0mhandles\u001b[0m\u001b[1;33m.\u001b[0m\u001b[0mhandle\u001b[0m\u001b[1;33m,\u001b[0m \u001b[1;33m**\u001b[0m\u001b[0mkwds\u001b[0m\u001b[1;33m)\u001b[0m\u001b[1;33m\u001b[0m\u001b[1;33m\u001b[0m\u001b[0m\n\u001b[0m\u001b[0;32m     70\u001b[0m         \u001b[1;32mexcept\u001b[0m \u001b[0mException\u001b[0m\u001b[1;33m:\u001b[0m\u001b[1;33m\u001b[0m\u001b[1;33m\u001b[0m\u001b[0m\n\u001b[0;32m     71\u001b[0m             \u001b[0mself\u001b[0m\u001b[1;33m.\u001b[0m\u001b[0mhandles\u001b[0m\u001b[1;33m.\u001b[0m\u001b[0mclose\u001b[0m\u001b[1;33m(\u001b[0m\u001b[1;33m)\u001b[0m\u001b[1;33m\u001b[0m\u001b[1;33m\u001b[0m\u001b[0m\n",
      "\u001b[1;32mc:\\python\\python38\\lib\\site-packages\\pandas\\_libs\\parsers.pyx\u001b[0m in \u001b[0;36mpandas._libs.parsers.TextReader.__cinit__\u001b[1;34m()\u001b[0m\n",
      "\u001b[1;32mc:\\python\\python38\\lib\\site-packages\\pandas\\_libs\\parsers.pyx\u001b[0m in \u001b[0;36mpandas._libs.parsers.TextReader._get_header\u001b[1;34m()\u001b[0m\n",
      "\u001b[1;32mc:\\python\\python38\\lib\\site-packages\\pandas\\_libs\\parsers.pyx\u001b[0m in \u001b[0;36mpandas._libs.parsers.TextReader._tokenize_rows\u001b[1;34m()\u001b[0m\n",
      "\u001b[1;32mc:\\python\\python38\\lib\\site-packages\\pandas\\_libs\\parsers.pyx\u001b[0m in \u001b[0;36mpandas._libs.parsers.raise_parser_error\u001b[1;34m()\u001b[0m\n",
      "\u001b[1;31mUnicodeDecodeError\u001b[0m: 'utf-8' codec can't decode byte 0xb1 in position 2: invalid start byte"
     ]
    }
   ],
   "source": [
    "import pandas as pd\n",
    "\n",
    "df = pd.read_csv('data/members.csv')\n",
    "df = pd.read_csv('data/members.csv', encoding='euc-kr') \n",
    "df = pd.read_csv('data/members.csv', encoding='cp949') \n",
    "\n",
    "print(df.head(3))    # 데이터 3개 가져오기\n",
    "print(df[:2:2])      # row행 접근(인텍스)\n",
    "print(df.columns[1]) # column열 접근(인덱스)\n",
    "print(df.loc[3,df.columns[1]])  # 특정 행, 열로 접근(index)\n",
    "print(df.shape)      # (38, 2) 데이터 크기\n",
    "print(len(df))       # 2   데이터 행 크기"
   ]
  },
  {
   "cell_type": "markdown",
   "metadata": {},
   "source": [
    "### csv 파일로 쓰기\n",
    " - DataFrame 형태의 데이터로 만든 후 파일에 써야한다.\n",
    " - DataFrame: 2차원 리스트(행, 렬) 데이터로 만든다."
   ]
  },
  {
   "cell_type": "code",
   "execution_count": null,
   "metadata": {},
   "outputs": [],
   "source": [
    "df.to_csv('data/teammember.csv')"
   ]
  },
  {
   "cell_type": "markdown",
   "metadata": {},
   "source": [
    "### pandas로 csv 파일 읽고,  csv파일 쓰기"
   ]
  },
  {
   "cell_type": "code",
   "execution_count": null,
   "metadata": {
    "scrolled": true
   },
   "outputs": [],
   "source": [
    "# csv 파일 읽고,  csv파일 쓰기\n",
    "import pandas as pd\n",
    "import random \n",
    "\n",
    "file1 = 'data/members.csv'\n",
    "file2 = 'data/teammember.csv'\n",
    "file3 = 'data/memberteams.csv'\n",
    "\n",
    "# 멤버리스트 만들기\n",
    "def getMemberList(df):\n",
    "    members = []\n",
    "    for i in range(len(df)):\n",
    "        tmp = df.loc[i,df.columns[1]] #이름만 추출\n",
    "        members.append(tmp)           #리스트에 이름 넣기\n",
    "    return members\n",
    "\n",
    "# 리스트 섞기\n",
    "def memberShuffle(dt):\n",
    "    return random.shuffle(dt)\n",
    "    \n",
    "# 팀:멤버 만들기(2차원 리스트 만들기)    \n",
    "def makeTeamMember(dt):\n",
    "    teamMember, memberTeam, tmp = [], [], []    \n",
    "    cnt, team, div = 0, 1, 4    \n",
    "    while True:  \n",
    "        if len(dt) == cnt:  #종료조건\n",
    "            break\n",
    "            \n",
    "        tmp.append(dt[cnt])\n",
    "        memberTeam.append([team,dt[cnt]]) \n",
    "        cnt += 1\n",
    "        \n",
    "        if cnt%div == 0:   #팀번호 변경 \n",
    "            tmp.insert(0,team)\n",
    "            teamMember.append(tmp)\n",
    "            team += 1\n",
    "            tmp = []\n",
    "\n",
    "    if tmp :\n",
    "        tmp.insert(0,team)\n",
    "        teamMember.append(tmp)\n",
    "        \n",
    "    return teamMember, memberTeam\n",
    "\n",
    "# csv파일 읽어 리스트 만들기\n",
    "df = pd.read_csv(file1, sep=',', index_col=False)     #파일 읽기\n",
    "members = getMemberList(df) #리스트로 만들기\n",
    "memberShuffle(members)      #리스트 섞기\n",
    "teamMember, memberTeam = makeTeamMember(members)#리스트 만들기\n",
    "\n",
    "# csv파일로 저장하기 위해 DataFrame으로 만들기\n",
    "df = pd.DataFrame(teamMember)\n",
    "df.rename(columns={0:'team'}, inplace = True)\n",
    "df.to_csv(file2, encoding='utf-8-sig')\n",
    "\n",
    "df.rename(columns={0:'team',1:'name'}, inplace = True)\n",
    "df = pd.DataFrame(memberTeam)\n",
    "df.to_csv(file3, encoding='utf-8-sig')\n",
    "\n",
    "df = pd.read_csv(file2)\n",
    "df"
   ]
  },
  {
   "cell_type": "code",
   "execution_count": null,
   "metadata": {},
   "outputs": [],
   "source": []
  }
 ],
 "metadata": {
  "kernelspec": {
   "display_name": "Python 3 (ipykernel)",
   "language": "python",
   "name": "python3"
  },
  "language_info": {
   "codemirror_mode": {
    "name": "ipython",
    "version": 3
   },
   "file_extension": ".py",
   "mimetype": "text/x-python",
   "name": "python",
   "nbconvert_exporter": "python",
   "pygments_lexer": "ipython3",
   "version": "3.8.10"
  }
 },
 "nbformat": 4,
 "nbformat_minor": 4
}

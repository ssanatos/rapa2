{
 "cells": [
  {
   "cell_type": "markdown",
   "id": "f1efe2ca",
   "metadata": {},
   "source": [
    "#### 인덱싱과 슬라이싱\n",
    "\n",
    "1. 정순은 0부터, 역순은 -1부터.\n",
    "2. 한글은 한 음절이 메모리 한개.\n",
    "3. 스플릿은 문자열을 나눠서 리스트형태로 반환.\n"
   ]
  },
  {
   "cell_type": "code",
   "execution_count": null,
   "id": "5a77a13a",
   "metadata": {},
   "outputs": [],
   "source": [
    "# 중괄호 안이 변수가 아니어도 매핑된다.인덱스 번호로. \n",
    "\"I eat {0} apples\".format(3)"
   ]
  },
  {
   "cell_type": "code",
   "execution_count": null,
   "id": "80a50f79",
   "metadata": {},
   "outputs": [],
   "source": [
    "a = \"my hobby is baseball\"\n",
    "a.count('b')\n",
    "a.count('bb')"
   ]
  },
  {
   "cell_type": "code",
   "execution_count": null,
   "id": "fa52d471",
   "metadata": {},
   "outputs": [],
   "source": [
    "s = input('문자열을 입력하세요 : ')\n",
    "print(s[::-1])\n",
    "print(s[0::])"
   ]
  },
  {
   "cell_type": "code",
   "execution_count": null,
   "id": "5dd33003",
   "metadata": {},
   "outputs": [],
   "source": [
    "a = input('파일을 입력하세요 : ')\n",
    "x,y = a.split('.') #분리해서 각 변수에 따로 담음. \n",
    "############3만약 분리된게 변수의 개수와 맞지 않으면 에러남.\n",
    "print(f'파일:',a)\n",
    "print(f'파일명: {x}, 확장자: {y}')"
   ]
  },
  {
   "cell_type": "code",
   "execution_count": null,
   "id": "5756ae48",
   "metadata": {},
   "outputs": [],
   "source": [
    "a = input('파일을 입력하세요 : ')\n",
    "b = a.split('.')\n",
    "print('파일:',a)\n",
    "print(f'파일명: {b[0]}, 확장자: {b[1]}')"
   ]
  },
  {
   "cell_type": "code",
   "execution_count": 6,
   "id": "65211458",
   "metadata": {},
   "outputs": [
    {
     "name": "stdout",
     "output_type": "stream",
     "text": [
      "파일을 입력하세요:test.py\n",
      "파일: test.py\n",
      "파일명 :test, 확장자:py\n"
     ]
    }
   ],
   "source": [
    "a= input('파일을 입력하세요:')\n",
    "n = a.find('.')\n",
    "print(f\"파일: {a}\")\n",
    "print(\"파일명 :{0}, 확장자:{1}\".format(a[0:n],a[n+1:]))"
   ]
  },
  {
   "cell_type": "code",
   "execution_count": 5,
   "id": "f74ff5a0",
   "metadata": {},
   "outputs": [
    {
     "name": "stdout",
     "output_type": "stream",
     "text": [
      "입력test.py\n",
      "파일: py\n",
      " 파일명: test , 확장자: test.py\n"
     ]
    }
   ],
   "source": [
    "s=input(\"입력\")\n",
    "n=s.find('.')\n",
    "print(\"파일: {2}\\n 파일명: {1} , 확장자: {0}\" .format(s,s[:n], s[n+1:]))"
   ]
  },
  {
   "cell_type": "code",
   "execution_count": null,
   "id": "e78b3f2c",
   "metadata": {},
   "outputs": [],
   "source": [
    "import datetime\n",
    "\n",
    "datetime.datetime.now()\n",
    "now = str(datetime.datetime.now())\n",
    "print(now)\n",
    "\n",
    "year = now[:4]\n",
    "month = now[5:7]\n",
    "day = now[8:10]\n",
    "hour = now[11:13]\n",
    "minu = now[14:16]\n",
    "sec = now[17:19]\n",
    "print(f'지금 시각은 {year}년 {month}월 {day}일\\n{hour}시 {minu}분 {sec}초 입니다' )"
   ]
  },
  {
   "cell_type": "code",
   "execution_count": null,
   "id": "10e59517",
   "metadata": {},
   "outputs": [],
   "source": [
    "import time\n",
    "\n",
    "time.time() # 모든 컴퓨터는1970년 1월 1일을 기준으로 시간이 시작된다.\n",
    "time.localtime()"
   ]
  },
  {
   "cell_type": "code",
   "execution_count": 7,
   "id": "5ec25cdf",
   "metadata": {},
   "outputs": [
    {
     "name": "stdout",
     "output_type": "stream",
     "text": [
      "2021-08-25 17:05:35.726822\n",
      "['2021-08-25 17', '05', '10.131503']\n"
     ]
    },
    {
     "data": {
      "text/plain": [
       "'2021-08-25 17:05:57'"
      ]
     },
     "execution_count": 7,
     "metadata": {},
     "output_type": "execute_result"
    }
   ],
   "source": [
    "import datetime\n",
    "\n",
    "nowdata = datetime.datetime.now()\n",
    "#now = str(datetime.datetime.now())\n",
    "print(now)\n",
    "\n",
    "#스플릿함수를 두개 이상의 요소로 분할할 수는 없는건가?\n",
    "#s=now.split(\"-\"or\":\")\n",
    "#s=now.split(\"-\"and\":\")\n",
    "#s=now.split(\"-\",\":\")\n",
    "print(s)\n",
    "# print(f'지금 시각은 {year}년 {month}월 {day}일\\n{hour}시 {minu}분 {sec}초 입니다'\n",
    "nowdata.strftime('%Y-%m-%d %H:%M:%S')"
   ]
  },
  {
   "cell_type": "code",
   "execution_count": null,
   "id": "1c12978c",
   "metadata": {},
   "outputs": [],
   "source": [
    "import urllib.request # import urllib.request as ur\n",
    "import ssl  #https 긁어올 때\n",
    "context = ssl._create_unverified_context()\n",
    "\n",
    "#환율정보 페이지 불러오기\n",
    "print(\"[환율정보 불러오기]\")\n",
    "URL = \"https://search.naver.com/search.naver?where=nexearch&sm=top_hty&fbm=1&ie=utf8&query=%ED%99%98%EC%9C%A8\"\n",
    "page = urllib.request.urlopen(URL, context=context) #page = ur.urlopen(URL, context=context)\n",
    "text = page.read().decode(\"utf8\")  # 해당 페이지의 소스코드. 개발자모드의 소스코드를 통째로 긁어옴.\n",
    "print(text)\n",
    "#text에 저장될 수 있는 데이터의 크기는 얼마나 되나?\n",
    "\n",
    "#환율정보 가져오기: 기준시간\n",
    "searchText = 'class=\"grp_info\"> <em>'\n",
    "where      = text.find(searchText)  #소스코드에서 해당 문자열의 시작위치\n",
    "targetInfo = text[where+len(searchText):where+len(searchText)+16] \n",
    "#찾아진 ID의 문자열의 위치에서 쓸데없는 문자열 개수만큼 이동시켜. 내가 원하는 데이터 앞까지 이동시킴\n",
    "print(f'-환율기준시간: {targetInfo}')\n",
    "\n",
    "#환율정보 가져오기: 달러\n",
    "searchText = '<span>미국 <em>USD</em></span></a></th> <td><span>'\n",
    "where      = text.find(searchText)\n",
    "targetInfo = text[where+len(searchText):where+len(searchText)+8]\n",
    "print(f'-달러: {targetInfo}')\n",
    "\n",
    "#환율정보 가져오기: 위안\n",
    "searchText = '<span>중국 <em>CNY</em></span></a></th> <td><span>'\n",
    "where      = text.find(searchText)\n",
    "targetInfo = text[where+len(searchText):where+len(searchText)+6]\n",
    "print(f'-위안: {targetInfo}')\n",
    "\n",
    "#환율정보 가져오기:유로화\n",
    "searchText = '<span>유럽연합 <em>EUR</em></span></a></th> <td><span>'\n",
    "where      = text.find(searchText)\n",
    "targetInfo = text[where+len(searchText):where+len(searchText)+8]\n",
    "print(f'-유로: {targetInfo}')"
   ]
  },
  {
   "cell_type": "code",
   "execution_count": null,
   "id": "97621837",
   "metadata": {},
   "outputs": [],
   "source": []
  },
  {
   "cell_type": "code",
   "execution_count": 4,
   "id": "e18a5cbb",
   "metadata": {
    "scrolled": true
   },
   "outputs": [
    {
     "name": "stdout",
     "output_type": "stream",
     "text": [
      "시프트할 숫자는? : 5\n",
      "출력할 횟수는? : 5\n",
      "5 << 1 = 10\n",
      "5 << 2 = 20\n",
      "5 << 3 = 40\n",
      "5 << 4 = 80\n",
      "5 << 5 = 160\n",
      "5 >> 1 = 2\n",
      "5 >> 2 = 1\n",
      "5 >> 3 = 0\n",
      "5 >> 4 = 0\n",
      "5 >> 5 = 0\n"
     ]
    }
   ],
   "source": [
    "a = int(input(\"시프트할 숫자는? : \"))\n",
    "loop = int(input(\"출력할 횟수는? : \"))\n",
    "\n",
    "for i in range(loop) :\n",
    "    print(\"%d << %d = %d\" % (a, i+1, a << i+1))\n",
    "    \n",
    "for i in range(loop) :\n",
    "    print(\"%d >> %d = %d\" % (a, i+1, a >> i+1))"
   ]
  },
  {
   "cell_type": "code",
   "execution_count": null,
   "id": "93c9d38c",
   "metadata": {
    "scrolled": true
   },
   "outputs": [],
   "source": [
    "money = int(input(\"동전으로 교환할 금액을 입력하세요:\"))\n",
    "오백원 = money//500\n",
    "백원 = (money%500)//100\n",
    "오십원 = (money%100)//50\n",
    "십원 = (money%50)//10\n",
    "잔돈 = money%10\n",
    "print(f'500원:{오백원}개\\n100원:{백원}개\\n50원:{오십원}개\\n10원:{십원}개\\n잔돈:{잔돈}개')"
   ]
  },
  {
   "cell_type": "code",
   "execution_count": null,
   "id": "7d57bef3",
   "metadata": {
    "scrolled": true
   },
   "outputs": [],
   "source": [
    "money = int(input(\"동전으로 교환할 금액을 입력하세요:\"))\n",
    "\n",
    "동전 = [500,100,50,10]\n",
    "\n",
    "for i in (len(동전)) :\n",
    "    print(f'동전 수 : {money//동전[i]}')"
   ]
  },
  {
   "cell_type": "code",
   "execution_count": null,
   "id": "90514372",
   "metadata": {
    "scrolled": true
   },
   "outputs": [],
   "source": [
    "print(chr(65))\n",
    "print(ord('A'))\n",
    "print(ord('가'))\n",
    "print(ord('각'))#한글이 숫자가 더 크다.\n",
    "print(ord('힣'))\n",
    "print(chr(41600))"
   ]
  },
  {
   "cell_type": "code",
   "execution_count": null,
   "id": "adf49f9a",
   "metadata": {},
   "outputs": [],
   "source": [
    " for i in (10000) :\n",
    "        print(chr(i))"
   ]
  },
  {
   "cell_type": "code",
   "execution_count": null,
   "id": "68d27dad",
   "metadata": {},
   "outputs": [],
   "source": [
    "x = int(input('숫자를 입력해 주세요: '))\n",
    "\n",
    "if x%2==0 : \n",
    "    print(f'입력된 수 : {x} ==> 짝수')\n",
    "else :\n",
    "    print(f'입력된 수 : {x} ==> 홀수')"
   ]
  },
  {
   "cell_type": "code",
   "execution_count": null,
   "id": "b6fe5557",
   "metadata": {},
   "outputs": [],
   "source": [
    "x = int(input('숫자를 입력해 주세요: '))\n",
    "\n",
    "B = bin(x)\n",
    "\n",
    "#나누기로 하는 거랑 이진법으로 하는거랑 어떤게 더 빠를까 100만개 시행하면 시간 차이 알 수 있을듯.\n",
    "\n",
    "if int(B[-1])==0 : \n",
    "    print(f'입력된 수 : {x} ==> 짝수')\n",
    "else :\n",
    "    print(f'입력된 수 : {x} ==> 홀수')"
   ]
  },
  {
   "cell_type": "code",
   "execution_count": null,
   "id": "4e44a958",
   "metadata": {},
   "outputs": [],
   "source": [
    "x = int(input(\"성적을 입력해 주세요 : \"))\n",
    "\n",
    "grade = 'D'\n",
    "\n",
    "if x > 89 :\n",
    "    grade = 'A'\n",
    "elif x >= 80 :\n",
    "    grade = 'B'\n",
    "elif x >= 70 :\n",
    "    grade = 'C'\n",
    "\"\"\"else :\n",
    "    grade = 'D'\n",
    "\"\"\"print(f\"성적: {x}는 {grade}등급입니다.\")"
   ]
  },
  {
   "cell_type": "code",
   "execution_count": null,
   "id": "7516362e",
   "metadata": {},
   "outputs": [],
   "source": [
    "x = int(input(\"성적을 입력해 주세요 : \"))\n",
    "\n",
    "grade = 64\n",
    "\n",
    "for grade in (65,68) :\n",
    "if x%10 > :\n",
    "    grade +=1\n",
    "elif x >= 80 :\n",
    "    grade +=1\n",
    "elif x >= 70 :\n",
    "    grade +=1\n",
    "else :\n",
    "    grade +=1\n",
    "print(f\"성적: {x}는 {ord(grade)}등급입니다.\")"
   ]
  },
  {
   "cell_type": "code",
   "execution_count": null,
   "id": "524640e5",
   "metadata": {},
   "outputs": [],
   "source": [
    "import datetime\n",
    "\n",
    "주민번호 = input(\"주민번호를 입력하세요 : \")\n",
    "d = str(datetime.datetime.now())\n",
    "'''d = datetime.datetime.now()\n",
    "y = d.year\n",
    "아니면\n",
    "y = datetime.datetime.now().year\n",
    "'''\n",
    "y = int(d[:4])\n",
    "\n",
    "년 = int(주민번호[:2])\n",
    "월 = 주민번호[2:4]\n",
    "일 = 주민번호[4:6]\n",
    "성 = \"남성\"\n",
    "\n",
    "if int(주민번호[7])%2==0 :\n",
    "    성=\"여성\"\n",
    "\n",
    "if int(주민번호[7]) > 2 :\n",
    "    print(f'{년+2000}년 {월}월 {일}일, {y-년-2000}세, {성}')\n",
    "\n",
    "else :\n",
    "    print(f'{년+1900}년 {월}월 {일}일, {y-년-1900}세, {성}')\n"
   ]
  },
  {
   "cell_type": "code",
   "execution_count": null,
   "id": "8cb76531",
   "metadata": {},
   "outputs": [],
   "source": [
    "괄호=list(input('괄호 : '))\n",
    "print(괄호)\n",
    "\n",
    "sum=0\n",
    "for i in len(괄호) :\n",
    "    if sum>=0 :\n",
    "        \n",
    "        if 괄호[i]=='(' :\n",
    "            sum+=1\n",
    "        elif 괄호[i]==')' :\n",
    "            sum-=1\n",
    "        else :\n",
    "            print(\"입력오류\")\n",
    "            break\n",
    "    else :\n",
    "        print(\"FALSE\")\n",
    "        break\n",
    "if sum !=0 :\n",
    "    print(\"FALSE\")\n",
    "else :\n",
    "    print(\"TRUE\")\n",
    "    \n",
    "    "
   ]
  },
  {
   "cell_type": "code",
   "execution_count": 2,
   "id": "caf2433c",
   "metadata": {},
   "outputs": [
    {
     "name": "stdout",
     "output_type": "stream",
     "text": [
      "[커피 자동주문 머신 메뉴]\n",
      "-------------------------------------------------\n",
      "-아메리카노는 2500원\n",
      "-카페라떼는 3000원\n",
      "-카푸치노는 3000원\n",
      "입니다. 원하시는 커피종류와 잔수를 입력하세요.\n",
      "-------------------------------------------------\n",
      "아메리카노 몇 잔:3\n",
      "카페라떼 몇 잔:1\n",
      "카푸치노 몇 잔:4\n",
      "지불할 총 금액은  22500원 입니다\n",
      "돈을 넣어 주세요~50000\n",
      "거스름돈은  27500원 입니다.\n"
     ]
    }
   ],
   "source": [
    "menu = \"\"\"[커피 자동주문 머신 메뉴]\n",
    "-------------------------------------------------\n",
    "-아메리카노는 2500원\n",
    "-카페라떼는 3000원\n",
    "-카푸치노는 3000원\n",
    "입니다. 원하시는 커피종류와 잔수를 입력하세요.\n",
    "-------------------------------------------------\"\"\"\n",
    "\n",
    "ame = int(input(menu+\"\\n아메리카노 몇 잔:\"))\n",
    "cafe = int(input(\"카페라떼 몇 잔:\"))\n",
    "kapu = int(input(\"카푸치노 몇 잔:\"))\n",
    "sum = ame*2500+cafe*3000+kapu*3000\n",
    "print(f'지불할 총 금액은  {sum}원 입니다')\n",
    "money_in = int(input(\"돈을 넣어 주세요~\"))\n",
    "if money_in<sum :\n",
    "    print(f'돈이 부족합니다. {sum-money_in}원 더 넣으세요.')\n",
    "else :\n",
    "    print(f'거스름돈은  {money_in-sum}원 입니다.')\n",
    "\n",
    "\n"
   ]
  },
  {
   "cell_type": "code",
   "execution_count": 14,
   "id": "24a3e851",
   "metadata": {},
   "outputs": [
    {
     "name": "stdout",
     "output_type": "stream",
     "text": [
      "주사위를 던집니다!\n",
      "---------------------\n",
      "A의 주사위 숫자는 2입니다.\n",
      "B의 주사위 숫자는 3입니다.\n",
      "----------------------\n",
      "B가 이겼습니다.\n"
     ]
    }
   ],
   "source": [
    "import random as rd\n",
    "\n",
    "a = rd.randrange(1,7)\n",
    "b = rd.randrange(1,7)\n",
    "\n",
    "print(\"주사위를 던집니다!\\n------------------------\")\n",
    "print(f\"A의 주사위 숫자는 {a}입니다.\")\n",
    "print(f\"B의 주사위 숫자는 {b}입니다.\\n------------------------\")\n",
    "if a>b :\n",
    "    print(\"A가 이겼습니다.\")\n",
    "elif b>a :\n",
    "    print(\"B가 이겼습니다.\")\n",
    "else :\n",
    "    print(\"비겼습니다.\")"
   ]
  },
  {
   "cell_type": "code",
   "execution_count": 3,
   "id": "2f6dce4f",
   "metadata": {},
   "outputs": [
    {
     "name": "stdout",
     "output_type": "stream",
     "text": [
      "5 5\n"
     ]
    }
   ],
   "source": [
    "import random as rd\n",
    "\n",
    "A,B=[rd.randrange(1,7) for _ in range(2)]\n",
    "#print(A[0], A[1])\n",
    "print(A,B)"
   ]
  },
  {
   "cell_type": "markdown",
   "id": "8f83b2c6",
   "metadata": {},
   "source": [
    "\"\"\"\n",
    "for i in range(,,):\n",
    "    # i 는 인덱스값\n",
    "\n",
    "for i in list :\n",
    "    # i는 원소값\n",
    " \n",
    "for i, value in enumerate(list) :\n",
    "    # i를 인덱스로 씀\"\"\""
   ]
  },
  {
   "cell_type": "code",
   "execution_count": 42,
   "id": "08a54b03",
   "metadata": {},
   "outputs": [
    {
     "name": "stdout",
     "output_type": "stream",
     "text": [
      "<class 'NoneType'>\n",
      "19\n",
      "10\n",
      "0.28147038782293277\n",
      "10.260627391839606\n",
      "None\n",
      "None\n",
      "6\n",
      "90\n",
      "s\n",
      "233\n",
      "3\n",
      "range(1, 4)\n"
     ]
    }
   ],
   "source": [
    "import random\n",
    "\n",
    "lis = [1,2,3,4,5]\n",
    "dic = {'a':1,'b':2,'c':3,'d':4,'e':5,'f':6,'g':7,'h':8}\n",
    "#lis = \"long time no see\"\n",
    "#lis = list(range(1,10))\n",
    "shu = random.shuffle(lis)\n",
    "print(type(shu))\n",
    "\n",
    "print(random.randint(10,20))\n",
    "print(random.randrange(10,20,2))\n",
    "print(random.random())\n",
    "print(random.uniform(10,20))\n",
    "print(random.shuffle([1,2,3,4,5]))\n",
    "print(shu)\n",
    "print(random.choice([1,2,3,4,5,6,7]))\n",
    "print(random.choice(list(range(1,100))))\n",
    "print(random.choice('long time no see'))\n",
    "print(random.choice(range(1,1000)))\n",
    "print(random.choice((1,2,3,4,5,6,7,8)))\n",
    "print(range(1,4))\n",
    "#print(random.choice({'a':1,'b':2,'c':3,'d':4,'e':5,'f':6,'g':7,'h':8}))\n",
    "#print(random.choice(dic.key()))\n",
    "#print(random.choice({1,2,3,4,5,6,7,8}))"
   ]
  },
  {
   "cell_type": "code",
   "execution_count": 38,
   "id": "2e47fc8e",
   "metadata": {},
   "outputs": [
    {
     "name": "stdout",
     "output_type": "stream",
     "text": [
      "합계를 구할 숫자를 입력하시오 :3\n",
      "1부터 3까지 합은 6다.\n"
     ]
    }
   ],
   "source": [
    "n = int(input('합계를 구할 숫자를 입력하시오 :'))\n",
    "\n",
    "sum=0\n",
    "\n",
    "for i in range(n+1) :\n",
    "    sum += i\n",
    "\n",
    "print(f\"1부터 {n}까지 합은 {sum}다.\")\n",
    "\n",
    "#sum(list(range(1,11)))"
   ]
  },
  {
   "cell_type": "code",
   "execution_count": 26,
   "id": "a129a6ce",
   "metadata": {},
   "outputs": [
    {
     "name": "stdout",
     "output_type": "stream",
     "text": [
      "합계를 구할 숫자를 입력하시오 :10\n",
      "1부터 10까지 합은 3628800다.\n"
     ]
    }
   ],
   "source": [
    "n = int(input('팩토리얼을 구할 숫자를 입력하시오 :'))\n",
    "\n",
    "sum=1\n",
    "\n",
    "for i in range(1,n+1) :\n",
    "    sum *= i\n",
    "\n",
    "print(f\"1부터 {n}까지 합은 {sum}다.\")\n",
    "\n"
   ]
  },
  {
   "cell_type": "code",
   "execution_count": 31,
   "id": "84bfd201",
   "metadata": {},
   "outputs": [
    {
     "name": "stdout",
     "output_type": "stream",
     "text": [
      "합계를 구할 숫자를 입력하시오 :7\n",
      "1부터 7까지 홀수의 합은 16다.\n"
     ]
    }
   ],
   "source": [
    "n = int(input('합계를 구할 숫자를 입력하시오 :'))\n",
    "\n",
    "sum=0\n",
    "\n",
    "for i in range(1,n+1,2) :\n",
    "    \n",
    "    sum += i\n",
    "\n",
    "print(f\"1부터 {n}까지 홀수의 합은 {sum}다.\")\n",
    "\n"
   ]
  },
  {
   "cell_type": "code",
   "execution_count": 32,
   "id": "67ced6a1",
   "metadata": {},
   "outputs": [
    {
     "name": "stdout",
     "output_type": "stream",
     "text": [
      "몇 단을 출력할까요? :3\n",
      "3 x 1 = 3\n",
      "3 x 2 = 6\n",
      "3 x 3 = 9\n",
      "3 x 4 = 12\n",
      "3 x 5 = 15\n",
      "3 x 6 = 18\n",
      "3 x 7 = 21\n",
      "3 x 8 = 24\n",
      "3 x 9 = 27\n"
     ]
    }
   ],
   "source": [
    "n = int(input(\"몇 단을 출력할까요? :\"))\n",
    "\n",
    "for i in range(1,10):\n",
    "    print(f'{n} x {i} = {n*i}')"
   ]
  },
  {
   "cell_type": "code",
   "execution_count": null,
   "id": "8980bd79",
   "metadata": {},
   "outputs": [],
   "source": [
    "n = int(input(\"몇 단부터 출력할까요? :\"))\n",
    "\n",
    "for i in range(n,n+9) : \n",
    "    for j in range(1,10):\n",
    "        print(f'{i} x {j} = {n*i}')"
   ]
  },
  {
   "cell_type": "markdown",
   "id": "200f445c",
   "metadata": {},
   "source": [
    "##### 오늘의 코드\n",
    "\n",
    "sum(list(range(1,11)))\n",
    "\n",
    "A,B=[rd.randrange(1,7) for _ in range(2)]\n",
    "\n",
    "괄호=list(input('괄호 : '))\n",
    "\n",
    "B = bin(x)\n",
    "if int(B[-1])==0 : \n",
    "\n",
    "print(chr(65))\n",
    "print(ord('A'))\n",
    "print(ord('가'))\n",
    "print(ord('각'))\n",
    "print(ord('힣'))\n",
    "\n",
    "#2의 n제곱 곱하기는 시프트로.\n",
    "a=원래값\n",
    "for i in range(loop) :\n",
    "    print(\"%d << %d = %d\" % (a, i+1, a << i+1))\n",
    "    \n",
    "import urllib.request # import urllib.request as ur\n",
    "import ssl  #https 긁어올 때\n",
    "context = ssl._create_unverified_context()\n",
    "\n",
    "#환율정보 페이지 불러오기\n",
    "print(\"[환율정보 불러오기]\")\n",
    "URL = \"https://search.naver.com/search.naver?where=nexearch&sm=top_hty&fbm=1&ie=utf8&query=%ED%99%98%EC%9C%A8\"\n",
    "page = urllib.request.urlopen(URL, context=context) #page = ur.urlopen(URL, context=context)\n",
    "text = page.read().decode(\"utf8\")  # 해당 페이지의 소스코드. 개발자모드의 소스코드를 통째로 긁어옴.\n",
    "print(text)\n",
    "\n",
    "datetime.datetime.now.strftime('%Y-%m-%d %H:%M:%S')\n",
    "\n",
    "time.time()\n",
    "\n",
    "a = input('파일을 입력하세요 : ')\n",
    "b = a.split('.')\n",
    "print('파일:',a)\n",
    "print(f'파일명: {b[0]}, 확장자: {b[1]}')\n",
    "\n",
    "s = input('문자열을 입력하세요 : ')\n",
    "print(s[::-1])\n",
    "print(s[0::])\n",
    "\n",
    "a = \"my hobby is baseball\"\n",
    "a.count('b')\n",
    "\n",
    "a= input('파일을 입력하세요:')\n",
    "n = a.find('.')\n",
    "print(f\"파일: {a}\")\n",
    "print(\"파일명 :{0}, 확장자:{1}\".format(a[0:n],a[n+1:]))"
   ]
  }
 ],
 "metadata": {
  "kernelspec": {
   "display_name": "Python 3 (ipykernel)",
   "language": "python",
   "name": "python3"
  },
  "language_info": {
   "codemirror_mode": {
    "name": "ipython",
    "version": 3
   },
   "file_extension": ".py",
   "mimetype": "text/x-python",
   "name": "python",
   "nbconvert_exporter": "python",
   "pygments_lexer": "ipython3",
   "version": "3.8.10"
  }
 },
 "nbformat": 4,
 "nbformat_minor": 5
}

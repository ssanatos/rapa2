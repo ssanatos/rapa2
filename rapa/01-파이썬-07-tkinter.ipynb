{
 "cells": [
  {
   "cell_type": "markdown",
   "metadata": {},
   "source": [
    "# 7.tkinter 윈도우 프로그래밍"
   ]
  },
  {
   "cell_type": "markdown",
   "metadata": {},
   "source": [
    "## 01.기본 위젯"
   ]
  },
  {
   "cell_type": "code",
   "execution_count": null,
   "metadata": {},
   "outputs": [],
   "source": [
    "#윈도우\n",
    "!pip install pillow\n",
    "\n",
    "#우분투 터미널에서 tkinter 설치하기\n",
    "#$ sudo apt-get install python3-tk\n"
   ]
  },
  {
   "cell_type": "markdown",
   "metadata": {},
   "source": [
    "### #윈도우창 생성"
   ]
  },
  {
   "cell_type": "code",
   "execution_count": null,
   "metadata": {},
   "outputs": [],
   "source": [
    "# 윈도창 생성\n",
    "from tkinter import *\n",
    "\n",
    "#창이 열려있는 동안에는 그 셀이 실행중인 상태이다.\n",
    "window = Tk()\n",
    "\n",
    "window.mainloop()"
   ]
  },
  {
   "cell_type": "code",
   "execution_count": null,
   "metadata": {},
   "outputs": [],
   "source": [
    "#윈도우창 크기 조절\n",
    "from tkinter import *\n",
    "\n",
    "# tk인터 라이브러리 자체를 상속받는게 아니라, TK라는 함수를 상속받나봄.\n",
    "window = Tk()\n",
    "window.title(\"윈도창 연습\")\n",
    "window.geometry(\"400x100\")\n",
    "#윈도우창 모서리에서 드래그로 사이즈 변경가능 여부\n",
    "window.resizable(width=FALSE, height=TRUE)\n",
    "\n",
    "window.mainloop()"
   ]
  },
  {
   "cell_type": "code",
   "execution_count": null,
   "metadata": {},
   "outputs": [],
   "source": [
    "#레이블에 글자 표시\n",
    "from tkinter import *\n",
    "\n",
    "window = Tk()\n",
    "\n",
    "#라벨이 자바의 pannel같은건가 보다.\n",
    "#윈도우에 위젯을 갖다 붙일 수 있다. 변수.pack()해서. button, radiobutton, ckeckbutton, label 등을 붙임.\n",
    "\n",
    "label1 = Label(window, text = \"Python을\")\n",
    "label2 = Label(window, text = \"열심히\", font=(\"궁서체\", 30),  fg=\"blue\")\n",
    "label3 = Label(window, text = \"공부 중입니다.\", bg=\"magenta\",\n",
    "               width=20, height=5, anchor=SE)\n",
    "\n",
    "label1.pack()\n",
    "label2.pack()\n",
    "label3.pack()\n",
    "\n",
    "window.mainloop()"
   ]
  },
  {
   "cell_type": "markdown",
   "metadata": {},
   "source": [
    "### #윈도우창에 이미지 띄우기"
   ]
  },
  {
   "cell_type": "code",
   "execution_count": 1,
   "metadata": {},
   "outputs": [],
   "source": [
    "#레이블 이미지로 나타내기\n",
    "# 만약, TclError: image \"pyimage5\" doesn't exist 오류가 발생한다면\n",
    "# 주피터 노트북을 닫었다가 다시 실행한 후 아래 코드를 실행시켜 주세요.\n",
    "\n",
    "from tkinter import *\n",
    "\n",
    "window = Tk()\n",
    "\n",
    "photo = PhotoImage(file=\"gif/dog.gif\")\n",
    "label1 = Label(window, image=photo)\n",
    "#for리눅스용(한줄추가)\n",
    "label1.image = photo\n",
    "\n",
    "label1.pack()\n",
    "\n",
    "window.mainloop()"
   ]
  },
  {
   "cell_type": "markdown",
   "metadata": {},
   "source": [
    "### 실습문제\n",
    "이미지 파일(위젯)을 가로로 나타내기\n",
    " - TclError: image \"pyimage2\" doesn't exist --> pillow 설치하기"
   ]
  },
  {
   "cell_type": "code",
   "execution_count": null,
   "metadata": {},
   "outputs": [],
   "source": [
    "# 위젯 가로로 나타내기\n",
    "from tkinter import *\n",
    "window = Tk()\n",
    "window.title(\"냥이들 ^^\")\n",
    "\n",
    "photo1 = PhotoImage(file=\"gif/cat.gif\")\n",
    "label1 = Label(window, image=photo1)\n",
    "\n",
    "photo2 = PhotoImage(file=\"gif/cat2.gif\")\n",
    "label2 = Label(window, image=photo2)\n",
    "\n",
    "photo3 = PhotoImage(file=\"gif/cat3.gif\")\n",
    "label3 = Label(window, image=photo3)\n",
    "\n",
    "label1.pack(side=LEFT)\n",
    "label2.pack(side=LEFT)\n",
    "\n",
    "#label1.pack(side=RIGHT)\n",
    "#label2.pack(side=TOP)\n",
    "#label3.pack(side=BOTTOM)\n",
    "\n",
    "window.mainloop()"
   ]
  },
  {
   "cell_type": "markdown",
   "metadata": {},
   "source": [
    "### #버튼"
   ]
  },
  {
   "cell_type": "code",
   "execution_count": null,
   "metadata": {},
   "outputs": [],
   "source": [
    "# 종료 버튼\n",
    "# 주피터 노트북에서는 종료버튼(윈도우 창을 닫는 기능)이 정상작동 안한다.\n",
    "# IDLE에서는 윈도우 창을 닫는 기능이 정상 작동함\n",
    "from tkinter import *\n",
    "\n",
    "window = Tk()\n",
    "\n",
    "\"\"\"def quit():\n",
    "    window.destroy()\n",
    "#quit은 이미 정의되어있기 때문에 정의하지 않아도 됨.\n",
    "\"\"\"\n",
    "#command=실행할 함수명\n",
    "button1 = Button(window, text=\"파이썬 종료\", fg=\"red\", command=quit)\n",
    "\n",
    "button1.pack()\n",
    "\n",
    "window.mainloop()\n"
   ]
  },
  {
   "cell_type": "markdown",
   "metadata": {},
   "source": [
    "#### 이미지 버튼 클릭할 때마다 다른 이미지 나타내기"
   ]
  },
  {
   "cell_type": "code",
   "execution_count": 1,
   "metadata": {},
   "outputs": [],
   "source": [
    "# 이미지 버튼 클릭할 때마다 다른 이미지 나타내기\n",
    "from tkinter import *\n",
    "\n",
    "## 전역 변수 ##\n",
    "fnameList = [\"dog.gif\", \"dog2.gif\", \"dog3.gif\",\"dog4.gif\", \"dog5.gif\"]\n",
    "num = 0\n",
    "\n",
    "def myFunc() :\n",
    "    # 밖에서 선언된 변수를 갖다 쓰겠다.(그 내부에 값도)\n",
    "    global num\n",
    "    # 버튼 클릭할때마다 num값 하나씩 증가.\n",
    "    num += 1\n",
    "    # num이 리스트 길이가 되면 다시 0으로 초기화.\n",
    "    if num == len(fnameList) : num = 0    \n",
    "    photo = PhotoImage(file = \"gif/\" + fnameList[num])\n",
    "    button1.configure(image = photo)\n",
    "    button1.image = photo\n",
    "\n",
    "def quit():\n",
    "    window.destroy()\n",
    "    \n",
    "## 메인 코드 ##    \n",
    "window = Tk()\n",
    "\n",
    "#포토이미지는 포토라는 변수에 넣고\n",
    "photo = PhotoImage(file=\"gif/\"+fnameList[num])\n",
    "#버튼의 내용은 포토로 채움.\n",
    "button1 = Button(window, image=photo, command=myFunc)\n",
    "\n",
    "button1.pack()\n",
    "\n",
    "Qbutton = Button(window, text=\"파이썬 종료\", command=quit)\n",
    "Qbutton.pack()\n",
    "\n",
    "window.mainloop()"
   ]
  },
  {
   "cell_type": "markdown",
   "metadata": {},
   "source": [
    "#### 버튼 클릭하면 메시지창 표시하기"
   ]
  },
  {
   "cell_type": "code",
   "execution_count": null,
   "metadata": {},
   "outputs": [],
   "source": [
    "#버튼 클릭하면 메시지창 표시하기\n",
    "from tkinter import *\n",
    "from tkinter import messagebox\n",
    "\n",
    "def myFunc() :\n",
    "    messagebox.showinfo(\"강아지 버튼\", \"강아지가 귀엽죠?^^\")\n",
    "\n",
    "def quit():\n",
    "    window.destroy()\n",
    "    \n",
    "## 메인 코드 ##    \n",
    "window = Tk()\n",
    "\n",
    "photo = PhotoImage(file=\"gif/dog2.gif\")\n",
    "button1 = Button(window, image=photo, command=myFunc)\n",
    "\n",
    "button1.pack()\n",
    "\n",
    "Qbutton = Button(window, text=\"파이썬 종료\", command=quit)\n",
    "Qbutton.pack()\n",
    "\n",
    "window.mainloop()"
   ]
  },
  {
   "cell_type": "code",
   "execution_count": null,
   "metadata": {},
   "outputs": [],
   "source": []
  },
  {
   "cell_type": "markdown",
   "metadata": {},
   "source": [
    "### #체크버튼"
   ]
  },
  {
   "cell_type": "markdown",
   "metadata": {},
   "source": [
    "#### 체크버튼 표시하면 해당하는 이미지와 텍스트 나타내기"
   ]
  },
  {
   "cell_type": "code",
   "execution_count": null,
   "metadata": {},
   "outputs": [],
   "source": [
    "#체크버튼 표시하면 해당하는 이미지와 텍스트 나타내기\n",
    "from tkinter import *\n",
    "window = Tk()\n",
    "\n",
    "def myFunc() :\n",
    "    if var.get() == 1 :\n",
    "        label1.configure(text = \"강아지\")\n",
    "        photo = PhotoImage(file = \"gif/dog.gif\")    \n",
    "    elif var.get() == 2 :\n",
    "        label1.configure(text = \"고양이\")\n",
    "        photo = PhotoImage(file = \"gif/cat.gif\")\n",
    "    else :\n",
    "        label1.configure(text = \"토끼\")\n",
    "        photo = PhotoImage(file = \"gif/rabbit.gif\")        \n",
    "    pLabel.configure(image = photo)\n",
    "    pLabel.image=photo        \n",
    "\n",
    "        \n",
    "## 메인 코드 ##    \n",
    "var = IntVar()\n",
    "rb1 = Radiobutton(window, text=\"강아지\", variable=var, value=1, command=myFunc)\n",
    "rb2 = Radiobutton(window, text=\"고양이\", variable=var, value=2, command=myFunc)\n",
    "rb3 = Radiobutton(window, text=\"토끼\", variable=var, value=3, command=myFunc)\n",
    "\n",
    "label1 = Label(window, text = \" 선택한 언어: \", fg=\"blue\")\n",
    "\n",
    "#포토를 라벨에 붙여서 변수에 넣어서 pack()으로 윈도우에 붙여.\n",
    "photo = PhotoImage()\n",
    "pLabel = Label(window, image = photo)\n",
    "pLabel.pack()\n",
    "\n",
    "rb1.pack()\n",
    "rb2.pack()\n",
    "rb3.pack()\n",
    "label1.pack()\n",
    "\n",
    "\n",
    "\n",
    "Qbutton = Button(window, text=\"파이썬 종료\", command=quit)\n",
    "Qbutton.pack()\n",
    "\n",
    "window.mainloop()"
   ]
  },
  {
   "cell_type": "code",
   "execution_count": 6,
   "metadata": {},
   "outputs": [
    {
     "name": "stderr",
     "output_type": "stream",
     "text": [
      "Exception in Tkinter callback\n",
      "Traceback (most recent call last):\n",
      "  File \"c:\\python\\python38\\lib\\tkinter\\__init__.py\", line 1892, in __call__\n",
      "    return self.func(*args)\n",
      "  File \"C:\\Users\\PC021\\AppData\\Local\\Temp/ipykernel_11596/1160099101.py\", line 15, in myFunc\n",
      "    pLabel.configure(image = photo)\n",
      "NameError: name 'pLabel' is not defined\n"
     ]
    }
   ],
   "source": [
    "#라디오버튼도 이미지로 표시가능하지만 왠지 에러난다.\n",
    "from tkinter import *\n",
    "window = Tk()\n",
    "\n",
    "photo = PhotoImage(file = \"gif/dog.gif\")    \n",
    "\n",
    "var = IntVar()\n",
    "rb1 = Radiobutton(window, image=photo, variable=var, value=1, command=myFunc)\n",
    "\n",
    "label1 = Label(window, text = \" 선택한 언어: \", fg=\"blue\")\n",
    "\n",
    "rb1.pack()\n",
    "\n",
    "Qbutton = Button(window, text=\"파이썬 종료\", command=quit)\n",
    "Qbutton.pack()\n",
    "\n",
    "window.mainloop()"
   ]
  },
  {
   "cell_type": "markdown",
   "metadata": {},
   "source": [
    "#### 체크버튼 체크하면 메시지창 표시하기"
   ]
  },
  {
   "cell_type": "code",
   "execution_count": 7,
   "metadata": {},
   "outputs": [],
   "source": [
    "#체크버튼 체크하면 메시지창 표시하기\n",
    "from tkinter import *\n",
    "from tkinter import messagebox\n",
    "window = Tk()\n",
    "\n",
    "def myFunc() :\n",
    "    if chk1.get() == 0 :\n",
    "        messagebox.showinfo(\"\", \"chk1 체크버튼이 꺼졌습니다.\")\n",
    "    else :\n",
    "        messagebox.showinfo(\"\", \"chk1 체크버튼이 켜졌습니다.\")\n",
    "\n",
    "def myFunc2() :\n",
    "    if chk2.get() == 1 :\n",
    "        messagebox.showinfo(\"\", \"chk2 체크버튼이 켜졌습니다.\")\n",
    "    else :\n",
    "        messagebox.showinfo(\"\", \"chk2 체크버튼이 꺼졌습니다.\")\n",
    "\n",
    "## 메인 코드 ##    \n",
    "chk1 = IntVar()\n",
    "cb1 = Checkbutton(window, text=\"클릭하세요\", variable=chk1, command=myFunc)\n",
    "chk2 = IntVar()\n",
    "cb2 = Checkbutton(window, text=\"클릭하세요\", variable=chk2, command=myFunc2)\n",
    "\n",
    "cb1.pack()\n",
    "cb2.pack()\n",
    "\n",
    "\n",
    "Qbutton = Button(window, text=\"파이썬 종료\", command=quit)\n",
    "Qbutton.pack()\n",
    "\n",
    "window.mainloop()"
   ]
  },
  {
   "cell_type": "code",
   "execution_count": 9,
   "metadata": {},
   "outputs": [],
   "source": [
    "#체크버튼도 이미지로 출력가능.\n",
    "from tkinter import *\n",
    "from tkinter import messagebox\n",
    "window = Tk()\n",
    "\n",
    "def myFunc() :\n",
    "    if chk1.get() == 0 :\n",
    "        messagebox.showinfo(\"\", \"chk1 체크버튼이 꺼졌습니다.\")\n",
    "    else :\n",
    "        messagebox.showinfo(\"\", \"chk1 체크버튼이 켜졌습니다.\")\n",
    "\n",
    "        \n",
    "photo = PhotoImage(file = \"gif/dog.gif\")  \n",
    "\n",
    "## 메인 코드 ##    \n",
    "chk1 = IntVar()\n",
    "cb1 = Checkbutton(window, image=photo, variable=chk1, command=myFunc)\n",
    "\n",
    "cb1.pack()\n",
    "\n",
    "\n",
    "Qbutton = Button(window, text=\"파이썬 종료\", command=quit)\n",
    "Qbutton.pack()\n",
    "\n",
    "window.mainloop()"
   ]
  },
  {
   "cell_type": "markdown",
   "metadata": {},
   "source": [
    "### #라디오 버튼"
   ]
  },
  {
   "cell_type": "markdown",
   "metadata": {},
   "source": [
    "#### 여러개 중에 하나 선택하기"
   ]
  },
  {
   "cell_type": "code",
   "execution_count": 8,
   "metadata": {},
   "outputs": [],
   "source": [
    "#여러개 중에 하나 선택하기\n",
    "from tkinter import *\n",
    "window = Tk()\n",
    "\n",
    "def myFunc() :\n",
    "    if var.get() == 1 :\n",
    "        label1.configure(text = \"파이썬\")\n",
    "    elif var.get() == 2 :\n",
    "        label1.configure(text = \"C++\")\n",
    "    else :\n",
    "        label1.configure(text = \"Java\")\n",
    "\n",
    "def quit():\n",
    "    window.destroy()        \n",
    "        \n",
    "## 메인 코드 ##    \n",
    "var = IntVar()\n",
    "rb1 = Radiobutton(window, text=\"파이썬\", variable=var, value=1, command=myFunc)\n",
    "rb2 = Radiobutton(window, text=\"C++\", variable=var, value=2, command=myFunc)\n",
    "rb3 = Radiobutton(window, text=\"Java\", variable=var, value=3, command=myFunc)\n",
    "\n",
    "label1 = Label(window, text = \" 선택한 언어: \", fg=\"blue\")\n",
    "\n",
    "rb1.pack()\n",
    "rb2.pack()\n",
    "rb3.pack()\n",
    "label1.pack()\n",
    "\n",
    "\n",
    "Qbutton = Button(window, text=\"파이썬 종료\", command=quit)\n",
    "Qbutton.pack()\n",
    "\n",
    "window.mainloop()\n"
   ]
  },
  {
   "cell_type": "markdown",
   "metadata": {},
   "source": [
    "-----"
   ]
  },
  {
   "cell_type": "markdown",
   "metadata": {},
   "source": [
    "## 02.위젯 배치와 크기 조절"
   ]
  },
  {
   "cell_type": "markdown",
   "metadata": {},
   "source": [
    "### #버튼 여러개 배치하기"
   ]
  },
  {
   "cell_type": "code",
   "execution_count": null,
   "metadata": {},
   "outputs": [],
   "source": [
    "#버튼 3개 (가로) 배치하기\n",
    "from tkinter import *\n",
    "window = Tk()\n",
    "\n",
    "btnList = [None] * 3\n",
    "\n",
    "for i in range(0, 3) :\n",
    "    btnList[i] = Button(window, text=\"버튼\" + str(i+1))\n",
    "\n",
    "for btn in btnList  : \n",
    "    btn.pack(side=LEFT)\n",
    "    \n",
    "'''\n",
    "# 위 2개의 for 문장을 하나로 줄임\n",
    "for i in range(0, 3) :\n",
    "    btnList[i] = Button(window, text=\"버튼\" + str(i+1))\n",
    "    btnList[i].pack(side=LEFT)\n",
    "'''\n",
    "window.mainloop()"
   ]
  },
  {
   "cell_type": "code",
   "execution_count": null,
   "metadata": {},
   "outputs": [],
   "source": [
    "#버튼 3개 (세로로) 배치하기\n",
    "from tkinter import *\n",
    "window = Tk()\n",
    "\n",
    "btnList = [None] * 3\n",
    "\n",
    "for i in range(0, 3) :\n",
    "    btnList[i] = Button(window, text=\"버튼\" + str(i+1))\n",
    "\n",
    "for btn in btnList  : \n",
    "    btn.pack(side=TOP, fill=X )\n",
    "    \n",
    "'''\n",
    "# 위 2개의 for 문장을 하나로 줄임\n",
    "for i in range(0, 3) :\n",
    "    btnList[i] = Button(window, text=\"버튼\" + str(i+1))\n",
    "    btnList[i].pack(side=TOP, fill=X)\n",
    "'''\n",
    "window.mainloop()"
   ]
  },
  {
   "cell_type": "markdown",
   "metadata": {},
   "source": [
    "#### 위젯에 여백주기"
   ]
  },
  {
   "cell_type": "code",
   "execution_count": null,
   "metadata": {},
   "outputs": [],
   "source": [
    "# 위젯에 여백주기\n",
    "from tkinter import *\n",
    "window = Tk()\n",
    "\n",
    "btnList = [None] * 3\n",
    "\n",
    "for i in range(0, 3) :\n",
    "    btnList[i] = Button(window, text=\"버튼\" + str(i+1))\n",
    "\n",
    "for btn in btnList  : \n",
    "    btn.pack(side=TOP, fill=X, padx=10, pady=10 )\n",
    "    \n",
    "'''\n",
    "# 위 2개의 for 문장을 하나로 줄임\n",
    "for i in range(0, 3) :\n",
    "    btnList[i] = Button(window, text=\"버튼\" + str(i+1))\n",
    "    btnList[i].pack(side=TOP, fill=X, padx=10, pady=10 )\n",
    "'''\n",
    "window.mainloop()"
   ]
  },
  {
   "cell_type": "markdown",
   "metadata": {},
   "source": [
    "#### 고정 위치에 배치하기"
   ]
  },
  {
   "cell_type": "code",
   "execution_count": null,
   "metadata": {},
   "outputs": [],
   "source": [
    "# 고정 위치에 배치하기\n",
    "from tkinter import *\n",
    "window = Tk()\n",
    "\n",
    "btnList = [None] * 9\n",
    "fnameList = [\"froyo.gif\", \"gingerbread.gif\", \"honeycomb.gif\", \"icecream.gif\",\n",
    "             \"jellybean.gif\", \"kitkat.gif\", \"lollipop.gif\", \"marshmallow.gif\", \"nougat.gif\"]\n",
    "photoList = [None] * 9\n",
    "\n",
    "i, k = 0, 0\n",
    "xPos, yPos = 0, 0\n",
    "num = 0\n",
    "\n",
    "## 메인 코드 부분 ##\n",
    "window.geometry(\"210x210\")\n",
    "\n",
    "for i in range(0, 9) : \n",
    "    photoList[i] = PhotoImage(file=\"gif/\" + fnameList[i])\n",
    "    btnList[i] = Button(window, image=photoList[i])\n",
    "\n",
    "for i in range(0, 3) :\n",
    "    for k in range(0, 3) :\n",
    "        btnList[num].place(x=xPos,y=yPos)\n",
    "        num += 1\n",
    "        xPos += 70        \n",
    "    xPos = 0\n",
    "    yPos += 70\n",
    "\n",
    "'''\n",
    "# for문 하나만 이용\n",
    "for i in range(0, 9) : \n",
    "    photoList[i] = PhotoImage(file=\"gif/\" + fnameList[i])\n",
    "    btnList[i] = Button(window, image=photoList[i])\n",
    "    if i % 3 == 0 :\n",
    "        xPos = 0\n",
    "        if i > 0 : yPos += 70\n",
    "    else: xPos += 70\n",
    "    btnList[i].place(x=xPos,y=yPos)\n",
    "'''\n",
    "window.mainloop()\n"
   ]
  },
  {
   "cell_type": "markdown",
   "metadata": {},
   "source": [
    "### 실습문제\n",
    "버튼 위젯을 뒤섞기"
   ]
  },
  {
   "cell_type": "code",
   "execution_count": null,
   "metadata": {},
   "outputs": [],
   "source": [
    "# [뒤섞기]버튼으로 위젯 뒤섞기 배치하기\n",
    "from tkinter import *\n",
    "import random\n",
    "\n",
    "# 변수 선언 부분\n",
    "fnameList = [\"froyo.gif\", \"gingerbread.gif\", \"honeycomb.gif\",\n",
    "             \"icecream.gif\", \"jellybean.gif\", \"kitkat.gif\",\n",
    "             \"lollipop.gif\", \"marshmallow.gif\", \"nougat.gif\"]\n",
    "btnList = [\"\"] * 9\n",
    "photoList=[None] * 9\n",
    "\n",
    "\n",
    "def imageShuffle() :\n",
    "    #함수는 그대로고 리스트를 섞어서 보여줌.\n",
    "    random.shuffle(fnameList)\n",
    "    \n",
    "    xPos, yPos=0, 0\n",
    "    for i in range(0, 9) : \n",
    "        photoList[i] = PhotoImage(file=\"gif/\" + fnameList[i])\n",
    "        btnList[i] = Button(window, image=photoList[i])\n",
    "        if i % 3 == 0 :\n",
    "            if i > 0 : yPos += 70\n",
    "            xPos = 0        \n",
    "        else: xPos += 70\n",
    "        btnList[i].place(x=xPos,y=yPos)\n",
    "\n",
    "    btn = Button(window, text=\"뒤섞기\", command=imageShuffle)\n",
    "    btn.place(x=80,y=210)   \n",
    "    \n",
    "    \n",
    "# 메인 코드 부분\n",
    "window = Tk()\n",
    "window.geometry(\"210x240\")\n",
    "\n",
    "imageShuffle()  # 버튼이미지 표시하기\n",
    "\n",
    "window.mainloop()"
   ]
  },
  {
   "cell_type": "markdown",
   "metadata": {},
   "source": [
    "### 실습문제\n",
    " - 사진앨범뷰어 만들기\n",
    " - 사진앨범을 보는 뷰어 윈도우 프로그램을 만들어 보세요."
   ]
  },
  {
   "cell_type": "code",
   "execution_count": null,
   "metadata": {},
   "outputs": [],
   "source": [
    "from tkinter import *\n",
    "from time import *\n",
    "\n",
    "## 전역  변수 선언 부분 ##\n",
    "fnameList = [\"jeju1.gif\", \"jeju2.gif\", \"jeju3.gif\",\n",
    "             \"jeju4.gif\", \"jeju5.gif\", \"jeju6.gif\",\n",
    "             \"jeju7.gif\", \"jeju8.gif\", \"jeju9.gif\"]\n",
    "photoList = [None] * 9\n",
    "num = 0\n",
    "\n",
    "## 함수 선언 부분 ## \n",
    "def clickNext() :\n",
    "    global num\n",
    "    num += 1\n",
    "    if num > 8 :\n",
    "        num = 0\n",
    "    photo = PhotoImage(file = \"gif/\" + fnameList[num])\n",
    "    pLabel.configure(image = photo)\n",
    "    pLabel.image = photo\n",
    "    nameLabel.configure(text=fnameList[num])\n",
    "    \n",
    "def clickPrev() :\n",
    "    global num\n",
    "    num -= 1\n",
    "    if num < 0 :\n",
    "        num = 8\n",
    "    photo = PhotoImage(file = \"gif/\" + fnameList[num])\n",
    "    pLabel.configure(image = photo)\n",
    "    pLabel.image=photo\n",
    "    nameLabel.configure(text=fnameList[num])\n",
    "    \n",
    "    \n",
    "## 메인 코드 부분\n",
    "window = Tk()\n",
    "window.geometry(\"700x500\")\n",
    "window.title(\"사진 앨범 보기\")\n",
    "\n",
    "btnPrev = Button(window, text = \"<< 이전\", command = clickPrev)\n",
    "btnNext = Button(window, text = \"다음 >>\", command = clickNext)\n",
    "\n",
    "photo = PhotoImage(file = \"gif/\" + fnameList[0])\n",
    "pLabel = Label(window, image = photo)\n",
    "\n",
    "nameLabel = Label(window, text=fnameList[0])\n",
    "\n",
    "btnPrev.place(x = 250, y = 10)\n",
    "nameLabel.place(x=330, y=10)\n",
    "btnNext.place(x = 400, y = 10)\n",
    "pLabel.place(x = 15, y = 50)\n",
    "\n",
    "window.mainloop()\n"
   ]
  },
  {
   "cell_type": "markdown",
   "metadata": {},
   "source": [
    "----"
   ]
  },
  {
   "cell_type": "markdown",
   "metadata": {},
   "source": [
    "## 03. 키보드와 마우스 이벤트 처리"
   ]
  },
  {
   "cell_type": "markdown",
   "metadata": {},
   "source": [
    "### #마우스 이벤트"
   ]
  },
  {
   "cell_type": "code",
   "execution_count": null,
   "metadata": {},
   "outputs": [],
   "source": [
    "# 마우스 왼쪽/가운데/오른쪽 버튼 클릭\n",
    "from tkinter import *\n",
    "from tkinter import messagebox\n",
    "\n",
    "## 함수 선언 부분 ## \n",
    "def clickLeft(event) :\n",
    "    messagebox.showinfo(\"마우스\", \"마우스 왼쪽 버튼이 클릭됨\")\n",
    "    \n",
    "def clickCenter(event) :\n",
    "    messagebox.showinfo(\"마우스\", \"마우스 가운데 버튼이 클릭됨\")\n",
    "\n",
    "def clickRight(event) :\n",
    "    messagebox.showinfo(\"마우스\", \"마우스 오른쪽 버튼이 클릭됨\")\n",
    "\n",
    "    \n",
    "## 메인 코드 부분\n",
    "window = Tk()\n",
    "\n",
    "window.bind(\"<Button-1>\", clickLeft)\n",
    "window.bind(\"<Button-2>\", clickCenter)\n",
    "window.bind(\"<Button-3>\", clickRight)\n",
    "\n",
    "window.mainloop()\n"
   ]
  },
  {
   "cell_type": "code",
   "execution_count": null,
   "metadata": {},
   "outputs": [],
   "source": [
    "# 지정된 위젯 클릭\n",
    "from tkinter import *\n",
    "from tkinter import messagebox\n",
    "\n",
    "## 함수 선언 부분 ## \n",
    "def clickImage(event) :\n",
    "    messagebox.showinfo(\"마우스\", \"토끼에서 마우스가  클릭됨\")\n",
    "    \n",
    "# 메인 코드 부분\n",
    "window = Tk()\n",
    "window.geometry(\"400x400\")\n",
    "\n",
    "photo = PhotoImage(file=\"gif/rabbit.gif\")\n",
    "label1 = Label(window, image=photo)\n",
    "\n",
    "# 레이블을 클릭함\n",
    "label1.bind(\"<Button>\", clickImage)\n",
    "\n",
    "label1.pack(expand=1, anchor=CENTER)\n",
    "\n",
    "window.mainloop()\n"
   ]
  },
  {
   "cell_type": "code",
   "execution_count": null,
   "metadata": {},
   "outputs": [],
   "source": [
    "# 이벤트 발생시 매개변수 전달 \n",
    "from tkinter import *\n",
    "\n",
    "## 함수 선언 부분 ## \n",
    "def clickMouse(event) :\n",
    "    txt = \"\"\n",
    "    if event.num == 1 :\n",
    "        txt += \"마우스 왼쪽 버튼이 (\"\n",
    "    elif event.num == 2 :\n",
    "        txt += \"마우스 가운데  버튼이 (\"\n",
    "    elif event.num == 3 :\n",
    "        txt += \"마우스 오른쪽  버튼이 (\"\n",
    "\n",
    "    txt += str(event.y) + \",\" + str(event.x) + \")에서 클릭됨\"\n",
    "    label1.configure(text = txt)\n",
    "    \n",
    "#메인 코드 부분\n",
    "window = Tk()\n",
    "window.geometry(\"400x400\")\n",
    "\n",
    "label1 = Label(window, text=\"이곳이 바뀜\")\n",
    "\n",
    "window.bind(\"<Button>\", clickMouse)\n",
    "\n",
    "label1.pack(expand=1, anchor=CENTER) #가운데가 센터\n",
    "\n",
    "window.mainloop()\n"
   ]
  },
  {
   "cell_type": "markdown",
   "metadata": {},
   "source": [
    "### #키보드 이벤트"
   ]
  },
  {
   "cell_type": "code",
   "execution_count": null,
   "metadata": {},
   "outputs": [],
   "source": [
    "# 눌린 키보드 키 표시하기\n",
    "from tkinter import *\n",
    "from tkinter import messagebox\n",
    "\n",
    "## 함수 선언 부분 ## \n",
    "def keyEvent(event) :\n",
    "    messagebox.showinfo(\"키보드 이벤트\", \"눌린 키: \" + chr(event.keycode))\n",
    "\n",
    "    \n",
    "## 메인 코드 부분\n",
    "window = Tk()\n",
    "\n",
    "window.bind(\"<Key>\", keyEvent)\n",
    "\n",
    "window.mainloop()\n"
   ]
  },
  {
   "cell_type": "markdown",
   "metadata": {},
   "source": [
    "### 실습문제\n",
    "눌린키 (shift + 화살표키) 표시하기"
   ]
  },
  {
   "cell_type": "code",
   "execution_count": null,
   "metadata": {},
   "outputs": [],
   "source": [
    "# 눌린키 (shift + 화살표키) 표시하기\n",
    "from tkinter import *\n",
    "from tkinter import messagebox\n",
    "\n",
    "def keyEvent(event) :\n",
    "    txt = \"눌린 키 : Shift +  \"\n",
    "    if event.keycode == 37 :\n",
    "        txt += \"왼쪽 화살표\"\n",
    "    elif event.keycode == 38 :\n",
    "        txt += \"위쪽 화살표\"\n",
    "    elif event.keycode == 39 :\n",
    "        txt += \"오른쪽 화살표\"\n",
    "    elif event.keycode == 40:\n",
    "        txt += \"아래쪽 화살표\"        \n",
    "    messagebox.showinfo(\"키보드 이벤트\", txt)\n",
    "    \n",
    "## 메인 코드 부분\n",
    "window = Tk()\n",
    "\n",
    "window.bind(\"<Shift-Up>\",keyEvent)\n",
    "window.bind(\"<Shift-Down>\",keyEvent)\n",
    "window.bind(\"<Shift-Left>\",keyEvent)\n",
    "window.bind(\"<Shift-Right>\",keyEvent)\n",
    "\n",
    "window.mainloop()"
   ]
  },
  {
   "cell_type": "code",
   "execution_count": null,
   "metadata": {},
   "outputs": [],
   "source": []
  },
  {
   "cell_type": "markdown",
   "metadata": {},
   "source": [
    "----"
   ]
  },
  {
   "cell_type": "markdown",
   "metadata": {},
   "source": [
    "## 04. 메뉴와 대화상자"
   ]
  },
  {
   "cell_type": "markdown",
   "metadata": {},
   "source": [
    "### #메뉴 생성"
   ]
  },
  {
   "cell_type": "code",
   "execution_count": null,
   "metadata": {},
   "outputs": [],
   "source": [
    "from tkinter import *\n",
    "from tkinter import messagebox\n",
    "\n",
    "## 함수 선언 부분\n",
    "def func_open() :\n",
    "    messagebox.showinfo(\"메뉴선택\", \"열기 메뉴를 선택함\")\n",
    "\n",
    "def func_exit() :\n",
    "    #window.quit() \n",
    "    window.destroy()  \n",
    "\n",
    "\n",
    "## 메인 코드 부분\n",
    "window = Tk()\n",
    "\n",
    "#이 윈도우에 메뉴속성을 가진 변수 메인메뉴형성.\n",
    "mainMenu = Menu(window)\n",
    "window.config(menu = mainMenu)\n",
    "\n",
    "#이 메뉴에 메뉴속성을 가진 변수 파일메뉴형성\n",
    "fileMenu = Menu(mainMenu)\n",
    "mainMenu.add_cascade(label = \"파일\", menu = fileMenu)\n",
    "fileMenu.add_command(label = \"열기\", command=func_open)\n",
    "fileMenu.add_separator()\n",
    "fileMenu.add_command(label = \"종료\", command=func_exit)\n",
    "\n",
    "window.mainloop()\n",
    "\n"
   ]
  },
  {
   "cell_type": "markdown",
   "metadata": {},
   "source": [
    "### #대화상자"
   ]
  },
  {
   "cell_type": "code",
   "execution_count": null,
   "metadata": {},
   "outputs": [],
   "source": [
    "#기본 대화상자\n",
    "from tkinter import *\n",
    "from tkinter.simpledialog import * \n",
    "\n",
    "## 메인 코드 부분\n",
    "window = Tk()\n",
    "window.geometry(\"400x400\")\n",
    "\n",
    "label1 = Label(window, text=\"입력된 값\")\n",
    "label1.pack()\n",
    "\n",
    "#input처럼 메시지 프린트하면서 값 입력받음. 숫자로.ask가 팝업창 띄워서 입력받나봄.\n",
    "value = askinteger(\"확대배수\", \"주사위 숫자(1~6)을 입력하세요\",\n",
    "                   minvalue=1, maxvalue=6)\n",
    "\n",
    "#위에서 라벨을 ,pack()했으니까 다시 붙이지는 않고, 내용만 바꿈.\n",
    "label1.configure(text = str(value))\n",
    "\n",
    "window.mainloop()\n"
   ]
  },
  {
   "cell_type": "code",
   "execution_count": null,
   "metadata": {},
   "outputs": [],
   "source": [
    "# 그림파일 읽기\n",
    "from tkinter import *\n",
    "from tkinter.filedialog import * \n",
    "\n",
    "## 메인 코드 부분\n",
    "window = Tk()\n",
    "window.geometry(\"400x400\")\n",
    "\n",
    "label1 = Label(window, text=\"선택된 파일 이름\")\n",
    "label1.pack()\n",
    "\n",
    "#그림파일  선택(읽기). ask가 팝업창 띄워서 입력받나봄.\n",
    "filename = askopenfile(parent=window, filetypes=((\"GIF 파일\", \"*.gif\"),\n",
    "               (\"모든 파일\",\"*.*\")))\n",
    "#해당 이미지파일의 위치와 파일명과 인코딩등 정보가 뜸\n",
    "label1.configure(text = str(filename))\n",
    "#label1.configure(image=filename)\n",
    "window.mainloop()\n",
    "\n",
    "#그림파일 저장하기\n",
    "# saveFp = asksaveasfile(parent=window, mode=\"w\", defaultextension=\".jpg\",\n",
    "#                     filetypes=((\"JPG 파일\", \"*.jpg;*.jpeg\"),(\"모든 파일\",\"*.*\")))\n",
    "\n",
    "# label1.configure(text = saveFp)\n",
    "# saveFp.close()"
   ]
  },
  {
   "cell_type": "markdown",
   "metadata": {},
   "source": [
    "### 실습문제\n",
    " - 명화 감상 윈도우 프로그램 만들기"
   ]
  },
  {
   "cell_type": "code",
   "execution_count": null,
   "metadata": {},
   "outputs": [],
   "source": [
    "#명화 감상 윈도우 프로그램\n",
    "from tkinter import *\n",
    "from tkinter.filedialog import *\n",
    "\n",
    "## 함수 선언 부분 ##\n",
    "def func_open() :\n",
    "    filename = askopenfilename(parent = window,\n",
    "                        filetypes = ((\"GIF 파일\", \"*.gif\"), (\"모든 파일\", \"*.*\")))\n",
    "    photo = PhotoImage(file = filename)\n",
    "    pLabel.configure(image = photo)\n",
    "    pLabel.image = photo\n",
    "\n",
    "def func_exit() :\n",
    "    window.quit()\n",
    "    window.destroy()\n",
    "\n",
    "## 메인 코드  부분 ##\n",
    "window = Tk()\n",
    "window.geometry(\"400x400\")\n",
    "window.title(\"명화 감상하기\")\n",
    "\n",
    "photo = PhotoImage()\n",
    "pLabel = Label(window, image = photo)\n",
    "pLabel.pack(expand=1, anchor = CENTER)\n",
    "\n",
    "mainMenu = Menu(window)\n",
    "window.config(menu = mainMenu)\n",
    "fileMenu = Menu(mainMenu)\n",
    "mainMenu.add_cascade(label = \"파일\", menu = fileMenu)\n",
    "fileMenu.add_command(label = \"파일 열기\", command = func_open)\n",
    "fileMenu.add_separator()\n",
    "fileMenu.add_command(label = \"프로그램 종료\", command = func_exit)\n",
    "\n",
    "window.mainloop()"
   ]
  },
  {
   "cell_type": "markdown",
   "metadata": {},
   "source": [
    "### 실습문제\n",
    " - 메인 윈도우에서 서브 윈도우 생성, 프레임 사용한 레이아웃과 이벤트"
   ]
  },
  {
   "cell_type": "code",
   "execution_count": null,
   "metadata": {},
   "outputs": [],
   "source": [
    "from tkinter import *\n",
    " \n",
    "class MainApp():\n",
    "    def __init__(self, master):\n",
    "        self.master = master\n",
    "        # 위젯정의\n",
    "        self.btn1 = Button(text=\"버튼 Disable\", command=self.changeMain)\n",
    "        self.btn2 = Button(text=\"서브창 실행\", command=self.newWindow)\n",
    "        # 위젯배치\n",
    "        self.btn1.grid(row=0, sticky=\"EW\")\n",
    "        self.btn2.grid(row=2, sticky=\"EW\")\n",
    " \n",
    "    def changeMain(self):\n",
    "        self.btn1[\"text\"]=\"변경완료\"\n",
    "        self.btn1.config(state=DISABLED)\n",
    " \n",
    "    def newWindow(self):\n",
    "        self.master.withdraw()\n",
    "        self.newWindow = Toplevel(self.master)\n",
    "        Sub = SubApp(self.newWindow)\n",
    "        \n",
    "class SubApp():\n",
    "    def __init__(self, slave):\n",
    "        self.slave = slave\n",
    "        # 메인 컨테이너(프레임) 생성 및 배치\n",
    "        menuF = Frame(self.slave, bg='gray', width=100)\n",
    "        mainF = Frame(self.slave, bg='white', width=500, height=500)\n",
    "        menuF.grid(row=0, column=0, sticky=\"nsew\")\n",
    "        mainF.grid(row=0, column=1, sticky=\"nsew\")\n",
    "        # 프레임에 버튼 및 Text 위젯 추가\n",
    "        Button(menuF, text=\"서브버튼1\", command=self.changeSub).grid(row=0, column=0)\n",
    "        self.txt1 = Text(mainF)\n",
    "        self.txt1.grid(row=0)\n",
    " \n",
    "    def changeSub(self):\n",
    "        self.txt1.insert(END, \"Hello \\n\")\n",
    "        \n",
    "def main():\n",
    "    window = Tk()\n",
    "    MainApp(window)\n",
    "    window.mainloop()\n",
    "    \n",
    "    \n",
    "if __name__ == \"__main__\":\n",
    "    main()"
   ]
  },
  {
   "cell_type": "markdown",
   "metadata": {},
   "source": [
    "### 실습문제\n",
    "- 일정시간마다 Ping 점검하는 GUI 프로그램"
   ]
  },
  {
   "cell_type": "code",
   "execution_count": null,
   "metadata": {},
   "outputs": [],
   "source": [
    "from tkinter import *\n",
    "from tkinter import ttk\n",
    "from subprocess import call \n",
    "import datetime\n",
    "import threading\n",
    " \n",
    "window = Tk()\n",
    " \n",
    "# ping 점검 함수\n",
    "def icmpCheck():\n",
    "    sleepTime = int(cb1.get())\n",
    "    threading.Timer(sleepTime, icmpCheck).start()\n",
    "    host = input1.get()\n",
    "    response = call(\"ping -4 -n 1 -w 10 \" + host)\n",
    "    txt1.insert(INSERT, datetime.datetime.now())\n",
    "    txt1.insert(END, \"\\n\" + host)\n",
    "    \n",
    "    if response == 0:\n",
    "        txt1.insert(END, \" UP \\n\")\n",
    "    else:\n",
    "        txt1.insert(END, \" DOWN \\n\")\n",
    "        \n",
    "        \n",
    "# 위젯정의\n",
    "input1 = Entry()\n",
    "input1.insert(0, 'IP or 도메인')\n",
    "input1 = Entry(textvariable='IP')\n",
    "cb1 = ttk.Combobox(values=(\"10\", \"30\", \"60\", \"120\"))\n",
    "cb1.current(0)\n",
    "lbl1 = Label(text=\" 초(sec)\")\n",
    "btn1 = Button(text=\"핑점검\", command=icmpCheck)\n",
    "txt1 = Text(height=10, width=30)\n",
    "\n",
    "# grid()로 위젯배치\n",
    "input1.grid(row=0, column=0, columnspan=2, sticky=W+E)\n",
    "cb1.grid(row=1, column=0)\n",
    "lbl1.grid(row=1, column=1, sticky=W)\n",
    "btn1.grid(row=2, column=0, columnspan=2, sticky=W+E)\n",
    "txt1.grid(row=3, column=0, columnspan=2)\n",
    " \n",
    "    \n",
    "if __name__ == '__main__':\n",
    "    window.mainloop()"
   ]
  },
  {
   "cell_type": "code",
   "execution_count": null,
   "metadata": {},
   "outputs": [],
   "source": []
  }
 ],
 "metadata": {
  "kernelspec": {
   "display_name": "Python 3 (ipykernel)",
   "language": "python",
   "name": "python3"
  },
  "language_info": {
   "codemirror_mode": {
    "name": "ipython",
    "version": 3
   },
   "file_extension": ".py",
   "mimetype": "text/x-python",
   "name": "python",
   "nbconvert_exporter": "python",
   "pygments_lexer": "ipython3",
   "version": "3.8.10"
  }
 },
 "nbformat": 4,
 "nbformat_minor": 4
}

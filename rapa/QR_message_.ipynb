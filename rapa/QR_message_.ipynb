{
 "cells": [
  {
   "cell_type": "code",
   "execution_count": null,
   "id": "5e9c40c9",
   "metadata": {},
   "outputs": [],
   "source": [
    "\n",
    "\"\"\"\n",
    "QR 출석체크 메시지 띄워주는 프로그램\n",
    "---------------------------------\n",
    "resource_path() : 상대경로를 절대경로를 바꿔주는 코드.\n",
    "                  이미지파일을 실행파일에 넣고자 할 경우 입력해야 파일을 찾을 수 있음.\n",
    "               \n",
    "프로세스 :   1. Tkinter로 윈도우 인스턴스 생성\n",
    "            2. QR 코드 이미지를 레이블로 불러옴\n",
    "            3. 레이블을 윈도우에 붙이고 화면에 출력.\n",
    "\n",
    "* 추가작업 : 윈도우 작업스케쥴러에서 am.9시, pm.6시에 이 프로그램을 실행하도록 설정.\n",
    "\"\"\"\n"
   ]
  },
  {
   "cell_type": "code",
   "execution_count": null,
   "id": "8b7f840b",
   "metadata": {},
   "outputs": [],
   "source": [
    "import os\n",
    "from tkinter import *"
   ]
  },
  {
   "cell_type": "code",
   "execution_count": null,
   "id": "31ebb59d",
   "metadata": {},
   "outputs": [],
   "source": [
    "def resource_path(relative_path):\n",
    "    try:\n",
    "        base_path = sys._MEIPASS\n",
    "    except Exception:\n",
    "        base_path = os.path.abspath(\".\")\n",
    "\n",
    "    return os.path.join(base_path, relative_path)"
   ]
  },
  {
   "cell_type": "code",
   "execution_count": null,
   "id": "9abf1ccf",
   "metadata": {},
   "outputs": [],
   "source": [
    "window = Tk()\n",
    "window.title(\"QR출석체크\")\n",
    "\n",
    "# 현재 작업파일이 있는 상위 디렉토리를 제외하고 상대경로를 입력하면 된다. \n",
    "qr_image = PhotoImage(file=resource_path(\"qr.gif\"))\n",
    "label1 = Label(window, image=qr_image)\n",
    "#for리눅스용(한줄추가)\n",
    "label1.image = qr_image\n",
    "\n",
    "label1.pack()\n",
    "\n",
    "window.mainloop()"
   ]
  }
 ],
 "metadata": {
  "kernelspec": {
   "display_name": "Python 3 (ipykernel)",
   "language": "python",
   "name": "python3"
  },
  "language_info": {
   "codemirror_mode": {
    "name": "ipython",
    "version": 3
   },
   "file_extension": ".py",
   "mimetype": "text/x-python",
   "name": "python",
   "nbconvert_exporter": "python",
   "pygments_lexer": "ipython3",
   "version": "3.8.10"
  }
 },
 "nbformat": 4,
 "nbformat_minor": 5
}

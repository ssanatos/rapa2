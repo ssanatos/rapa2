{
 "cells": [
  {
   "cell_type": "code",
   "execution_count": 1,
   "source": [
    "from tkinter import *\r\n",
    "\r\n",
    "window = Tk()\r\n",
    "window.title(\"QR출쳌\")\r\n",
    "\r\n",
    "qr_image = PhotoImage(file=\"qr.gif\")\r\n",
    "label1 = Label(window, image=qr_image)\r\n",
    "#for리눅스용(한줄추가)\r\n",
    "label1.image = qr_image\r\n",
    "\r\n",
    "label1.pack()\r\n",
    "\r\n",
    "window.mainloop()"
   ],
   "outputs": [],
   "metadata": {}
  },
  {
   "cell_type": "code",
   "execution_count": null,
   "source": [
    "# pyinstaller -w --add-data='*.gif;./' -F -i='qr_icon.ico' .\\rapa\\QR_message.ipynb"
   ],
   "outputs": [],
   "metadata": {}
  }
 ],
 "metadata": {
  "kernelspec": {
   "name": "python3",
   "display_name": "Python 3.8.10 64-bit"
  },
  "language_info": {
   "codemirror_mode": {
    "name": "ipython",
    "version": 3
   },
   "file_extension": ".py",
   "mimetype": "text/x-python",
   "name": "python",
   "nbconvert_exporter": "python",
   "pygments_lexer": "ipython3",
   "version": "3.8.10"
  },
  "interpreter": {
   "hash": "a248ee2b75b2cfe4cb0741da8651464fa227ad10b1dd03ad8a0df0c0771cdb02"
  }
 },
 "nbformat": 4,
 "nbformat_minor": 5
}